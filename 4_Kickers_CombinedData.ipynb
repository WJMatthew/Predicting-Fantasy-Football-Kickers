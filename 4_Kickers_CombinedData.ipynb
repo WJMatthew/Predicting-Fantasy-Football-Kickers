{
 "cells": [
  {
   "cell_type": "markdown",
   "metadata": {},
   "source": [
    "# Putting the pieces of kicker data together \n",
    "#### Matthew Johnson, August 13, 2018"
   ]
  },
  {
   "cell_type": "markdown",
   "metadata": {
    "collapsed": true
   },
   "source": [
    "$KickerPts = 1 *(Made PAT) + 3*(FG_{d\\leq 39}) + 4*(FG_{d\\in [40,49]}) + 5*(FG_{d\\geq 50}) - 1*(Missed FG)$\n",
    "<br>\n",
    "\n",
    "- Calculate predictions for data, data + vegas, data + weather, all 3"
   ]
  },
  {
   "cell_type": "code",
   "execution_count": 1,
   "metadata": {
    "collapsed": true
   },
   "outputs": [],
   "source": [
    "%matplotlib inline\n",
    "import pandas as pd\n",
    "import numpy as np\n",
    "import matplotlib.pyplot as plt\n",
    "import seaborn as sns\n",
    "import warnings\n",
    "from sklearn.base import TransformerMixin, BaseEstimator, clone\n",
    "from sklearn.pipeline import Pipeline, make_pipeline\n",
    "warnings.filterwarnings('ignore')\n",
    "\n",
    "kickers09to17 = pd.read_csv('kicker_data_09_17.csv')\n",
    "weather09to13 = pd.read_csv('weather_data09to13.csv') \n",
    "vegas09to17 = pd.read_csv('vegas_odds09to17.csv') # Weeks 6-16\n",
    "\n",
    "dfs = [kickers09to17, weather09to13, vegas09to17]\n",
    "dfs[1].drop('Unnamed: 0', axis=1, inplace=True)\n",
    "dfs[2].drop('Unnamed: 0', axis=1, inplace=True)"
   ]
  },
  {
   "cell_type": "code",
   "execution_count": 2,
   "metadata": {},
   "outputs": [
    {
     "name": "stdout",
     "output_type": "stream",
     "text": [
      "(2642, 65)\n",
      "(2058, 16)\n",
      "(2878, 10)\n"
     ]
    }
   ],
   "source": [
    "mergecodes = []\n",
    "mergecodes2 = []\n",
    "\n",
    "for df in dfs:\n",
    "    print (df.shape)\n",
    "    mergecodes.append(list(df['mergeCode'].unique()))\n",
    "    mergecodes2.append(list(df['mergeCode2'].unique()))"
   ]
  },
  {
   "cell_type": "code",
   "execution_count": 122,
   "metadata": {},
   "outputs": [
    {
     "name": "stdout",
     "output_type": "stream",
     "text": [
      "kicker+weather: 1270\n",
      "int_all: 1199\n"
     ]
    }
   ],
   "source": [
    "# deciding whether to merge on mergeCode\n",
    "A = set(mergecodes[0]) # A - kicker data\n",
    "B = set(mergecodes[1]) # B - weather\n",
    "C = set(mergecodes[2]) # C - vegas odds\n",
    "\n",
    "intersect1 = A.intersection(B)\n",
    "intersect_all = intersect1.intersection(C)\n",
    "print('kicker+weather:', len(intersect1))\n",
    "print('int_all:', len(intersect_all))"
   ]
  },
  {
   "cell_type": "code",
   "execution_count": 123,
   "metadata": {},
   "outputs": [
    {
     "name": "stdout",
     "output_type": "stream",
     "text": [
      "kicker+weather: 1330\n",
      "int_all: 1214\n"
     ]
    }
   ],
   "source": [
    "# deciding whether to merge on mergeCode2\n",
    "A = set(mergecodes2[0]) # A - kicker data\n",
    "B = set(mergecodes2[1]) # B - weather\n",
    "C = set(mergecodes2[2]) # C - vegas odds\n",
    "\n",
    "intersect1 = A.intersection(B)\n",
    "intersect_all = intersect1.intersection(C)\n",
    "print('kicker+weather:', len(intersect1))\n",
    "print('int_all:', len(intersect_all))"
   ]
  },
  {
   "cell_type": "code",
   "execution_count": 5,
   "metadata": {},
   "outputs": [
    {
     "name": "stdout",
     "output_type": "stream",
     "text": [
      "(1232, 89)\n"
     ]
    }
   ],
   "source": [
    "# mergeCode2 it is:\n",
    "df1 = pd.merge(dfs[0], dfs[1], on='mergeCode2', how='inner')\n",
    "df2 = pd.merge(df1, dfs[2], on='mergeCode2', how='inner')\n",
    "print(df2.shape)"
   ]
  },
  {
   "cell_type": "code",
   "execution_count": 6,
   "metadata": {
    "collapsed": true
   },
   "outputs": [],
   "source": [
    "offenseVariables = ['3rdDown_rate', 'Drive', 'FirstDown','Kicker_Pts',\n",
    "    'TwoPointConv','Drive_rolling5', 'Kicker_Pts_rolling5', \n",
    "    'PointsScored_rolling5', 'Yards.Gained_rolling5', 'FG_range_per_drive', 'RZ_per_drive',\n",
    "    'punts_per_drive', 'Completion_pct', 'TwoPoint_conv_rate']\n",
    "\n",
    "defenseVariables = ['DEF_3rdDownSuccess_rolling5', 'DEF_Drive_rolling5', 'DEF_FirstDown_rolling5', \n",
    "    'DEF_Kicker_Pts_rolling5',  'DEF_Touchdown_rolling5', \n",
    "    'DEF_Yards.Gained_rolling5','DEF_FG_range_per_drive', 'DEF_RZ_per_drive', 'DEF_PointsScored_rolling5',\n",
    "    'DEF_punts_per_drive', 'DEF_Completion_pct']\n",
    "\n",
    "generalVariables = ['offenseTeam.1', 'defenseTeam_x', 'Season_x', 'Week_y', 'date_x', \n",
    "        'off_score', 'def_score', 'temperature', 'wind_chill', 'humidity', 'wind_mph', \n",
    "        'home_team', 'Year', \n",
    "        'Relative_Line', 'Total', 'Exp_Pts', 'mergeCode', 'mergeCode2', 'mergeCode_x']\n",
    "\n",
    "df_off = df2[offenseVariables]\n",
    "df_def = df2[defenseVariables]\n",
    "df_gen = df2[generalVariables]\n",
    "\n",
    "df_gen.columns = ['offenseTeam', 'defenseTeam', 'Season', 'Week', 'date',\n",
    "       'off_score', 'def_score', 'temperature', 'wind_chill', 'humidity',\n",
    "       'wind_mph', 'home_team', 'Year', 'Relative_Line', 'Total', 'Exp_Pts', \n",
    "       'mergeCode', 'mergeCode2', 'mergeCode_x']\n",
    "\n",
    "data = pd.concat([df_gen, df_off, df_def], axis=1)\n",
    "kicker_pts = df2['Kicker_Pts']"
   ]
  },
  {
   "cell_type": "code",
   "execution_count": 7,
   "metadata": {},
   "outputs": [
    {
     "data": {
      "text/plain": [
       "(65, 44)"
      ]
     },
     "execution_count": 7,
     "metadata": {},
     "output_type": "execute_result"
    }
   ],
   "source": [
    "# outliers, not currently being used\n",
    "outliers = data[ (data['Kicker_Pts'] <= 1) | (data['Kicker_Pts'] >= 25)]\n",
    "outliers.shape\n",
    "#data_drop_outliers = data[ (data['Kicker_Pts'] >= 1) | (data['Kicker_Pts'] <= 25)]"
   ]
  },
  {
   "cell_type": "markdown",
   "metadata": {},
   "source": [
    "**We remove the 'off_score' and 'def_score' due to those being unknown quantities pre game, leaving these in would cause data leakage.**"
   ]
  },
  {
   "cell_type": "code",
   "execution_count": 8,
   "metadata": {
    "collapsed": true
   },
   "outputs": [],
   "source": [
    "data2 = data.drop(['off_score', 'def_score'], axis=1)\n",
    "data2['Season'] = data2['Season'].astype('category')\n",
    "data2['Week'] = data2['Week'].astype('category')\n",
    "data2['Year'] = data2['Year'].astype('category')\n",
    "\n",
    "num_data = data2.select_dtypes(include=['int64', 'float64'])"
   ]
  },
  {
   "cell_type": "markdown",
   "metadata": {},
   "source": [
    "**Visualizing Kicker_Pts distribution:**"
   ]
  },
  {
   "cell_type": "code",
   "execution_count": 115,
   "metadata": {},
   "outputs": [
    {
     "data": {
      "image/png": "[encoded data removed]",
      "text/plain": [
       "<Figure size 432x288 with 1 Axes>"
      ]
     },
     "metadata": {},
     "output_type": "display_data"
    }
   ],
   "source": [
    "from scipy.stats import norm\n",
    "\n",
    "sns.distplot(kicker_pts, bins=20, fit=norm,\n",
    "            kde_kws={\"color\": \"k\", \"lw\": 3, \"label\": \"KDE\"},\n",
    "            hist_kws={\"histtype\": \"step\", \"linewidth\": 3,\"alpha\": 1, \"color\": \"g\"});"
   ]
  },
  {
   "cell_type": "markdown",
   "metadata": {},
   "source": [
    "### Correlations:"
   ]
  },
  {
   "cell_type": "code",
   "execution_count": 119,
   "metadata": {},
   "outputs": [
    {
     "data": {
      "image/png": "[encoded data removed]",
      "text/plain": [
       "<Figure size 864x720 with 2 Axes>"
      ]
     },
     "metadata": {},
     "output_type": "display_data"
    }
   ],
   "source": [
    "sns.set(style=\"white\", context=\"talk\")\n",
    "\n",
    "corr = data.corr()['Kicker_Pts'].sort_values(ascending=False)\n",
    "\n",
    "corr_rank_high = corr_rank[1:16]\n",
    "corr_rank_low = corr_rank[-18:-3].sort_values(ascending=True)\n",
    "\n",
    "f, (ax1, ax2) = plt.subplots(2, 1, figsize=(12, 10), sharex=True)\n",
    "\n",
    "sns.barplot(y=corr_rank_high.index, x=corr_rank_high.values, palette=\"rocket\", ax=ax1)\n",
    "ax1.axhline(0, color=\"k\", clip_on=False)\n",
    "ax1.set_title('Top 15 correlated predictor variables with target')\n",
    "\n",
    "sns.barplot(y=corr_rank_low.index, x=corr_rank_low.values, palette=\"vlag\", ax=ax2)\n",
    "ax2.axhline(0, color=\"k\", clip_on=False)\n",
    "ax2.set_title('Bottom 15 correlated predictor variables with target');"
   ]
  },
  {
   "cell_type": "markdown",
   "metadata": {},
   "source": [
    "It seems as the defensive quantities are slightly more correlated in a few aspects including their last 5 game mean of allowed Kicker Pts (DEF_Kicker_Pts_rolling5) vs the kicker's team's last 5 game mean of Kicker Pts scored(Kicker_Pts_rolling5) and Points Allowed (DEF_PointsScored_rolling5) vs Points Scored (PointsScored_rolling5) moving averages.<br>\n",
    "On the other end of the spectrum, the more a team punts in relation to the number of drives (punts_per_drive) the worse the performance of the kicker. "
   ]
  },
  {
   "cell_type": "markdown",
   "metadata": {},
   "source": [
    "### Modelling"
   ]
  },
  {
   "cell_type": "code",
   "execution_count": 12,
   "metadata": {
    "collapsed": true
   },
   "outputs": [],
   "source": [
    "from sklearn.linear_model import ElasticNet, Lasso, LassoLarsIC\n",
    "from sklearn.ensemble import RandomForestRegressor,  GradientBoostingRegressor\n",
    "from sklearn.kernel_ridge import KernelRidge\n",
    "from sklearn.pipeline import make_pipeline\n",
    "from sklearn.preprocessing import RobustScaler\n",
    "from sklearn.base import BaseEstimator, TransformerMixin, RegressorMixin, clone\n",
    "from sklearn.model_selection import KFold, cross_val_score, train_test_split\n",
    "from sklearn.metrics import mean_squared_error\n",
    "import xgboost as xgb\n",
    "\n",
    "pd.set_option('display.float_format', lambda x: '{:.3f}'.format(x)) #Limiting floats output to 3 decimal points"
   ]
  },
  {
   "cell_type": "code",
   "execution_count": 17,
   "metadata": {},
   "outputs": [],
   "source": [
    "rolling_kpts = num_data['Kicker_Pts_rolling5'].copy()\n",
    "rolling_kpts.columns = ['Kicker_Pts_rolling5b']\n",
    "def_rolling_kpts = num_data['DEF_Kicker_Pts_rolling5'].copy()\n",
    "def_rolling_kpts.columns = ['DEF_Kicker_Pts_rolling5b']"
   ]
  },
  {
   "cell_type": "code",
   "execution_count": 20,
   "metadata": {},
   "outputs": [
    {
     "name": "stdout",
     "output_type": "stream",
     "text": [
      "\n",
      "Skew in numerical features: \n",
      "\n"
     ]
    },
    {
     "data": {
      "text/html": [
       "<div>\n",
       "<style>\n",
       "    .dataframe thead tr:only-child th {\n",
       "        text-align: right;\n",
       "    }\n",
       "\n",
       "    .dataframe thead th {\n",
       "        text-align: left;\n",
       "    }\n",
       "\n",
       "    .dataframe tbody tr th {\n",
       "        vertical-align: top;\n",
       "    }\n",
       "</style>\n",
       "<table border=\"1\" class=\"dataframe\">\n",
       "  <thead>\n",
       "    <tr style=\"text-align: right;\">\n",
       "      <th></th>\n",
       "      <th>Skew</th>\n",
       "    </tr>\n",
       "  </thead>\n",
       "  <tbody>\n",
       "    <tr>\n",
       "      <th>TwoPointConv</th>\n",
       "      <td>5.544</td>\n",
       "    </tr>\n",
       "    <tr>\n",
       "      <th>3rdDown_rate</th>\n",
       "      <td>4.762</td>\n",
       "    </tr>\n",
       "    <tr>\n",
       "      <th>DEF_3rdDownSuccess_rolling5</th>\n",
       "      <td>3.305</td>\n",
       "    </tr>\n",
       "    <tr>\n",
       "      <th>wind_mph</th>\n",
       "      <td>1.306</td>\n",
       "    </tr>\n",
       "    <tr>\n",
       "      <th>DEF_FirstDown_rolling5</th>\n",
       "      <td>0.344</td>\n",
       "    </tr>\n",
       "  </tbody>\n",
       "</table>\n",
       "</div>"
      ],
      "text/plain": [
       "                             Skew\n",
       "TwoPointConv                5.544\n",
       "3rdDown_rate                4.762\n",
       "DEF_3rdDownSuccess_rolling5 3.305\n",
       "wind_mph                    1.306\n",
       "DEF_FirstDown_rolling5      0.344"
      ]
     },
     "execution_count": 20,
     "metadata": {},
     "output_type": "execute_result"
    }
   ],
   "source": [
    "from scipy.stats import norm, skew\n",
    "\n",
    "all_data = num_data.drop(['Kicker_Pts', 'Relative_Line', 'TwoPoint_conv_rate'], axis=1)\n",
    "\n",
    "numeric_feats = all_data.dtypes[all_data.dtypes != \"object\"].index\n",
    "\n",
    "# Check the skew of all numerical features\n",
    "skewed_feats = all_data[numeric_feats].apply(lambda x: skew(x.dropna())).sort_values(ascending=False)\n",
    "print(\"\\nSkew in numerical features: \\n\")\n",
    "skewness = pd.DataFrame({'Skew' :skewed_feats})\n",
    "skewness.head()"
   ]
  },
  {
   "cell_type": "code",
   "execution_count": 21,
   "metadata": {},
   "outputs": [
    {
     "name": "stdout",
     "output_type": "stream",
     "text": [
      "There are 29 skewed numerical features to Box Cox transform\n"
     ]
    }
   ],
   "source": [
    "skewness = skewness[abs(skewness) > 0.75]\n",
    "\n",
    "from scipy.special import boxcox1p\n",
    "skewed_features = skewness.index\n",
    "#skewed_features = skewed_features.drop(['Relative_Line', 'TwoPoint_conv_rate'])\n",
    "print(\"There are {} skewed numerical features to Box Cox transform\".format(len(skewed_features)))\n",
    "\n",
    "lam = 0.15\n",
    "for feat in skewed_features:\n",
    "    all_data[feat] = boxcox1p(all_data[feat], lam)\n",
    "    \n",
    "#all_data = pd.concat([all_data, num_data['Relative_Line']], axis=1)"
   ]
  },
  {
   "cell_type": "code",
   "execution_count": 22,
   "metadata": {
    "collapsed": true
   },
   "outputs": [],
   "source": [
    "all_data['3rdDown_rate'].fillna(all_data['3rdDown_rate'].mean(), inplace=True)\n",
    "all_data['wind_chill'].fillna(all_data['temperature'], inplace=True)"
   ]
  },
  {
   "cell_type": "code",
   "execution_count": 27,
   "metadata": {
    "collapsed": true
   },
   "outputs": [],
   "source": [
    "from sklearn.model_selection import train_test_split\n",
    "from sklearn.ensemble import RandomForestRegressor\n",
    "\n",
    "X = pd.concat([all_data, rolling_kpts, num_data['Relative_Line']], axis=1)\n",
    "y = kicker_pts\n",
    "\n",
    "Xtrain, Xtest, ytrain, ytest = train_test_split(X, y)\n",
    "\n",
    "rf2 = RandomForestRegressor(n_estimators = 1000, random_state = 2018)\n",
    "rf2.fit(Xtrain, ytrain);"
   ]
  },
  {
   "cell_type": "code",
   "execution_count": 28,
   "metadata": {},
   "outputs": [
    {
     "name": "stdout",
     "output_type": "stream",
     "text": [
      "Mean Absolute Error: 3.02\n"
     ]
    }
   ],
   "source": [
    "predictions2 = rf2.predict(Xtest)\n",
    "errors = abs(predictions2 - ytest)\n",
    "print('Mean Absolute Error:', round(np.mean(errors), 2))"
   ]
  },
  {
   "cell_type": "code",
   "execution_count": 256,
   "metadata": {},
   "outputs": [
    {
     "name": "stdout",
     "output_type": "stream",
     "text": [
      "Mean Absolute Error: 2.84\n"
     ]
    }
   ],
   "source": [
    "predictions2 = rf2.predict(Xtest)\n",
    "errors = abs(predictions2 - ytest)\n",
    "print('Mean Absolute Error:', round(np.mean(errors), 2))"
   ]
  },
  {
   "cell_type": "code",
   "execution_count": 257,
   "metadata": {},
   "outputs": [
    {
     "data": {
      "image/png": "[encoded data removed]",
      "text/plain": [
       "<Figure size 432x288 with 1 Axes>"
      ]
     },
     "metadata": {},
     "output_type": "display_data"
    }
   ],
   "source": [
    "sns.scatterplot(x=ytest, y=predictions);"
   ]
  },
  {
   "cell_type": "code",
   "execution_count": 60,
   "metadata": {},
   "outputs": [
    {
     "data": {
      "text/html": [
       "<div>\n",
       "<style>\n",
       "    .dataframe thead tr:only-child th {\n",
       "        text-align: right;\n",
       "    }\n",
       "\n",
       "    .dataframe thead th {\n",
       "        text-align: left;\n",
       "    }\n",
       "\n",
       "    .dataframe tbody tr th {\n",
       "        vertical-align: top;\n",
       "    }\n",
       "</style>\n",
       "<table border=\"1\" class=\"dataframe\">\n",
       "  <thead>\n",
       "    <tr style=\"text-align: right;\">\n",
       "      <th></th>\n",
       "      <th>feature</th>\n",
       "      <th>importance</th>\n",
       "    </tr>\n",
       "  </thead>\n",
       "  <tbody>\n",
       "    <tr>\n",
       "      <th>21</th>\n",
       "      <td>DEF_Kicker_Pts_rolling5</td>\n",
       "      <td>0.150</td>\n",
       "    </tr>\n",
       "    <tr>\n",
       "      <th>11</th>\n",
       "      <td>Kicker_Pts_rolling5</td>\n",
       "      <td>0.114</td>\n",
       "    </tr>\n",
       "    <tr>\n",
       "      <th>29</th>\n",
       "      <td>Kicker_Pts_rolling5</td>\n",
       "      <td>0.099</td>\n",
       "    </tr>\n",
       "    <tr>\n",
       "      <th>8</th>\n",
       "      <td>FirstDown</td>\n",
       "      <td>0.041</td>\n",
       "    </tr>\n",
       "    <tr>\n",
       "      <th>23</th>\n",
       "      <td>DEF_Yards.Gained_rolling5</td>\n",
       "      <td>0.039</td>\n",
       "    </tr>\n",
       "    <tr>\n",
       "      <th>16</th>\n",
       "      <td>punts_per_drive</td>\n",
       "      <td>0.038</td>\n",
       "    </tr>\n",
       "    <tr>\n",
       "      <th>13</th>\n",
       "      <td>Yards.Gained_rolling5</td>\n",
       "      <td>0.037</td>\n",
       "    </tr>\n",
       "    <tr>\n",
       "      <th>25</th>\n",
       "      <td>DEF_RZ_per_drive</td>\n",
       "      <td>0.033</td>\n",
       "    </tr>\n",
       "    <tr>\n",
       "      <th>12</th>\n",
       "      <td>PointsScored_rolling5</td>\n",
       "      <td>0.032</td>\n",
       "    </tr>\n",
       "    <tr>\n",
       "      <th>0</th>\n",
       "      <td>temperature</td>\n",
       "      <td>0.032</td>\n",
       "    </tr>\n",
       "  </tbody>\n",
       "</table>\n",
       "</div>"
      ],
      "text/plain": [
       "                      feature  importance\n",
       "21    DEF_Kicker_Pts_rolling5       0.150\n",
       "11        Kicker_Pts_rolling5       0.114\n",
       "29        Kicker_Pts_rolling5       0.099\n",
       "8                   FirstDown       0.041\n",
       "23  DEF_Yards.Gained_rolling5       0.039\n",
       "16            punts_per_drive       0.038\n",
       "13      Yards.Gained_rolling5       0.037\n",
       "25           DEF_RZ_per_drive       0.033\n",
       "12      PointsScored_rolling5       0.032\n",
       "0                 temperature       0.032"
      ]
     },
     "execution_count": 60,
     "metadata": {},
     "output_type": "execute_result"
    }
   ],
   "source": [
    "rf_df = pd.DataFrame({'feature': pd.Series(X.columns),'importance': rf2.feature_importances_})\n",
    "rf_df.sort_values(by='importance', ascending=False)[0:10]"
   ]
  },
  {
   "cell_type": "code",
   "execution_count": 42,
   "metadata": {},
   "outputs": [],
   "source": [
    "pred_df = pd.DataFrame({'Actual': ytest, 'Pred': predictions2, 'Rolling':Xtest['Kicker_Pts_rolling5'].iloc[:,1]})\n",
    "\n",
    "pred_df['residual'] = abs(pred_df['Actual'] - pred_df['Pred'])\n",
    "pred_df['roll_res'] = abs(pred_df['Actual'] - pred_df['Rolling'])\n"
   ]
  },
  {
   "cell_type": "code",
   "execution_count": 44,
   "metadata": {},
   "outputs": [
    {
     "data": {
      "text/html": [
       "<div>\n",
       "<style>\n",
       "    .dataframe thead tr:only-child th {\n",
       "        text-align: right;\n",
       "    }\n",
       "\n",
       "    .dataframe thead th {\n",
       "        text-align: left;\n",
       "    }\n",
       "\n",
       "    .dataframe tbody tr th {\n",
       "        vertical-align: top;\n",
       "    }\n",
       "</style>\n",
       "<table border=\"1\" class=\"dataframe\">\n",
       "  <thead>\n",
       "    <tr style=\"text-align: right;\">\n",
       "      <th></th>\n",
       "      <th>Actual</th>\n",
       "      <th>Pred</th>\n",
       "      <th>Rolling</th>\n",
       "      <th>residual</th>\n",
       "      <th>roll_res</th>\n",
       "    </tr>\n",
       "  </thead>\n",
       "  <tbody>\n",
       "    <tr>\n",
       "      <th>count</th>\n",
       "      <td>308.000</td>\n",
       "      <td>308.000</td>\n",
       "      <td>308.000</td>\n",
       "      <td>308.000</td>\n",
       "      <td>308.000</td>\n",
       "    </tr>\n",
       "    <tr>\n",
       "      <th>mean</th>\n",
       "      <td>8.828</td>\n",
       "      <td>8.945</td>\n",
       "      <td>8.750</td>\n",
       "      <td>3.025</td>\n",
       "      <td>3.422</td>\n",
       "    </tr>\n",
       "    <tr>\n",
       "      <th>std</th>\n",
       "      <td>4.787</td>\n",
       "      <td>2.697</td>\n",
       "      <td>2.131</td>\n",
       "      <td>2.469</td>\n",
       "      <td>2.657</td>\n",
       "    </tr>\n",
       "    <tr>\n",
       "      <th>min</th>\n",
       "      <td>0.000</td>\n",
       "      <td>3.540</td>\n",
       "      <td>3.000</td>\n",
       "      <td>0.025</td>\n",
       "      <td>0.000</td>\n",
       "    </tr>\n",
       "    <tr>\n",
       "      <th>25%</th>\n",
       "      <td>5.000</td>\n",
       "      <td>6.837</td>\n",
       "      <td>7.000</td>\n",
       "      <td>1.003</td>\n",
       "      <td>1.000</td>\n",
       "    </tr>\n",
       "    <tr>\n",
       "      <th>50%</th>\n",
       "      <td>8.000</td>\n",
       "      <td>8.747</td>\n",
       "      <td>9.000</td>\n",
       "      <td>2.502</td>\n",
       "      <td>3.000</td>\n",
       "    </tr>\n",
       "    <tr>\n",
       "      <th>75%</th>\n",
       "      <td>12.000</td>\n",
       "      <td>10.750</td>\n",
       "      <td>10.000</td>\n",
       "      <td>4.354</td>\n",
       "      <td>5.000</td>\n",
       "    </tr>\n",
       "    <tr>\n",
       "      <th>max</th>\n",
       "      <td>28.000</td>\n",
       "      <td>15.183</td>\n",
       "      <td>15.000</td>\n",
       "      <td>15.441</td>\n",
       "      <td>18.000</td>\n",
       "    </tr>\n",
       "  </tbody>\n",
       "</table>\n",
       "</div>"
      ],
      "text/plain": [
       "       Actual    Pred  Rolling  residual  roll_res\n",
       "count 308.000 308.000  308.000   308.000   308.000\n",
       "mean    8.828   8.945    8.750     3.025     3.422\n",
       "std     4.787   2.697    2.131     2.469     2.657\n",
       "min     0.000   3.540    3.000     0.025     0.000\n",
       "25%     5.000   6.837    7.000     1.003     1.000\n",
       "50%     8.000   8.747    9.000     2.502     3.000\n",
       "75%    12.000  10.750   10.000     4.354     5.000\n",
       "max    28.000  15.183   15.000    15.441    18.000"
      ]
     },
     "execution_count": 44,
     "metadata": {},
     "output_type": "execute_result"
    }
   ],
   "source": [
    "pred_df.describe()"
   ]
  },
  {
   "cell_type": "code",
   "execution_count": 161,
   "metadata": {
    "collapsed": true
   },
   "outputs": [],
   "source": [
    "pred_df = pd.DataFrame({'Actual': ytest, 'Pred': predictions})"
   ]
  },
  {
   "cell_type": "code",
   "execution_count": 166,
   "metadata": {},
   "outputs": [
    {
     "data": {
      "text/html": [
       "<div>\n",
       "<style>\n",
       "    .dataframe thead tr:only-child th {\n",
       "        text-align: right;\n",
       "    }\n",
       "\n",
       "    .dataframe thead th {\n",
       "        text-align: left;\n",
       "    }\n",
       "\n",
       "    .dataframe tbody tr th {\n",
       "        vertical-align: top;\n",
       "    }\n",
       "</style>\n",
       "<table border=\"1\" class=\"dataframe\">\n",
       "  <thead>\n",
       "    <tr style=\"text-align: right;\">\n",
       "      <th></th>\n",
       "      <th>Actual</th>\n",
       "      <th>Pred</th>\n",
       "      <th>residual</th>\n",
       "    </tr>\n",
       "  </thead>\n",
       "  <tbody>\n",
       "    <tr>\n",
       "      <th>498</th>\n",
       "      <td>8</td>\n",
       "      <td>7.975</td>\n",
       "      <td>0.025</td>\n",
       "    </tr>\n",
       "    <tr>\n",
       "      <th>869</th>\n",
       "      <td>7</td>\n",
       "      <td>6.965</td>\n",
       "      <td>0.035</td>\n",
       "    </tr>\n",
       "    <tr>\n",
       "      <th>278</th>\n",
       "      <td>9</td>\n",
       "      <td>9.048</td>\n",
       "      <td>0.048</td>\n",
       "    </tr>\n",
       "    <tr>\n",
       "      <th>233</th>\n",
       "      <td>9</td>\n",
       "      <td>9.088</td>\n",
       "      <td>0.088</td>\n",
       "    </tr>\n",
       "    <tr>\n",
       "      <th>1224</th>\n",
       "      <td>8</td>\n",
       "      <td>7.896</td>\n",
       "      <td>0.104</td>\n",
       "    </tr>\n",
       "  </tbody>\n",
       "</table>\n",
       "</div>"
      ],
      "text/plain": [
       "      Actual  Pred  residual\n",
       "498        8 7.975     0.025\n",
       "869        7 6.965     0.035\n",
       "278        9 9.048     0.048\n",
       "233        9 9.088     0.088\n",
       "1224       8 7.896     0.104"
      ]
     },
     "execution_count": 166,
     "metadata": {},
     "output_type": "execute_result"
    }
   ],
   "source": [
    "pred_df['residual'] = abs(pred_df['Actual'] - pred_df['Pred'])\n",
    "\n",
    "good_guess = pred_df[ pred_df['residual'] <= 2.0 ]\n",
    "good_guess.sort_values(by='residual').head()"
   ]
  },
  {
   "cell_type": "code",
   "execution_count": 168,
   "metadata": {},
   "outputs": [
    {
     "data": {
      "text/html": [
       "<div>\n",
       "<style>\n",
       "    .dataframe thead tr:only-child th {\n",
       "        text-align: right;\n",
       "    }\n",
       "\n",
       "    .dataframe thead th {\n",
       "        text-align: left;\n",
       "    }\n",
       "\n",
       "    .dataframe tbody tr th {\n",
       "        vertical-align: top;\n",
       "    }\n",
       "</style>\n",
       "<table border=\"1\" class=\"dataframe\">\n",
       "  <thead>\n",
       "    <tr style=\"text-align: right;\">\n",
       "      <th></th>\n",
       "      <th>Actual</th>\n",
       "      <th>Pred</th>\n",
       "      <th>residual</th>\n",
       "    </tr>\n",
       "  </thead>\n",
       "  <tbody>\n",
       "    <tr>\n",
       "      <th>596</th>\n",
       "      <td>23</td>\n",
       "      <td>10.702</td>\n",
       "      <td>12.298</td>\n",
       "    </tr>\n",
       "    <tr>\n",
       "      <th>984</th>\n",
       "      <td>18</td>\n",
       "      <td>7.133</td>\n",
       "      <td>10.867</td>\n",
       "    </tr>\n",
       "    <tr>\n",
       "      <th>719</th>\n",
       "      <td>18</td>\n",
       "      <td>7.186</td>\n",
       "      <td>10.814</td>\n",
       "    </tr>\n",
       "    <tr>\n",
       "      <th>539</th>\n",
       "      <td>18</td>\n",
       "      <td>7.853</td>\n",
       "      <td>10.147</td>\n",
       "    </tr>\n",
       "    <tr>\n",
       "      <th>1076</th>\n",
       "      <td>22</td>\n",
       "      <td>13.300</td>\n",
       "      <td>8.700</td>\n",
       "    </tr>\n",
       "  </tbody>\n",
       "</table>\n",
       "</div>"
      ],
      "text/plain": [
       "      Actual   Pred  residual\n",
       "596       23 10.702    12.298\n",
       "984       18  7.133    10.867\n",
       "719       18  7.186    10.814\n",
       "539       18  7.853    10.147\n",
       "1076      22 13.300     8.700"
      ]
     },
     "execution_count": 168,
     "metadata": {},
     "output_type": "execute_result"
    }
   ],
   "source": [
    "poor_guess = pred_df[ pred_df['residual'] >= 7.0 ]\n",
    "poor_guess.sort_values(by='residual', ascending=False).head()"
   ]
  },
  {
   "cell_type": "code",
   "execution_count": 169,
   "metadata": {},
   "outputs": [
    {
     "data": {
      "text/html": [
       "<div>\n",
       "<style>\n",
       "    .dataframe thead tr:only-child th {\n",
       "        text-align: right;\n",
       "    }\n",
       "\n",
       "    .dataframe thead th {\n",
       "        text-align: left;\n",
       "    }\n",
       "\n",
       "    .dataframe tbody tr th {\n",
       "        vertical-align: top;\n",
       "    }\n",
       "</style>\n",
       "<table border=\"1\" class=\"dataframe\">\n",
       "  <thead>\n",
       "    <tr style=\"text-align: right;\">\n",
       "      <th></th>\n",
       "      <th>Actual</th>\n",
       "      <th>Pred</th>\n",
       "      <th>residual</th>\n",
       "    </tr>\n",
       "  </thead>\n",
       "  <tbody>\n",
       "    <tr>\n",
       "      <th>count</th>\n",
       "      <td>308.000</td>\n",
       "      <td>308.000</td>\n",
       "      <td>308.000</td>\n",
       "    </tr>\n",
       "    <tr>\n",
       "      <th>mean</th>\n",
       "      <td>8.919</td>\n",
       "      <td>8.693</td>\n",
       "      <td>2.985</td>\n",
       "    </tr>\n",
       "    <tr>\n",
       "      <th>std</th>\n",
       "      <td>4.474</td>\n",
       "      <td>2.662</td>\n",
       "      <td>2.246</td>\n",
       "    </tr>\n",
       "    <tr>\n",
       "      <th>min</th>\n",
       "      <td>-1.000</td>\n",
       "      <td>2.970</td>\n",
       "      <td>0.025</td>\n",
       "    </tr>\n",
       "    <tr>\n",
       "      <th>25%</th>\n",
       "      <td>6.000</td>\n",
       "      <td>6.952</td>\n",
       "      <td>1.158</td>\n",
       "    </tr>\n",
       "    <tr>\n",
       "      <th>50%</th>\n",
       "      <td>9.000</td>\n",
       "      <td>8.165</td>\n",
       "      <td>2.600</td>\n",
       "    </tr>\n",
       "    <tr>\n",
       "      <th>75%</th>\n",
       "      <td>12.000</td>\n",
       "      <td>10.236</td>\n",
       "      <td>4.296</td>\n",
       "    </tr>\n",
       "    <tr>\n",
       "      <th>max</th>\n",
       "      <td>23.000</td>\n",
       "      <td>16.889</td>\n",
       "      <td>12.298</td>\n",
       "    </tr>\n",
       "  </tbody>\n",
       "</table>\n",
       "</div>"
      ],
      "text/plain": [
       "       Actual    Pred  residual\n",
       "count 308.000 308.000   308.000\n",
       "mean    8.919   8.693     2.985\n",
       "std     4.474   2.662     2.246\n",
       "min    -1.000   2.970     0.025\n",
       "25%     6.000   6.952     1.158\n",
       "50%     9.000   8.165     2.600\n",
       "75%    12.000  10.236     4.296\n",
       "max    23.000  16.889    12.298"
      ]
     },
     "execution_count": 169,
     "metadata": {},
     "output_type": "execute_result"
    }
   ],
   "source": [
    "pred_df.describe()"
   ]
  },
  {
   "cell_type": "code",
   "execution_count": 176,
   "metadata": {},
   "outputs": [
    {
     "data": {
      "text/plain": [
       "<matplotlib.axes._subplots.AxesSubplot at 0x112daed68>"
      ]
     },
     "execution_count": 176,
     "metadata": {},
     "output_type": "execute_result"
    },
    {
     "data": {
      "image/png": "[encoded data removed]",
      "text/plain": [
       "<Figure size 432x288 with 1 Axes>"
      ]
     },
     "metadata": {},
     "output_type": "display_data"
    }
   ],
   "source": [
    "sns.distplot(good_guess['Actual'], bins=15)"
   ]
  },
  {
   "cell_type": "code",
   "execution_count": 175,
   "metadata": {},
   "outputs": [
    {
     "data": {
      "text/plain": [
       "<matplotlib.axes._subplots.AxesSubplot at 0x114eca160>"
      ]
     },
     "execution_count": 175,
     "metadata": {},
     "output_type": "execute_result"
    },
    {
     "data": {
      "image/png": "[encoded data removed]",
      "text/plain": [
       "<Figure size 432x288 with 1 Axes>"
      ]
     },
     "metadata": {},
     "output_type": "display_data"
    }
   ],
   "source": [
    "sns.distplot(poor_guess['Actual'], bins=15)"
   ]
  },
  {
   "cell_type": "code",
   "execution_count": 182,
   "metadata": {
    "collapsed": true
   },
   "outputs": [],
   "source": []
  },
  {
   "cell_type": "code",
   "execution_count": 65,
   "metadata": {
    "collapsed": true
   },
   "outputs": [],
   "source": [
    "model_xgb = xgb.XGBRegressor(colsample_bytree=0.1000, gamma=0.000, \n",
    "                             learning_rate=0.05, max_depth=1, \n",
    "                             min_child_weight=20.000, n_estimators=3338,\n",
    "                             reg_alpha=10.000, reg_lambda=0,\n",
    "                             subsample=1.000, silent=1,\n",
    "                             random_state =2018, nthread = -1)"
   ]
  },
  {
   "cell_type": "code",
   "execution_count": 79,
   "metadata": {
    "collapsed": true
   },
   "outputs": [],
   "source": [
    "X = pd.concat([all_data, num_data['Relative_Line']], axis=1)\n",
    "y = kicker_pts"
   ]
  },
  {
   "cell_type": "code",
   "execution_count": 80,
   "metadata": {},
   "outputs": [
    {
     "name": "stdout",
     "output_type": "stream",
     "text": [
      "Accuracy: 0.2851 (+/- 0.1233)\n"
     ]
    }
   ],
   "source": [
    "model_xgb.fit(X, y)\n",
    "\n",
    "scores_xgb = cross_val_score(model_xgb, X, y, cv=10)\n",
    "print(\"Accuracy: %0.4f (+/- %0.4f)\" % (scores_xgb.mean(), scores_xgb.std() * 2))"
   ]
  },
  {
   "cell_type": "code",
   "execution_count": 88,
   "metadata": {},
   "outputs": [],
   "source": [
    "X2 = pd.concat([X,y], axis=1)\n",
    "#X2 = X2[['Kicker_Pts_rolling5', 'Kicker_Pts']]\n",
    "X2['dev_from_mean'] = X2['Kicker_Pts_rolling5']-X2['Kicker_Pts']\n",
    "X2['abs'] = abs(X2['dev_from_mean'])"
   ]
  },
  {
   "cell_type": "code",
   "execution_count": 124,
   "metadata": {},
   "outputs": [
    {
     "data": {
      "text/plain": [
       "dev_from_mean            1.000\n",
       "DEF_punts_per_drive      0.192\n",
       "punts_per_drive          0.178\n",
       "DEF_FG_range_per_drive   0.122\n",
       "FG_range_per_drive       0.104\n",
       "wind_chill               0.061\n",
       "humidity                 0.061\n",
       "TwoPointConv             0.060\n",
       "wind_mph                 0.045\n",
       "RZ_per_drive             0.032\n",
       "Name: dev_from_mean, dtype: float64"
      ]
     },
     "execution_count": 124,
     "metadata": {},
     "output_type": "execute_result"
    }
   ],
   "source": [
    "X2.corr()['dev_from_mean'].sort_values(ascending=False)[0:10]"
   ]
  },
  {
   "cell_type": "code",
   "execution_count": null,
   "metadata": {},
   "outputs": [],
   "source": []
  },
  {
   "cell_type": "code",
   "execution_count": 125,
   "metadata": {},
   "outputs": [],
   "source": [
    "from sklearn.model_selection import train_test_split\n",
    "from sklearn.model_selection import cross_val_score\n",
    "from sklearn.model_selection import GridSearchCV\n",
    "from sklearn.metrics import accuracy_score\n",
    "from sklearn.svm import SVC"
   ]
  },
  {
   "cell_type": "code",
   "execution_count": 130,
   "metadata": {},
   "outputs": [],
   "source": [
    "rfr=RandomForestRegressor(random_state=2018)\n",
    "\n",
    "param_grid = { \n",
    "    'n_estimators': [1000, 2000, 3000],\n",
    "    'max_features': ['auto', 'sqrt', 'log2'],\n",
    "    'max_depth' : [4,5,6,7,8],\n",
    "}"
   ]
  },
  {
   "cell_type": "code",
   "execution_count": 131,
   "metadata": {},
   "outputs": [
    {
     "data": {
      "text/plain": [
       "GridSearchCV(cv=5, error_score='raise',\n",
       "       estimator=RandomForestRegressor(bootstrap=True, criterion='mse', max_depth=None,\n",
       "           max_features='auto', max_leaf_nodes=None,\n",
       "           min_impurity_decrease=0.0, min_impurity_split=None,\n",
       "           min_samples_leaf=1, min_samples_split=2,\n",
       "           min_weight_fraction_leaf=0.0, n_estimators=10, n_jobs=1,\n",
       "           oob_score=False, random_state=2018, verbose=0, warm_start=False),\n",
       "       fit_params=None, iid=True, n_jobs=1,\n",
       "       param_grid={'n_estimators': [1000, 2000, 3000], 'max_features': ['auto', 'sqrt', 'log2'], 'max_depth': [4, 5, 6, 7, 8]},\n",
       "       pre_dispatch='2*n_jobs', refit=True, return_train_score='warn',\n",
       "       scoring=None, verbose=0)"
      ]
     },
     "execution_count": 131,
     "metadata": {},
     "output_type": "execute_result"
    }
   ],
   "source": [
    "CV_rfc = GridSearchCV(estimator=rfr, param_grid=param_grid, cv=5)\n",
    "CV_rfc.fit(Xtrain, ytrain)"
   ]
  },
  {
   "cell_type": "code",
   "execution_count": 132,
   "metadata": {
    "collapsed": true
   },
   "outputs": [],
   "source": [
    "rfr_pred = CV_rfc.predict(Xtest)"
   ]
  },
  {
   "cell_type": "code",
   "execution_count": 133,
   "metadata": {},
   "outputs": [
    {
     "data": {
      "text/plain": [
       "3.0385208846589027"
      ]
     },
     "execution_count": 133,
     "metadata": {},
     "output_type": "execute_result"
    }
   ],
   "source": [
    "abs(ytest-rfr_pred).mean()"
   ]
  },
  {
   "cell_type": "code",
   "execution_count": null,
   "metadata": {
    "collapsed": true
   },
   "outputs": [],
   "source": []
  }
 ],
 "metadata": {
  "kernelspec": {
   "display_name": "Python 3",
   "language": "python",
   "name": "python3"
  },
  "language_info": {
   "codemirror_mode": {
    "name": "ipython",
    "version": 3
   },
   "file_extension": ".py",
   "mimetype": "text/x-python",
   "name": "python",
   "nbconvert_exporter": "python",
   "pygments_lexer": "ipython3",
   "version": "3.6.3"
  }
 },
 "nbformat": 4,
 "nbformat_minor": 2
}
