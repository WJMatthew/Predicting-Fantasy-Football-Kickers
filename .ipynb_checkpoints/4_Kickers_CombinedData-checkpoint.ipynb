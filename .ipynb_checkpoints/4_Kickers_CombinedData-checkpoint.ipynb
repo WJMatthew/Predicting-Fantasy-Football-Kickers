{
 "cells": [
  {
   "cell_type": "markdown",
   "metadata": {},
   "source": [
    "# Putting the pieces of kicker data together \n",
    "#### Matthew Johnson, August 13, 2018"
   ]
  },
  {
   "cell_type": "markdown",
   "metadata": {
    "collapsed": true
   },
   "source": [
    "$KickerPts = 1 *(Made PAT) + 3*(FG_{d\\leq 39}) + 4*(FG_{d\\in [40,49]}) + 5*(FG_{d\\geq 50}) - 1*(Missed FG)$\n",
    "<br>\n",
    "\n",
    "- Calculate predictions for data, data + vegas, data + weather, all 3"
   ]
  },
  {
   "cell_type": "code",
   "execution_count": 1,
   "metadata": {
    "collapsed": true
   },
   "outputs": [],
   "source": [
    "%matplotlib inline\n",
    "import pandas as pd\n",
    "import numpy as np\n",
    "import matplotlib.pyplot as plt\n",
    "import seaborn as sns\n",
    "import warnings\n",
    "from sklearn.base import TransformerMixin, BaseEstimator, clone\n",
    "from sklearn.pipeline import Pipeline, make_pipeline\n",
    "warnings.filterwarnings('ignore')\n",
    "\n",
    "kickers09to17 = pd.read_csv('kicker_data_09_17.csv')\n",
    "weather09to13 = pd.read_csv('weather_data09to13.csv') \n",
    "vegas09to17 = pd.read_csv('vegas_odds09to17.csv') # Weeks 6-16\n",
    "\n",
    "dfs = [kickers09to17, weather09to13, vegas09to17]\n",
    "dfs[1].drop('Unnamed: 0', axis=1, inplace=True)\n",
    "dfs[2].drop('Unnamed: 0', axis=1, inplace=True)"
   ]
  },
  {
   "cell_type": "code",
   "execution_count": 2,
   "metadata": {},
   "outputs": [
    {
     "name": "stdout",
     "output_type": "stream",
     "text": [
      "(2642, 65)\n",
      "(2058, 16)\n",
      "(2878, 10)\n"
     ]
    }
   ],
   "source": [
    "mergecodes = []\n",
    "mergecodes2 = []\n",
    "\n",
    "for df in dfs:\n",
    "    print (df.shape)\n",
    "    mergecodes.append(list(df['mergeCode'].unique()))\n",
    "    mergecodes2.append(list(df['mergeCode2'].unique()))"
   ]
  },
  {
   "cell_type": "code",
   "execution_count": 3,
   "metadata": {},
   "outputs": [
    {
     "name": "stdout",
     "output_type": "stream",
     "text": [
      "A: 2642 B: 2058 sym_diff: 2160 intersect: 1270\n",
      "A: 2642 C: 2873 sym_diff: 1013 intersect: 2251\n",
      "C: 2873 B: 2058 sym_diff: 2223 intersect: 1354\n",
      "int_all: 1199\n"
     ]
    }
   ],
   "source": [
    "# A - kicker data\n",
    "# B - weather\n",
    "# C - vegas odds\n",
    "\n",
    "A = set(mergecodes[0])\n",
    "B = set(mergecodes[1])\n",
    "sd = A.symmetric_difference(B)\n",
    "intersect1 = A.intersection(B)\n",
    "print('A:', len(A), 'B:', len(B), 'sym_diff:', len(sd), 'intersect:', len(intersect1))\n",
    "\n",
    "A = set(mergecodes[0])\n",
    "C = set(mergecodes[2])\n",
    "sd = A.symmetric_difference(C)\n",
    "intersect2 = A.intersection(C)\n",
    "print('A:', len(A), 'C:', len(C), 'sym_diff:', len(sd), 'intersect:', len(intersect2))\n",
    "\n",
    "C = set(mergecodes[2])\n",
    "B = set(mergecodes[1])\n",
    "sd = C.symmetric_difference(B)\n",
    "intersect3 = C.intersection(B)\n",
    "print('C:', len(C), 'B:', len(B), 'sym_diff:', len(sd), 'intersect:', len(intersect3))\n",
    "\n",
    "intersect_all = intersect1.intersection(C)\n",
    "print('int_all:', len(intersect_all))"
   ]
  },
  {
   "cell_type": "code",
   "execution_count": 4,
   "metadata": {},
   "outputs": [
    {
     "name": "stdout",
     "output_type": "stream",
     "text": [
      "A: 2640 B: 2052 sym_diff: 2032 intersect: 1330\n",
      "A: 2640 C: 2872 sym_diff: 898 intersect: 2307\n",
      "C: 2872 B: 2052 sym_diff: 2422 intersect: 1251\n",
      "int_all: 1214\n"
     ]
    }
   ],
   "source": [
    "# A - kicker data\n",
    "# B - weather\n",
    "# C - vegas odds\n",
    "\n",
    "A = set(mergecodes2[0])\n",
    "B = set(mergecodes2[1])\n",
    "sd = A.symmetric_difference(B)\n",
    "intersect1 = A.intersection(B)\n",
    "print('A:', len(A), 'B:', len(B), 'sym_diff:', len(sd), 'intersect:', len(intersect1))\n",
    "\n",
    "A = set(mergecodes2[0])\n",
    "C = set(mergecodes2[2])\n",
    "sd = A.symmetric_difference(C)\n",
    "intersect2 = A.intersection(C)\n",
    "print('A:', len(A), 'C:', len(C), 'sym_diff:', len(sd), 'intersect:', len(intersect2))\n",
    "\n",
    "C = set(mergecodes2[2])\n",
    "B = set(mergecodes2[1])\n",
    "sd = C.symmetric_difference(B)\n",
    "intersect3 = C.intersection(B)\n",
    "print('C:', len(C), 'B:', len(B), 'sym_diff:', len(sd), 'intersect:', len(intersect3))\n",
    "\n",
    "intersect_all = intersect1.intersection(C)\n",
    "print('int_all:', len(intersect_all))"
   ]
  },
  {
   "cell_type": "code",
   "execution_count": 5,
   "metadata": {},
   "outputs": [
    {
     "name": "stdout",
     "output_type": "stream",
     "text": [
      "(1232, 89)\n"
     ]
    }
   ],
   "source": [
    "df1 = pd.merge(dfs[0], dfs[1], on='mergeCode2', how='inner')\n",
    "df2 = pd.merge(df1, dfs[2], on='mergeCode2', how='inner')\n",
    "print(df2.shape)"
   ]
  },
  {
   "cell_type": "code",
   "execution_count": 6,
   "metadata": {
    "collapsed": true
   },
   "outputs": [],
   "source": [
    "offenseVariables = ['3rdDown_rate', 'Drive', 'FirstDown','Kicker_Pts',\n",
    "    'TwoPointConv','Drive_rolling5', 'Kicker_Pts_rolling5', \n",
    "    'PointsScored_rolling5', 'Yards.Gained_rolling5', 'FG_range_per_drive', 'RZ_per_drive',\n",
    "    'punts_per_drive', 'Completion_pct', 'TwoPoint_conv_rate']\n",
    "\n",
    "defenseVariables = ['DEF_3rdDownSuccess_rolling5', 'DEF_Drive_rolling5', 'DEF_FirstDown_rolling5', \n",
    "    'DEF_Kicker_Pts_rolling5',  'DEF_Touchdown_rolling5', \n",
    "    'DEF_Yards.Gained_rolling5','DEF_FG_range_per_drive', 'DEF_RZ_per_drive', 'DEF_PointsScored_rolling5',\n",
    "    'DEF_punts_per_drive', 'DEF_Completion_pct']\n",
    "\n",
    "generalVariables = ['offenseTeam.1', 'defenseTeam_x', 'Season_x', 'Week_y', 'date_x', \n",
    "        'off_score', 'def_score', 'temperature', 'wind_chill', 'humidity', 'wind_mph', \n",
    "        'home_team', 'Year', \n",
    "        'Relative_Line', 'Total', 'Exp_Pts', 'mergeCode', 'mergeCode2', 'mergeCode_x']\n",
    "\n",
    "df_off = df2[offenseVariables]\n",
    "df_def = df2[defenseVariables]\n",
    "df_gen = df2[generalVariables]\n",
    "\n",
    "df_gen.columns = ['offenseTeam', 'defenseTeam', 'Season', 'Week', 'date',\n",
    "       'off_score', 'def_score', 'temperature', 'wind_chill', 'humidity',\n",
    "       'wind_mph', 'home_team', 'Year', 'Relative_Line', 'Total', 'Exp_Pts', \n",
    "       'mergeCode', 'mergeCode2', 'mergeCode_x']\n",
    "\n",
    "data = pd.concat([df_gen, df_off, df_def], axis=1)\n",
    "kicker_pts = df2['Kicker_Pts']"
   ]
  },
  {
   "cell_type": "code",
   "execution_count": 7,
   "metadata": {},
   "outputs": [
    {
     "data": {
      "text/plain": [
       "(65, 44)"
      ]
     },
     "execution_count": 7,
     "metadata": {},
     "output_type": "execute_result"
    }
   ],
   "source": [
    "outliers = data[ (data['Kicker_Pts'] <= 1) | (data['Kicker_Pts'] >= 25)]\n",
    "outliers.shape\n",
    "\n",
    "#data_drop_outliers = data[ (data['Kicker_Pts'] >= 1) | (data['Kicker_Pts'] <= 25)]"
   ]
  },
  {
   "cell_type": "code",
   "execution_count": 8,
   "metadata": {
    "collapsed": true
   },
   "outputs": [],
   "source": [
    "data2 = data.drop(['off_score', 'def_score'], axis=1)\n",
    "data2['Season'] = data2['Season'].astype('category')\n",
    "data2['Week'] = data2['Week'].astype('category')\n",
    "data2['Year'] = data2['Year'].astype('category')\n",
    "\n",
    "num_data = data2.select_dtypes(include=['int64', 'float64'])"
   ]
  },
  {
   "cell_type": "code",
   "execution_count": 11,
   "metadata": {},
   "outputs": [
    {
     "ename": "ImportError",
     "evalue": "cannot import name 'norm'",
     "output_type": "error",
     "traceback": [
      "\u001b[0;31m---------------------------------------------------------------------------\u001b[0m",
      "\u001b[0;31mImportError\u001b[0m                               Traceback (most recent call last)",
      "\u001b[0;32m<ipython-input-11-ec4be5a59d48>\u001b[0m in \u001b[0;36m<module>\u001b[0;34m()\u001b[0m\n\u001b[0;32m----> 1\u001b[0;31m \u001b[0;32mfrom\u001b[0m \u001b[0mnumpy\u001b[0m \u001b[0;32mimport\u001b[0m \u001b[0mnorm\u001b[0m\u001b[0;34m\u001b[0m\u001b[0m\n\u001b[0m\u001b[1;32m      2\u001b[0m \u001b[0;34m\u001b[0m\u001b[0m\n\u001b[1;32m      3\u001b[0m sns.distplot(kicker_pts, bins=20, fit=norm,\n\u001b[1;32m      4\u001b[0m             \u001b[0mkde_kws\u001b[0m\u001b[0;34m=\u001b[0m\u001b[0;34m{\u001b[0m\u001b[0;34m\"color\"\u001b[0m\u001b[0;34m:\u001b[0m \u001b[0;34m\"k\"\u001b[0m\u001b[0;34m,\u001b[0m \u001b[0;34m\"lw\"\u001b[0m\u001b[0;34m:\u001b[0m \u001b[0;36m3\u001b[0m\u001b[0;34m,\u001b[0m \u001b[0;34m\"label\"\u001b[0m\u001b[0;34m:\u001b[0m \u001b[0;34m\"KDE\"\u001b[0m\u001b[0;34m}\u001b[0m\u001b[0;34m,\u001b[0m\u001b[0;34m\u001b[0m\u001b[0m\n\u001b[1;32m      5\u001b[0m             hist_kws={\"histtype\": \"step\", \"linewidth\": 3,\"alpha\": 1, \"color\": \"g\"});\n",
      "\u001b[0;31mImportError\u001b[0m: cannot import name 'norm'"
     ]
    }
   ],
   "source": [
    "\n",
    "sns.distplot(kicker_pts, bins=20, fit=norm,\n",
    "            kde_kws={\"color\": \"k\", \"lw\": 3, \"label\": \"KDE\"},\n",
    "            hist_kws={\"histtype\": \"step\", \"linewidth\": 3,\"alpha\": 1, \"color\": \"g\"});"
   ]
  },
  {
   "cell_type": "code",
   "execution_count": 106,
   "metadata": {},
   "outputs": [
    {
     "data": {
      "text/plain": [
       "Kicker_Pts                     1.000\n",
       "DEF_Kicker_Pts_rolling5        0.470\n",
       "Kicker_Pts_rolling5            0.454\n",
       "off_score                      0.341\n",
       "DEF_PointsScored_rolling5      0.234\n",
       "PointsScored_rolling5          0.173\n",
       "DEF_Yards.Gained_rolling5      0.135\n",
       "DEF_Touchdown_rolling5         0.107\n",
       "Yards.Gained_rolling5          0.099\n",
       "DEF_Drive_rolling5             0.091\n",
       "Season                         0.072\n",
       "Drive                          0.072\n",
       "DEF_FirstDown_rolling5         0.067\n",
       "FirstDown                      0.067\n",
       "Year                           0.066\n",
       "Total                          0.037\n",
       "temperature                    0.031\n",
       "DEF_3rdDownSuccess_rolling5    0.018\n",
       "Exp_Pts                        0.010\n",
       "3rdDown_rate                  -0.001\n",
       "Relative_Line                 -0.013\n",
       "Drive_rolling5                -0.014\n",
       "DEF_RZ_per_drive              -0.027\n",
       "wind_chill                    -0.032\n",
       "RZ_per_drive                  -0.037\n",
       "wind_mph                      -0.049\n",
       "humidity                      -0.050\n",
       "Week                          -0.064\n",
       "TwoPointConv                  -0.069\n",
       "FG_range_per_drive            -0.118\n",
       "DEF_FG_range_per_drive        -0.123\n",
       "DEF_punts_per_drive           -0.193\n",
       "def_score                     -0.201\n",
       "punts_per_drive               -0.204\n",
       "Completion_pct                   nan\n",
       "TwoPoint_conv_rate               nan\n",
       "DEF_Completion_pct               nan\n",
       "Name: Kicker_Pts, dtype: float64"
      ]
     },
     "execution_count": 106,
     "metadata": {},
     "output_type": "execute_result"
    }
   ],
   "source": [
    "corr_rank"
   ]
  },
  {
   "cell_type": "code",
   "execution_count": 112,
   "metadata": {},
   "outputs": [
    {
     "data": {
      "image/png": "[encoded data removed]",
      "text/plain": [
       "<Figure size 864x720 with 2 Axes>"
      ]
     },
     "metadata": {},
     "output_type": "display_data"
    }
   ],
   "source": [
    "sns.set(style=\"white\", context=\"talk\")\n",
    "\n",
    "corr = data.corr()['Kicker_Pts'].sort_values(ascending=False)\n",
    "\n",
    "corr_rank_high = corr_rank[1:16]\n",
    "corr_rank_low = corr_rank[-18:-3].sort_values(ascending=True)\n",
    "\n",
    "f, (ax1, ax2) = plt.subplots(2, 1, figsize=(12, 10), sharex=True)\n",
    "\n",
    "sns.barplot(y=corr_rank_high.index, x=corr_rank_high.values, palette=\"rocket\", ax=ax1)\n",
    "ax1.axhline(0, color=\"k\", clip_on=False)\n",
    "ax1.set_ylabel(\"Sequential\")\n",
    "ax1.set_title('Top 15 correlated predictor variables with target')\n",
    "\n",
    "sns.barplot(y=corr_rank_low.index, x=corr_rank_low.values, palette=\"vlag\", ax=ax2)\n",
    "ax2.axhline(0, color=\"k\", clip_on=False)\n",
    "ax2.set_ylabel(\"Diverging\")\n",
    "ax2.set_title('Bottom 15 correlated predictor variables with target');"
   ]
  },
  {
   "cell_type": "markdown",
   "metadata": {},
   "source": [
    "### Modelling"
   ]
  },
  {
   "cell_type": "code",
   "execution_count": 12,
   "metadata": {
    "collapsed": true
   },
   "outputs": [],
   "source": [
    "from sklearn.linear_model import ElasticNet, Lasso, LassoLarsIC\n",
    "from sklearn.ensemble import RandomForestRegressor,  GradientBoostingRegressor\n",
    "from sklearn.kernel_ridge import KernelRidge\n",
    "from sklearn.pipeline import make_pipeline\n",
    "from sklearn.preprocessing import RobustScaler\n",
    "from sklearn.base import BaseEstimator, TransformerMixin, RegressorMixin, clone\n",
    "from sklearn.model_selection import KFold, cross_val_score, train_test_split\n",
    "from sklearn.metrics import mean_squared_error\n",
    "import xgboost as xgb\n",
    "\n",
    "pd.set_option('display.float_format', lambda x: '{:.3f}'.format(x)) #Limiting floats output to 3 decimal points"
   ]
  },
  {
   "cell_type": "code",
   "execution_count": 17,
   "metadata": {},
   "outputs": [],
   "source": [
    "rolling_kpts = num_data['Kicker_Pts_rolling5'].copy()\n",
    "rolling_kpts.columns = ['Kicker_Pts_rolling5b']\n",
    "def_rolling_kpts = num_data['DEF_Kicker_Pts_rolling5'].copy()\n",
    "def_rolling_kpts.columns = ['DEF_Kicker_Pts_rolling5b']"
   ]
  },
  {
   "cell_type": "code",
   "execution_count": 20,
   "metadata": {},
   "outputs": [
    {
     "name": "stdout",
     "output_type": "stream",
     "text": [
      "\n",
      "Skew in numerical features: \n",
      "\n"
     ]
    },
    {
     "data": {
      "text/html": [
       "<div>\n",
       "<style>\n",
       "    .dataframe thead tr:only-child th {\n",
       "        text-align: right;\n",
       "    }\n",
       "\n",
       "    .dataframe thead th {\n",
       "        text-align: left;\n",
       "    }\n",
       "\n",
       "    .dataframe tbody tr th {\n",
       "        vertical-align: top;\n",
       "    }\n",
       "</style>\n",
       "<table border=\"1\" class=\"dataframe\">\n",
       "  <thead>\n",
       "    <tr style=\"text-align: right;\">\n",
       "      <th></th>\n",
       "      <th>Skew</th>\n",
       "    </tr>\n",
       "  </thead>\n",
       "  <tbody>\n",
       "    <tr>\n",
       "      <th>TwoPointConv</th>\n",
       "      <td>5.544</td>\n",
       "    </tr>\n",
       "    <tr>\n",
       "      <th>3rdDown_rate</th>\n",
       "      <td>4.762</td>\n",
       "    </tr>\n",
       "    <tr>\n",
       "      <th>DEF_3rdDownSuccess_rolling5</th>\n",
       "      <td>3.305</td>\n",
       "    </tr>\n",
       "    <tr>\n",
       "      <th>wind_mph</th>\n",
       "      <td>1.306</td>\n",
       "    </tr>\n",
       "    <tr>\n",
       "      <th>DEF_FirstDown_rolling5</th>\n",
       "      <td>0.344</td>\n",
       "    </tr>\n",
       "  </tbody>\n",
       "</table>\n",
       "</div>"
      ],
      "text/plain": [
       "                             Skew\n",
       "TwoPointConv                5.544\n",
       "3rdDown_rate                4.762\n",
       "DEF_3rdDownSuccess_rolling5 3.305\n",
       "wind_mph                    1.306\n",
       "DEF_FirstDown_rolling5      0.344"
      ]
     },
     "execution_count": 20,
     "metadata": {},
     "output_type": "execute_result"
    }
   ],
   "source": [
    "from scipy.stats import norm, skew\n",
    "\n",
    "all_data = num_data.drop(['Kicker_Pts', 'Relative_Line', 'TwoPoint_conv_rate'], axis=1)\n",
    "\n",
    "numeric_feats = all_data.dtypes[all_data.dtypes != \"object\"].index\n",
    "\n",
    "# Check the skew of all numerical features\n",
    "skewed_feats = all_data[numeric_feats].apply(lambda x: skew(x.dropna())).sort_values(ascending=False)\n",
    "print(\"\\nSkew in numerical features: \\n\")\n",
    "skewness = pd.DataFrame({'Skew' :skewed_feats})\n",
    "skewness.head()"
   ]
  },
  {
   "cell_type": "code",
   "execution_count": 21,
   "metadata": {},
   "outputs": [
    {
     "name": "stdout",
     "output_type": "stream",
     "text": [
      "There are 29 skewed numerical features to Box Cox transform\n"
     ]
    }
   ],
   "source": [
    "skewness = skewness[abs(skewness) > 0.75]\n",
    "\n",
    "from scipy.special import boxcox1p\n",
    "skewed_features = skewness.index\n",
    "#skewed_features = skewed_features.drop(['Relative_Line', 'TwoPoint_conv_rate'])\n",
    "print(\"There are {} skewed numerical features to Box Cox transform\".format(len(skewed_features)))\n",
    "\n",
    "lam = 0.15\n",
    "for feat in skewed_features:\n",
    "    all_data[feat] = boxcox1p(all_data[feat], lam)\n",
    "    \n",
    "#all_data = pd.concat([all_data, num_data['Relative_Line']], axis=1)"
   ]
  },
  {
   "cell_type": "code",
   "execution_count": 22,
   "metadata": {
    "collapsed": true
   },
   "outputs": [],
   "source": [
    "all_data['3rdDown_rate'].fillna(all_data['3rdDown_rate'].mean(), inplace=True)\n",
    "all_data['wind_chill'].fillna(all_data['temperature'], inplace=True)\n",
    "\n"
   ]
  },
  {
   "cell_type": "code",
   "execution_count": 27,
   "metadata": {
    "collapsed": true
   },
   "outputs": [],
   "source": [
    "from sklearn.model_selection import train_test_split\n",
    "from sklearn.ensemble import RandomForestRegressor\n",
    "\n",
    "X = pd.concat([all_data, rolling_kpts, num_data['Relative_Line']], axis=1)\n",
    "y = kicker_pts\n",
    "\n",
    "Xtrain, Xtest, ytrain, ytest = train_test_split(X, y)\n",
    "\n",
    "rf2 = RandomForestRegressor(n_estimators = 1000, random_state = 2018)\n",
    "rf2.fit(Xtrain, ytrain);"
   ]
  },
  {
   "cell_type": "code",
   "execution_count": 28,
   "metadata": {},
   "outputs": [
    {
     "name": "stdout",
     "output_type": "stream",
     "text": [
      "Mean Absolute Error: 3.02\n"
     ]
    }
   ],
   "source": [
    "predictions2 = rf2.predict(Xtest)\n",
    "errors = abs(predictions2 - ytest)\n",
    "print('Mean Absolute Error:', round(np.mean(errors), 2))"
   ]
  },
  {
   "cell_type": "code",
   "execution_count": 256,
   "metadata": {},
   "outputs": [
    {
     "name": "stdout",
     "output_type": "stream",
     "text": [
      "Mean Absolute Error: 2.84\n"
     ]
    }
   ],
   "source": [
    "predictions2 = rf2.predict(Xtest)\n",
    "errors = abs(predictions2 - ytest)\n",
    "print('Mean Absolute Error:', round(np.mean(errors), 2))"
   ]
  },
  {
   "cell_type": "code",
   "execution_count": 257,
   "metadata": {},
   "outputs": [
    {
     "data": {
      "image/png": "[encoded data removed]",
      "text/plain": [
       "<Figure size 432x288 with 1 Axes>"
      ]
     },
     "metadata": {},
     "output_type": "display_data"
    }
   ],
   "source": [
    "sns.scatterplot(x=ytest, y=predictions);"
   ]
  },
  {
   "cell_type": "code",
   "execution_count": 60,
   "metadata": {},
   "outputs": [
    {
     "data": {
      "text/html": [
       "<div>\n",
       "<style>\n",
       "    .dataframe thead tr:only-child th {\n",
       "        text-align: right;\n",
       "    }\n",
       "\n",
       "    .dataframe thead th {\n",
       "        text-align: left;\n",
       "    }\n",
       "\n",
       "    .dataframe tbody tr th {\n",
       "        vertical-align: top;\n",
       "    }\n",
       "</style>\n",
       "<table border=\"1\" class=\"dataframe\">\n",
       "  <thead>\n",
       "    <tr style=\"text-align: right;\">\n",
       "      <th></th>\n",
       "      <th>feature</th>\n",
       "      <th>importance</th>\n",
       "    </tr>\n",
       "  </thead>\n",
       "  <tbody>\n",
       "    <tr>\n",
       "      <th>21</th>\n",
       "      <td>DEF_Kicker_Pts_rolling5</td>\n",
       "      <td>0.150</td>\n",
       "    </tr>\n",
       "    <tr>\n",
       "      <th>11</th>\n",
       "      <td>Kicker_Pts_rolling5</td>\n",
       "      <td>0.114</td>\n",
       "    </tr>\n",
       "    <tr>\n",
       "      <th>29</th>\n",
       "      <td>Kicker_Pts_rolling5</td>\n",
       "      <td>0.099</td>\n",
       "    </tr>\n",
       "    <tr>\n",
       "      <th>8</th>\n",
       "      <td>FirstDown</td>\n",
       "      <td>0.041</td>\n",
       "    </tr>\n",
       "    <tr>\n",
       "      <th>23</th>\n",
       "      <td>DEF_Yards.Gained_rolling5</td>\n",
       "      <td>0.039</td>\n",
       "    </tr>\n",
       "    <tr>\n",
       "      <th>16</th>\n",
       "      <td>punts_per_drive</td>\n",
       "      <td>0.038</td>\n",
       "    </tr>\n",
       "    <tr>\n",
       "      <th>13</th>\n",
       "      <td>Yards.Gained_rolling5</td>\n",
       "      <td>0.037</td>\n",
       "    </tr>\n",
       "    <tr>\n",
       "      <th>25</th>\n",
       "      <td>DEF_RZ_per_drive</td>\n",
       "      <td>0.033</td>\n",
       "    </tr>\n",
       "    <tr>\n",
       "      <th>12</th>\n",
       "      <td>PointsScored_rolling5</td>\n",
       "      <td>0.032</td>\n",
       "    </tr>\n",
       "    <tr>\n",
       "      <th>0</th>\n",
       "      <td>temperature</td>\n",
       "      <td>0.032</td>\n",
       "    </tr>\n",
       "  </tbody>\n",
       "</table>\n",
       "</div>"
      ],
      "text/plain": [
       "                      feature  importance\n",
       "21    DEF_Kicker_Pts_rolling5       0.150\n",
       "11        Kicker_Pts_rolling5       0.114\n",
       "29        Kicker_Pts_rolling5       0.099\n",
       "8                   FirstDown       0.041\n",
       "23  DEF_Yards.Gained_rolling5       0.039\n",
       "16            punts_per_drive       0.038\n",
       "13      Yards.Gained_rolling5       0.037\n",
       "25           DEF_RZ_per_drive       0.033\n",
       "12      PointsScored_rolling5       0.032\n",
       "0                 temperature       0.032"
      ]
     },
     "execution_count": 60,
     "metadata": {},
     "output_type": "execute_result"
    }
   ],
   "source": [
    "rf_df = pd.DataFrame({'feature': pd.Series(X.columns),'importance': rf2.feature_importances_})\n",
    "rf_df.sort_values(by='importance', ascending=False)[0:10]"
   ]
  },
  {
   "cell_type": "code",
   "execution_count": 42,
   "metadata": {},
   "outputs": [],
   "source": [
    "pred_df = pd.DataFrame({'Actual': ytest, 'Pred': predictions2, 'Rolling':Xtest['Kicker_Pts_rolling5'].iloc[:,1]})\n",
    "\n",
    "pred_df['residual'] = abs(pred_df['Actual'] - pred_df['Pred'])\n",
    "pred_df['roll_res'] = abs(pred_df['Actual'] - pred_df['Rolling'])\n"
   ]
  },
  {
   "cell_type": "code",
   "execution_count": 44,
   "metadata": {},
   "outputs": [
    {
     "data": {
      "text/html": [
       "<div>\n",
       "<style>\n",
       "    .dataframe thead tr:only-child th {\n",
       "        text-align: right;\n",
       "    }\n",
       "\n",
       "    .dataframe thead th {\n",
       "        text-align: left;\n",
       "    }\n",
       "\n",
       "    .dataframe tbody tr th {\n",
       "        vertical-align: top;\n",
       "    }\n",
       "</style>\n",
       "<table border=\"1\" class=\"dataframe\">\n",
       "  <thead>\n",
       "    <tr style=\"text-align: right;\">\n",
       "      <th></th>\n",
       "      <th>Actual</th>\n",
       "      <th>Pred</th>\n",
       "      <th>Rolling</th>\n",
       "      <th>residual</th>\n",
       "      <th>roll_res</th>\n",
       "    </tr>\n",
       "  </thead>\n",
       "  <tbody>\n",
       "    <tr>\n",
       "      <th>count</th>\n",
       "      <td>308.000</td>\n",
       "      <td>308.000</td>\n",
       "      <td>308.000</td>\n",
       "      <td>308.000</td>\n",
       "      <td>308.000</td>\n",
       "    </tr>\n",
       "    <tr>\n",
       "      <th>mean</th>\n",
       "      <td>8.828</td>\n",
       "      <td>8.945</td>\n",
       "      <td>8.750</td>\n",
       "      <td>3.025</td>\n",
       "      <td>3.422</td>\n",
       "    </tr>\n",
       "    <tr>\n",
       "      <th>std</th>\n",
       "      <td>4.787</td>\n",
       "      <td>2.697</td>\n",
       "      <td>2.131</td>\n",
       "      <td>2.469</td>\n",
       "      <td>2.657</td>\n",
       "    </tr>\n",
       "    <tr>\n",
       "      <th>min</th>\n",
       "      <td>0.000</td>\n",
       "      <td>3.540</td>\n",
       "      <td>3.000</td>\n",
       "      <td>0.025</td>\n",
       "      <td>0.000</td>\n",
       "    </tr>\n",
       "    <tr>\n",
       "      <th>25%</th>\n",
       "      <td>5.000</td>\n",
       "      <td>6.837</td>\n",
       "      <td>7.000</td>\n",
       "      <td>1.003</td>\n",
       "      <td>1.000</td>\n",
       "    </tr>\n",
       "    <tr>\n",
       "      <th>50%</th>\n",
       "      <td>8.000</td>\n",
       "      <td>8.747</td>\n",
       "      <td>9.000</td>\n",
       "      <td>2.502</td>\n",
       "      <td>3.000</td>\n",
       "    </tr>\n",
       "    <tr>\n",
       "      <th>75%</th>\n",
       "      <td>12.000</td>\n",
       "      <td>10.750</td>\n",
       "      <td>10.000</td>\n",
       "      <td>4.354</td>\n",
       "      <td>5.000</td>\n",
       "    </tr>\n",
       "    <tr>\n",
       "      <th>max</th>\n",
       "      <td>28.000</td>\n",
       "      <td>15.183</td>\n",
       "      <td>15.000</td>\n",
       "      <td>15.441</td>\n",
       "      <td>18.000</td>\n",
       "    </tr>\n",
       "  </tbody>\n",
       "</table>\n",
       "</div>"
      ],
      "text/plain": [
       "       Actual    Pred  Rolling  residual  roll_res\n",
       "count 308.000 308.000  308.000   308.000   308.000\n",
       "mean    8.828   8.945    8.750     3.025     3.422\n",
       "std     4.787   2.697    2.131     2.469     2.657\n",
       "min     0.000   3.540    3.000     0.025     0.000\n",
       "25%     5.000   6.837    7.000     1.003     1.000\n",
       "50%     8.000   8.747    9.000     2.502     3.000\n",
       "75%    12.000  10.750   10.000     4.354     5.000\n",
       "max    28.000  15.183   15.000    15.441    18.000"
      ]
     },
     "execution_count": 44,
     "metadata": {},
     "output_type": "execute_result"
    }
   ],
   "source": [
    "pred_df.describe()"
   ]
  },
  {
   "cell_type": "code",
   "execution_count": 161,
   "metadata": {
    "collapsed": true
   },
   "outputs": [],
   "source": [
    "pred_df = pd.DataFrame({'Actual': ytest, 'Pred': predictions})"
   ]
  },
  {
   "cell_type": "code",
   "execution_count": 166,
   "metadata": {},
   "outputs": [
    {
     "data": {
      "text/html": [
       "<div>\n",
       "<style>\n",
       "    .dataframe thead tr:only-child th {\n",
       "        text-align: right;\n",
       "    }\n",
       "\n",
       "    .dataframe thead th {\n",
       "        text-align: left;\n",
       "    }\n",
       "\n",
       "    .dataframe tbody tr th {\n",
       "        vertical-align: top;\n",
       "    }\n",
       "</style>\n",
       "<table border=\"1\" class=\"dataframe\">\n",
       "  <thead>\n",
       "    <tr style=\"text-align: right;\">\n",
       "      <th></th>\n",
       "      <th>Actual</th>\n",
       "      <th>Pred</th>\n",
       "      <th>residual</th>\n",
       "    </tr>\n",
       "  </thead>\n",
       "  <tbody>\n",
       "    <tr>\n",
       "      <th>498</th>\n",
       "      <td>8</td>\n",
       "      <td>7.975</td>\n",
       "      <td>0.025</td>\n",
       "    </tr>\n",
       "    <tr>\n",
       "      <th>869</th>\n",
       "      <td>7</td>\n",
       "      <td>6.965</td>\n",
       "      <td>0.035</td>\n",
       "    </tr>\n",
       "    <tr>\n",
       "      <th>278</th>\n",
       "      <td>9</td>\n",
       "      <td>9.048</td>\n",
       "      <td>0.048</td>\n",
       "    </tr>\n",
       "    <tr>\n",
       "      <th>233</th>\n",
       "      <td>9</td>\n",
       "      <td>9.088</td>\n",
       "      <td>0.088</td>\n",
       "    </tr>\n",
       "    <tr>\n",
       "      <th>1224</th>\n",
       "      <td>8</td>\n",
       "      <td>7.896</td>\n",
       "      <td>0.104</td>\n",
       "    </tr>\n",
       "  </tbody>\n",
       "</table>\n",
       "</div>"
      ],
      "text/plain": [
       "      Actual  Pred  residual\n",
       "498        8 7.975     0.025\n",
       "869        7 6.965     0.035\n",
       "278        9 9.048     0.048\n",
       "233        9 9.088     0.088\n",
       "1224       8 7.896     0.104"
      ]
     },
     "execution_count": 166,
     "metadata": {},
     "output_type": "execute_result"
    }
   ],
   "source": [
    "pred_df['residual'] = abs(pred_df['Actual'] - pred_df['Pred'])\n",
    "\n",
    "good_guess = pred_df[ pred_df['residual'] <= 2.0 ]\n",
    "good_guess.sort_values(by='residual').head()"
   ]
  },
  {
   "cell_type": "code",
   "execution_count": 168,
   "metadata": {},
   "outputs": [
    {
     "data": {
      "text/html": [
       "<div>\n",
       "<style>\n",
       "    .dataframe thead tr:only-child th {\n",
       "        text-align: right;\n",
       "    }\n",
       "\n",
       "    .dataframe thead th {\n",
       "        text-align: left;\n",
       "    }\n",
       "\n",
       "    .dataframe tbody tr th {\n",
       "        vertical-align: top;\n",
       "    }\n",
       "</style>\n",
       "<table border=\"1\" class=\"dataframe\">\n",
       "  <thead>\n",
       "    <tr style=\"text-align: right;\">\n",
       "      <th></th>\n",
       "      <th>Actual</th>\n",
       "      <th>Pred</th>\n",
       "      <th>residual</th>\n",
       "    </tr>\n",
       "  </thead>\n",
       "  <tbody>\n",
       "    <tr>\n",
       "      <th>596</th>\n",
       "      <td>23</td>\n",
       "      <td>10.702</td>\n",
       "      <td>12.298</td>\n",
       "    </tr>\n",
       "    <tr>\n",
       "      <th>984</th>\n",
       "      <td>18</td>\n",
       "      <td>7.133</td>\n",
       "      <td>10.867</td>\n",
       "    </tr>\n",
       "    <tr>\n",
       "      <th>719</th>\n",
       "      <td>18</td>\n",
       "      <td>7.186</td>\n",
       "      <td>10.814</td>\n",
       "    </tr>\n",
       "    <tr>\n",
       "      <th>539</th>\n",
       "      <td>18</td>\n",
       "      <td>7.853</td>\n",
       "      <td>10.147</td>\n",
       "    </tr>\n",
       "    <tr>\n",
       "      <th>1076</th>\n",
       "      <td>22</td>\n",
       "      <td>13.300</td>\n",
       "      <td>8.700</td>\n",
       "    </tr>\n",
       "  </tbody>\n",
       "</table>\n",
       "</div>"
      ],
      "text/plain": [
       "      Actual   Pred  residual\n",
       "596       23 10.702    12.298\n",
       "984       18  7.133    10.867\n",
       "719       18  7.186    10.814\n",
       "539       18  7.853    10.147\n",
       "1076      22 13.300     8.700"
      ]
     },
     "execution_count": 168,
     "metadata": {},
     "output_type": "execute_result"
    }
   ],
   "source": [
    "poor_guess = pred_df[ pred_df['residual'] >= 7.0 ]\n",
    "poor_guess.sort_values(by='residual', ascending=False).head()"
   ]
  },
  {
   "cell_type": "code",
   "execution_count": 169,
   "metadata": {},
   "outputs": [
    {
     "data": {
      "text/html": [
       "<div>\n",
       "<style>\n",
       "    .dataframe thead tr:only-child th {\n",
       "        text-align: right;\n",
       "    }\n",
       "\n",
       "    .dataframe thead th {\n",
       "        text-align: left;\n",
       "    }\n",
       "\n",
       "    .dataframe tbody tr th {\n",
       "        vertical-align: top;\n",
       "    }\n",
       "</style>\n",
       "<table border=\"1\" class=\"dataframe\">\n",
       "  <thead>\n",
       "    <tr style=\"text-align: right;\">\n",
       "      <th></th>\n",
       "      <th>Actual</th>\n",
       "      <th>Pred</th>\n",
       "      <th>residual</th>\n",
       "    </tr>\n",
       "  </thead>\n",
       "  <tbody>\n",
       "    <tr>\n",
       "      <th>count</th>\n",
       "      <td>308.000</td>\n",
       "      <td>308.000</td>\n",
       "      <td>308.000</td>\n",
       "    </tr>\n",
       "    <tr>\n",
       "      <th>mean</th>\n",
       "      <td>8.919</td>\n",
       "      <td>8.693</td>\n",
       "      <td>2.985</td>\n",
       "    </tr>\n",
       "    <tr>\n",
       "      <th>std</th>\n",
       "      <td>4.474</td>\n",
       "      <td>2.662</td>\n",
       "      <td>2.246</td>\n",
       "    </tr>\n",
       "    <tr>\n",
       "      <th>min</th>\n",
       "      <td>-1.000</td>\n",
       "      <td>2.970</td>\n",
       "      <td>0.025</td>\n",
       "    </tr>\n",
       "    <tr>\n",
       "      <th>25%</th>\n",
       "      <td>6.000</td>\n",
       "      <td>6.952</td>\n",
       "      <td>1.158</td>\n",
       "    </tr>\n",
       "    <tr>\n",
       "      <th>50%</th>\n",
       "      <td>9.000</td>\n",
       "      <td>8.165</td>\n",
       "      <td>2.600</td>\n",
       "    </tr>\n",
       "    <tr>\n",
       "      <th>75%</th>\n",
       "      <td>12.000</td>\n",
       "      <td>10.236</td>\n",
       "      <td>4.296</td>\n",
       "    </tr>\n",
       "    <tr>\n",
       "      <th>max</th>\n",
       "      <td>23.000</td>\n",
       "      <td>16.889</td>\n",
       "      <td>12.298</td>\n",
       "    </tr>\n",
       "  </tbody>\n",
       "</table>\n",
       "</div>"
      ],
      "text/plain": [
       "       Actual    Pred  residual\n",
       "count 308.000 308.000   308.000\n",
       "mean    8.919   8.693     2.985\n",
       "std     4.474   2.662     2.246\n",
       "min    -1.000   2.970     0.025\n",
       "25%     6.000   6.952     1.158\n",
       "50%     9.000   8.165     2.600\n",
       "75%    12.000  10.236     4.296\n",
       "max    23.000  16.889    12.298"
      ]
     },
     "execution_count": 169,
     "metadata": {},
     "output_type": "execute_result"
    }
   ],
   "source": [
    "pred_df.describe()"
   ]
  },
  {
   "cell_type": "code",
   "execution_count": 176,
   "metadata": {},
   "outputs": [
    {
     "data": {
      "text/plain": [
       "<matplotlib.axes._subplots.AxesSubplot at 0x112daed68>"
      ]
     },
     "execution_count": 176,
     "metadata": {},
     "output_type": "execute_result"
    },
    {
     "data": {
      "image/png": "[encoded data removed]",
      "text/plain": [
       "<Figure size 432x288 with 1 Axes>"
      ]
     },
     "metadata": {},
     "output_type": "display_data"
    }
   ],
   "source": [
    "sns.distplot(good_guess['Actual'], bins=15)"
   ]
  },
  {
   "cell_type": "code",
   "execution_count": 175,
   "metadata": {},
   "outputs": [
    {
     "data": {
      "text/plain": [
       "<matplotlib.axes._subplots.AxesSubplot at 0x114eca160>"
      ]
     },
     "execution_count": 175,
     "metadata": {},
     "output_type": "execute_result"
    },
    {
     "data": {
      "image/png": "[encoded data removed]",
      "text/plain": [
       "<Figure size 432x288 with 1 Axes>"
      ]
     },
     "metadata": {},
     "output_type": "display_data"
    }
   ],
   "source": [
    "sns.distplot(poor_guess['Actual'], bins=15)"
   ]
  },
  {
   "cell_type": "code",
   "execution_count": 182,
   "metadata": {
    "collapsed": true
   },
   "outputs": [],
   "source": []
  },
  {
   "cell_type": "code",
   "execution_count": 64,
   "metadata": {},
   "outputs": [
    {
     "name": "stdout",
     "output_type": "stream",
     "text": [
      "\u001b[31mInitialization\u001b[0m\n",
      "\u001b[94m---------------------------------------------------------------------------------------------------------------------------------------------------\u001b[0m\n",
      " Step |   Time |      Value |     alpha |   colsample_bytree |     gamma |     lambd |   max_depth |   min_child_weight |     n_est |   subsample | \n",
      "Multiple eval metrics have been passed: 'test-mae' will be used for early stopping.\n",
      "\n",
      "Will train until test-mae hasn't improved in 50 rounds.\n",
      "Stopping. Best iteration:\n",
      "[7]\ttrain-mae:2.67922+0.0333031\ttest-mae:3.14649+0.0714518\n",
      "\n",
      "    1 | 00m00s | \u001b[35m  -3.14649\u001b[0m | \u001b[32m   9.6322\u001b[0m | \u001b[32m            0.4509\u001b[0m | \u001b[32m   8.3199\u001b[0m | \u001b[32m   0.0012\u001b[0m | \u001b[32m     8.4415\u001b[0m | \u001b[32m           17.7496\u001b[0m | \u001b[32m2577.9747\u001b[0m | \u001b[32m     0.5000\u001b[0m | \n",
      "Multiple eval metrics have been passed: 'test-mae' will be used for early stopping.\n",
      "\n",
      "Will train until test-mae hasn't improved in 50 rounds.\n",
      "Stopping. Best iteration:\n",
      "[9]\ttrain-mae:2.72809+0.0199729\ttest-mae:3.0314+0.0783003\n",
      "\n",
      "    2 | 00m00s | \u001b[35m  -3.03140\u001b[0m | \u001b[32m   9.0504\u001b[0m | \u001b[32m            0.1374\u001b[0m | \u001b[32m   2.5381\u001b[0m | \u001b[32m   0.3320\u001b[0m | \u001b[32m     3.2322\u001b[0m | \u001b[32m            2.0858\u001b[0m | \u001b[32m2140.8643\u001b[0m | \u001b[32m     0.9718\u001b[0m | \n",
      "Multiple eval metrics have been passed: 'test-mae' will be used for early stopping.\n",
      "\n",
      "Will train until test-mae hasn't improved in 50 rounds.\n",
      "Stopping. Best iteration:\n",
      "[9]\ttrain-mae:2.01481+0.0278839\ttest-mae:3.17677+0.0971709\n",
      "\n",
      "    3 | 00m00s |   -3.17677 |    1.0973 |             0.8392 |    7.0299 |    0.7022 |      9.8009 |            19.7562 | 3287.0485 |      0.9017 | \n",
      "Multiple eval metrics have been passed: 'test-mae' will be used for early stopping.\n",
      "\n",
      "Will train until test-mae hasn't improved in 50 rounds.\n",
      "Stopping. Best iteration:\n",
      "[8]\ttrain-mae:2.28474+0.0180396\ttest-mae:3.17049+0.132405\n",
      "\n",
      "    4 | 00m00s |   -3.17049 |    6.1231 |             0.2459 |    0.0344 |    0.7064 |      9.3060 |            15.0618 | 2269.9585 |      0.7166 | \n",
      "Multiple eval metrics have been passed: 'test-mae' will be used for early stopping.\n",
      "\n",
      "Will train until test-mae hasn't improved in 50 rounds.\n",
      "Stopping. Best iteration:\n",
      "[7]\ttrain-mae:2.07187+0.0550008\ttest-mae:3.24261+0.0702204\n",
      "\n",
      "    5 | 00m00s |   -3.24261 |    3.8110 |             0.7477 |    1.3320 |    0.7315 |      7.2689 |             4.8060 | 2645.5635 |      0.6857 | \n",
      "\u001b[31mBayesian Optimization\u001b[0m\n",
      "\u001b[94m---------------------------------------------------------------------------------------------------------------------------------------------------\u001b[0m\n",
      " Step |   Time |      Value |     alpha |   colsample_bytree |     gamma |     lambd |   max_depth |   min_child_weight |     n_est |   subsample | \n",
      "Multiple eval metrics have been passed: 'test-mae' will be used for early stopping.\n",
      "\n",
      "Will train until test-mae hasn't improved in 50 rounds.\n",
      "Stopping. Best iteration:\n",
      "[23]\ttrain-mae:2.94127+0.0247076\ttest-mae:3.02903+0.0631517\n",
      "\n",
      "    6 | 00m14s | \u001b[35m  -3.02903\u001b[0m | \u001b[32m  10.0000\u001b[0m | \u001b[32m            0.1000\u001b[0m | \u001b[32m  10.0000\u001b[0m | \u001b[32m   0.0000\u001b[0m | \u001b[32m     1.0000\u001b[0m | \u001b[32m            1.0000\u001b[0m | \u001b[32m3500.0000\u001b[0m | \u001b[32m     0.5000\u001b[0m | \n",
      "Multiple eval metrics have been passed: 'test-mae' will be used for early stopping.\n",
      "\n",
      "Will train until test-mae hasn't improved in 50 rounds.\n",
      "Stopping. Best iteration:\n",
      "[7]\ttrain-mae:2.57389+0.0145961\ttest-mae:3.15858+0.0640129\n",
      "\n",
      "    7 | 00m17s |   -3.15858 |    0.0000 |             1.0000 |   10.0000 |    0.0000 |     10.0000 |            20.0000 | 2000.0000 |      0.5000 | \n",
      "Multiple eval metrics have been passed: 'test-mae' will be used for early stopping.\n",
      "\n",
      "Will train until test-mae hasn't improved in 50 rounds.\n",
      "Stopping. Best iteration:\n",
      "[23]\ttrain-mae:2.94273+0.0301188\ttest-mae:3.02927+0.0661519\n",
      "\n",
      "    8 | 00m16s |   -3.02927 |   10.0000 |             0.1000 |   10.0000 |    0.0000 |      1.0000 |            20.0000 | 3016.9225 |      0.5000 | \n",
      "Multiple eval metrics have been passed: 'test-mae' will be used for early stopping.\n",
      "\n",
      "Will train until test-mae hasn't improved in 50 rounds.\n",
      "Stopping. Best iteration:\n",
      "[42]\ttrain-mae:2.88459+0.0181012\ttest-mae:2.98696+0.054938\n",
      "\n",
      "    9 | 00m17s | \u001b[35m  -2.98696\u001b[0m | \u001b[32m  10.0000\u001b[0m | \u001b[32m            0.1000\u001b[0m | \u001b[32m   0.0000\u001b[0m | \u001b[32m   0.0000\u001b[0m | \u001b[32m     1.0000\u001b[0m | \u001b[32m            1.0000\u001b[0m | \u001b[32m3118.6610\u001b[0m | \u001b[32m     1.0000\u001b[0m | \n",
      "Multiple eval metrics have been passed: 'test-mae' will be used for early stopping.\n",
      "\n",
      "Will train until test-mae hasn't improved in 50 rounds.\n",
      "Stopping. Best iteration:\n",
      "[7]\ttrain-mae:2.61801+0.0231128\ttest-mae:3.14924+0.063478\n",
      "\n",
      "   10 | 00m18s |   -3.14924 |    0.0000 |             1.0000 |   10.0000 |    1.0000 |     10.0000 |            20.0000 | 3108.3447 |      0.5000 | \n",
      "Multiple eval metrics have been passed: 'test-mae' will be used for early stopping.\n",
      "\n",
      "Will train until test-mae hasn't improved in 50 rounds.\n",
      "Stopping. Best iteration:\n",
      "[42]\ttrain-mae:2.88459+0.0181012\ttest-mae:2.98696+0.054938\n",
      "\n",
      "   11 | 00m17s |   -2.98696 |   10.0000 |             0.1000 |    0.0000 |    0.0000 |      1.0000 |             1.0000 | 2906.9821 |      1.0000 | \n",
      "Multiple eval metrics have been passed: 'test-mae' will be used for early stopping.\n",
      "\n",
      "Will train until test-mae hasn't improved in 50 rounds.\n",
      "Stopping. Best iteration:\n",
      "[42]\ttrain-mae:2.88459+0.0181012\ttest-mae:2.98696+0.054938\n",
      "\n",
      "   12 | 00m17s |   -2.98696 |   10.0000 |             0.1000 |   10.0000 |    0.0000 |      1.0000 |             1.0000 | 2448.1277 |      1.0000 | \n",
      "Multiple eval metrics have been passed: 'test-mae' will be used for early stopping.\n",
      "\n",
      "Will train until test-mae hasn't improved in 50 rounds.\n",
      "Stopping. Best iteration:\n",
      "[7]\ttrain-mae:1.67746+0.0181827\ttest-mae:3.30832+0.14408\n",
      "\n",
      "   13 | 00m19s |   -3.30832 |   10.0000 |             1.0000 |    0.0000 |    0.0000 |     10.0000 |             1.0000 | 3001.6523 |      1.0000 | \n",
      "Multiple eval metrics have been passed: 'test-mae' will be used for early stopping.\n",
      "\n",
      "Will train until test-mae hasn't improved in 50 rounds.\n",
      "Stopping. Best iteration:\n",
      "[23]\ttrain-mae:2.94273+0.0301188\ttest-mae:3.02927+0.0661519\n",
      "\n",
      "   14 | 00m16s |   -3.02927 |   10.0000 |             0.1000 |   10.0000 |    0.0000 |      1.0000 |            20.0000 | 2801.5251 |      0.5000 | \n",
      "Multiple eval metrics have been passed: 'test-mae' will be used for early stopping.\n",
      "\n",
      "Will train until test-mae hasn't improved in 50 rounds.\n",
      "Stopping. Best iteration:\n",
      "[23]\ttrain-mae:2.94127+0.0247076\ttest-mae:3.02903+0.0631517\n",
      "\n",
      "   15 | 00m15s |   -3.02903 |   10.0000 |             0.1000 |   10.0000 |    0.0000 |      1.0000 |             1.0000 | 3203.0846 |      0.5000 | \n",
      "Multiple eval metrics have been passed: 'test-mae' will be used for early stopping.\n",
      "\n",
      "Will train until test-mae hasn't improved in 50 rounds.\n",
      "Stopping. Best iteration:\n",
      "[42]\ttrain-mae:2.88459+0.0181012\ttest-mae:2.98696+0.054938\n",
      "\n",
      "   16 | 00m15s |   -2.98696 |   10.0000 |             0.1000 |    0.0000 |    0.0000 |      1.0000 |             1.0000 | 3394.8035 |      1.0000 | \n",
      "Multiple eval metrics have been passed: 'test-mae' will be used for early stopping.\n",
      "\n",
      "Will train until test-mae hasn't improved in 50 rounds.\n",
      "Stopping. Best iteration:\n",
      "[18]\ttrain-mae:2.96273+0.0281901\ttest-mae:3.04087+0.0567831\n",
      "\n",
      "   17 | 00m16s |   -3.04087 |    0.0000 |             0.1000 |   10.0000 |    1.0000 |      1.0000 |            20.0000 | 2888.5172 |      0.5000 | \n",
      "Multiple eval metrics have been passed: 'test-mae' will be used for early stopping.\n",
      "\n",
      "Will train until test-mae hasn't improved in 50 rounds.\n",
      "Stopping. Best iteration:\n",
      "[9]\ttrain-mae:2.49129+0.0312277\ttest-mae:3.12176+0.0640391\n",
      "\n",
      "   18 | 00m19s |   -3.12176 |    0.0000 |             1.0000 |    0.0000 |    1.0000 |     10.0000 |            20.0000 | 2401.8763 |      0.5000 | \n",
      "Multiple eval metrics have been passed: 'test-mae' will be used for early stopping.\n",
      "\n",
      "Will train until test-mae hasn't improved in 50 rounds.\n",
      "Stopping. Best iteration:\n",
      "[36]\ttrain-mae:2.90097+0.0184723\ttest-mae:2.99695+0.0630971\n",
      "\n",
      "   19 | 00m19s |   -2.99695 |    0.0000 |             0.1000 |    0.0000 |    0.0000 |      1.0000 |            20.0000 | 3448.4586 |      1.0000 | \n",
      "Multiple eval metrics have been passed: 'test-mae' will be used for early stopping.\n",
      "\n"
     ]
    },
    {
     "name": "stdout",
     "output_type": "stream",
     "text": [
      "Will train until test-mae hasn't improved in 50 rounds.\n",
      "Stopping. Best iteration:\n",
      "[18]\ttrain-mae:2.95818+0.022327\ttest-mae:3.036+0.0556481\n",
      "\n",
      "   20 | 00m18s |   -3.03600 |    0.0000 |             1.0000 |    0.0000 |    1.0000 |      1.0000 |             1.0000 | 2505.3619 |      0.5000 | \n",
      "Multiple eval metrics have been passed: 'test-mae' will be used for early stopping.\n",
      "\n",
      "Will train until test-mae hasn't improved in 50 rounds.\n",
      "Stopping. Best iteration:\n",
      "[36]\ttrain-mae:2.91127+0.0198289\ttest-mae:2.99281+0.0573829\n",
      "\n",
      "   21 | 00m23s |   -2.99281 |   10.0000 |             0.1000 |    0.0000 |    0.0000 |      1.0000 |            20.0000 | 3160.9166 |      1.0000 | \n",
      "Multiple eval metrics have been passed: 'test-mae' will be used for early stopping.\n",
      "\n",
      "Will train until test-mae hasn't improved in 50 rounds.\n",
      "Stopping. Best iteration:\n",
      "[23]\ttrain-mae:2.94127+0.0247076\ttest-mae:3.02903+0.0631517\n",
      "\n",
      "   22 | 00m19s |   -3.02903 |   10.0000 |             0.1000 |   10.0000 |    0.0000 |      1.0000 |             1.0000 | 2847.0315 |      0.5000 | \n",
      "Multiple eval metrics have been passed: 'test-mae' will be used for early stopping.\n",
      "\n",
      "Will train until test-mae hasn't improved in 50 rounds.\n",
      "Stopping. Best iteration:\n",
      "[15]\ttrain-mae:2.98426+0.0199911\ttest-mae:3.03888+0.0527656\n",
      "\n",
      "   23 | 00m20s |   -3.03888 |    0.0000 |             1.0000 |   10.0000 |    0.0000 |      1.0000 |            20.0000 | 2174.4798 |      0.5000 | \n",
      "Multiple eval metrics have been passed: 'test-mae' will be used for early stopping.\n",
      "\n",
      "Will train until test-mae hasn't improved in 50 rounds.\n",
      "Stopping. Best iteration:\n",
      "[23]\ttrain-mae:2.9453+0.0282746\ttest-mae:3.0336+0.0640804\n",
      "\n",
      "   24 | 00m23s |   -3.03360 |   10.0000 |             0.1000 |   10.0000 |    1.0000 |      1.0000 |            20.0000 | 3391.8352 |      0.5000 | \n",
      "Multiple eval metrics have been passed: 'test-mae' will be used for early stopping.\n",
      "\n",
      "Will train until test-mae hasn't improved in 50 rounds.\n",
      "Stopping. Best iteration:\n",
      "[36]\ttrain-mae:2.91127+0.0198289\ttest-mae:2.99281+0.0573829\n",
      "\n",
      "   25 | 00m20s |   -2.99281 |   10.0000 |             0.1000 |    0.0000 |    0.0000 |      1.0000 |            20.0000 | 2872.2419 |      1.0000 | \n",
      "Multiple eval metrics have been passed: 'test-mae' will be used for early stopping.\n",
      "\n",
      "Will train until test-mae hasn't improved in 50 rounds.\n",
      "Stopping. Best iteration:\n",
      "[10]\ttrain-mae:2.58256+0.0236013\ttest-mae:3.08381+0.126752\n",
      "\n",
      "   26 | 00m19s |   -3.08381 |   10.0000 |             0.1000 |    0.0000 |    1.0000 |     10.0000 |            20.0000 | 3500.0000 |      0.5000 | \n",
      "Multiple eval metrics have been passed: 'test-mae' will be used for early stopping.\n",
      "\n",
      "Will train until test-mae hasn't improved in 50 rounds.\n",
      "Stopping. Best iteration:\n",
      "[36]\ttrain-mae:2.91127+0.0198289\ttest-mae:2.99281+0.0573829\n",
      "\n",
      "   27 | 00m18s |   -2.99281 |   10.0000 |             0.1000 |   10.0000 |    0.0000 |      1.0000 |            20.0000 | 2480.0061 |      1.0000 | \n",
      "Multiple eval metrics have been passed: 'test-mae' will be used for early stopping.\n",
      "\n",
      "Will train until test-mae hasn't improved in 50 rounds.\n",
      "Stopping. Best iteration:\n",
      "[23]\ttrain-mae:2.9453+0.0282746\ttest-mae:3.0336+0.0640804\n",
      "\n",
      "   28 | 00m19s |   -3.03360 |   10.0000 |             0.1000 |    0.0000 |    1.0000 |      1.0000 |            20.0000 | 2091.9767 |      0.5000 | \n",
      "Multiple eval metrics have been passed: 'test-mae' will be used for early stopping.\n",
      "\n",
      "Will train until test-mae hasn't improved in 50 rounds.\n",
      "Stopping. Best iteration:\n",
      "[6]\ttrain-mae:1.92999+0.0320895\ttest-mae:3.51466+0.0584176\n",
      "\n",
      "   29 | 00m19s |   -3.51466 |    0.0000 |             0.1000 |   10.0000 |    1.0000 |     10.0000 |             1.0000 | 3435.6360 |      0.5000 | \n",
      "Multiple eval metrics have been passed: 'test-mae' will be used for early stopping.\n",
      "\n",
      "Will train until test-mae hasn't improved in 50 rounds.\n",
      "Stopping. Best iteration:\n",
      "[36]\ttrain-mae:2.91127+0.0198289\ttest-mae:2.99281+0.0573829\n",
      "\n",
      "   30 | 00m17s |   -2.99281 |   10.0000 |             0.1000 |    0.0000 |    0.0000 |      1.0000 |            20.0000 | 3337.9692 |      1.0000 | \n"
     ]
    }
   ],
   "source": [
    "from bayes_opt import BayesianOptimization\n",
    "from sklearn.preprocessing import LabelEncoder\n",
    "from sklearn.metrics import mean_absolute_error\n",
    "from bayes_opt import BayesianOptimization\n",
    "from tqdm import tqdm\n",
    "__author__ = \"Vladimir Iglovikov\"\n",
    "\n",
    "def xgb_evaluate(min_child_weight,\n",
    "                 colsample_bytree,\n",
    "                 max_depth,\n",
    "                 subsample,\n",
    "                 gamma,\n",
    "                 alpha,\n",
    "                lambd,\n",
    "                n_est):\n",
    "\n",
    "    params['min_child_weight'] = int(min_child_weight)\n",
    "    params['cosample_bytree'] = max(min(colsample_bytree, 1), 0)\n",
    "    params['max_depth'] = int(max_depth)\n",
    "    params['subsample'] = max(min(subsample, 1), 0)\n",
    "    params['gamma'] = max(gamma, 0)\n",
    "    params['alpha'] = max(alpha, 0)\n",
    "    params['lambda'] = max(lambd, 0)\n",
    "    params['n_estimators'] = max(n_est,1)\n",
    "\n",
    "    cv_result = xgb.cv(params, xgtrain, num_boost_round=num_rounds, nfold=5,\n",
    "             seed=random_state,\n",
    "             callbacks=[xgb.callback.early_stop(50)])\n",
    "\n",
    "    return -cv_result['test-mae-mean'].values[-1]\n",
    "\n",
    "\n",
    "def prepare_data():\n",
    "    #train = pd.read_csv('/Users/mattjohnson/Desktop/Python 2018/kaggleHousing/train.csv')\n",
    "    #categorical_columns = train.select_dtypes(include=['object']).columns\n",
    "    \n",
    "    X = pd.concat([all_data, num_data['Relative_Line']], axis=1)\n",
    "    y = kicker_pts\n",
    "    \n",
    "    xgtrain = xgb.DMatrix(X, label=y)\n",
    "\n",
    "    return xgtrain\n",
    "\n",
    "\n",
    "if __name__ == '__main__':\n",
    "    xgtrain = prepare_data()\n",
    "\n",
    "    num_rounds = 3000\n",
    "    random_state = 2018\n",
    "    num_iter = 25\n",
    "    init_points = 5\n",
    "    params = {\n",
    "        'silent': 1,\n",
    "        'eval_metric': 'mae', #\n",
    "        'verbose_eval': True,\n",
    "        'seed': random_state\n",
    "    }\n",
    "\n",
    "    xgbBO = BayesianOptimization(xgb_evaluate, {'min_child_weight': (1, 20),\n",
    "                                                'colsample_bytree': (0.1, 1),\n",
    "                                                'max_depth':(1,10),\n",
    "                                                'subsample': (0.5, 1),\n",
    "                                                'gamma': (0, 10),\n",
    "                                                'alpha': (0, 10),\n",
    "                                                'lambd': (0, 1),\n",
    "                                                'n_est': (2000,3500)\n",
    "                                                })\n",
    "\n",
    "    xgbBO.maximize(init_points=init_points, n_iter=num_iter)\n"
   ]
  },
  {
   "cell_type": "code",
   "execution_count": 65,
   "metadata": {
    "collapsed": true
   },
   "outputs": [],
   "source": [
    "model_xgb = xgb.XGBRegressor(colsample_bytree=0.1000, gamma=0.000, \n",
    "                             learning_rate=0.05, max_depth=1, \n",
    "                             min_child_weight=20.000, n_estimators=3338,\n",
    "                             reg_alpha=10.000, reg_lambda=0,\n",
    "                             subsample=1.000, silent=1,\n",
    "                             random_state =2018, nthread = -1)"
   ]
  },
  {
   "cell_type": "code",
   "execution_count": 79,
   "metadata": {
    "collapsed": true
   },
   "outputs": [],
   "source": [
    "X = pd.concat([all_data, num_data['Relative_Line']], axis=1)\n",
    "y = kicker_pts"
   ]
  },
  {
   "cell_type": "code",
   "execution_count": 80,
   "metadata": {},
   "outputs": [
    {
     "name": "stdout",
     "output_type": "stream",
     "text": [
      "Accuracy: 0.2851 (+/- 0.1233)\n"
     ]
    }
   ],
   "source": [
    "model_xgb.fit(X, y)\n",
    "\n",
    "scores_xgb = cross_val_score(model_xgb, X, y, cv=10)\n",
    "print(\"Accuracy: %0.4f (+/- %0.4f)\" % (scores_xgb.mean(), scores_xgb.std() * 2))"
   ]
  },
  {
   "cell_type": "code",
   "execution_count": 88,
   "metadata": {},
   "outputs": [],
   "source": [
    "X2 = pd.concat([X,y], axis=1)\n",
    "#X2 = X2[['Kicker_Pts_rolling5', 'Kicker_Pts']]\n",
    "X2['dev_from_mean'] = X2['Kicker_Pts_rolling5']-X2['Kicker_Pts']\n",
    "X2['abs'] = abs(X2['dev_from_mean'])"
   ]
  },
  {
   "cell_type": "code",
   "execution_count": 95,
   "metadata": {},
   "outputs": [
    {
     "data": {
      "text/plain": [
       "dev_from_mean                  1.000\n",
       "DEF_punts_per_drive            0.192\n",
       "punts_per_drive                0.178\n",
       "DEF_FG_range_per_drive         0.122\n",
       "FG_range_per_drive             0.104\n",
       "wind_chill                     0.061\n",
       "humidity                       0.061\n",
       "TwoPointConv                   0.060\n",
       "wind_mph                       0.045\n",
       "RZ_per_drive                   0.032\n",
       "DEF_RZ_per_drive               0.032\n",
       "Drive_rolling5                 0.014\n",
       "temperature                    0.005\n",
       "3rdDown_rate                  -0.005\n",
       "Relative_Line                 -0.005\n",
       "DEF_3rdDownSuccess_rolling5   -0.016\n",
       "Exp_Pts                       -0.020\n",
       "Total                         -0.030\n",
       "FirstDown                     -0.063\n",
       "DEF_FirstDown_rolling5        -0.065\n",
       "Drive                         -0.070\n",
       "Yards.Gained_rolling5         -0.084\n",
       "DEF_Drive_rolling5            -0.086\n",
       "DEF_Touchdown_rolling5        -0.109\n",
       "DEF_Yards.Gained_rolling5     -0.138\n",
       "PointsScored_rolling5         -0.161\n",
       "DEF_PointsScored_rolling5     -0.236\n",
       "Kicker_Pts_rolling5           -0.386\n",
       "DEF_Kicker_Pts_rolling5       -0.464\n",
       "abs                           -0.984\n",
       "Kicker_Pts                    -0.998\n",
       "Completion_pct                   nan\n",
       "DEF_Completion_pct               nan\n",
       "Name: dev_from_mean, dtype: float64"
      ]
     },
     "execution_count": 95,
     "metadata": {},
     "output_type": "execute_result"
    }
   ],
   "source": [
    "X2.corr()['dev_from_mean'].sort_values(ascending=False)"
   ]
  },
  {
   "cell_type": "code",
   "execution_count": null,
   "metadata": {},
   "outputs": [],
   "source": []
  },
  {
   "cell_type": "code",
   "execution_count": 96,
   "metadata": {},
   "outputs": [
    {
     "data": {
      "text/plain": [
       "<matplotlib.axes._subplots.AxesSubplot at 0x1133a1400>"
      ]
     },
     "execution_count": 96,
     "metadata": {},
     "output_type": "execute_result"
    },
    {
     "data": {
      "image/png": "[encoded data removed]",
      "text/plain": [
       "<Figure size 432x288 with 1 Axes>"
      ]
     },
     "metadata": {},
     "output_type": "display_data"
    }
   ],
   "source": [
    "sns.distplot(X2['Kicker_Pts_rolling5'])"
   ]
  },
  {
   "cell_type": "code",
   "execution_count": 97,
   "metadata": {},
   "outputs": [
    {
     "data": {
      "text/plain": [
       "<matplotlib.axes._subplots.AxesSubplot at 0x110fc0550>"
      ]
     },
     "execution_count": 97,
     "metadata": {},
     "output_type": "execute_result"
    },
    {
     "data": {
      "image/png": "[encoded data removed]",
      "text/plain": [
       "<Figure size 432x288 with 1 Axes>"
      ]
     },
     "metadata": {},
     "output_type": "display_data"
    }
   ],
   "source": [
    "sns.distplot(X2['DEF_Kicker_Pts_rolling5'])"
   ]
  },
  {
   "cell_type": "code",
   "execution_count": null,
   "metadata": {
    "collapsed": true
   },
   "outputs": [],
   "source": []
  }
 ],
 "metadata": {
  "kernelspec": {
   "display_name": "Python 3",
   "language": "python",
   "name": "python3"
  },
  "language_info": {
   "codemirror_mode": {
    "name": "ipython",
    "version": 3
   },
   "file_extension": ".py",
   "mimetype": "text/x-python",
   "name": "python",
   "nbconvert_exporter": "python",
   "pygments_lexer": "ipython3",
   "version": "3.6.3"
  }
 },
 "nbformat": 4,
 "nbformat_minor": 2
}
