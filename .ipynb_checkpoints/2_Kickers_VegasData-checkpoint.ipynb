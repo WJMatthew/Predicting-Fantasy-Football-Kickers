{
 "cells": [
  {
   "cell_type": "markdown",
   "metadata": {},
   "source": [
    "## Vegas Odds and Fantasy Football Kickers\n",
    "#### Matthew Johnson, August 9, 2018 (Last updated: August 13, 2018)\n",
    "\n",
    "1. NFL Data\n",
    "2. **Vegas odds**\n",
    "3. Weather\n",
    "<br><br>\n",
    "Odds from: http://www.footballlocks.com/archived_nfl_odds_lines_point_spreads.shtml\n",
    "<br>Currently have data for 2009-2017, weeks 6-16."
   ]
  },
  {
   "cell_type": "code",
   "execution_count": 1,
   "metadata": {
    "collapsed": true
   },
   "outputs": [],
   "source": [
    "%matplotlib inline\n",
    "import pandas as pd\n",
    "import numpy as np\n",
    "import matplotlib.pyplot as plt\n",
    "import seaborn as sns\n",
    "import warnings\n",
    "warnings.filterwarnings('ignore')\n",
    "odd_list = []\n",
    "\n",
    "for i in range(6,17):\n",
    "    try:\n",
    "        odds = pd.read_csv('/Users/mattjohnson/Desktop/Python2018/NFL/vegas_week'+str(i)+'.csv')\n",
    "        odds['Week']=i\n",
    "        odd_list.append(odds)\n",
    "    except:\n",
    "        print(i)"
   ]
  },
  {
   "cell_type": "code",
   "execution_count": 2,
   "metadata": {},
   "outputs": [
    {
     "name": "stdout",
     "output_type": "stream",
     "text": [
      "(150, 7)\n",
      "(143, 7)\n",
      "(145, 7)\n",
      "(142, 7)\n",
      "(148, 7)\n",
      "(149, 7)\n",
      "(156, 7)\n",
      "(161, 7)\n",
      "(163, 7)\n",
      "(144, 7)\n",
      "(164, 7)\n"
     ]
    }
   ],
   "source": [
    "for _ in odd_list:\n",
    "    print(_.shape)"
   ]
  },
  {
   "cell_type": "code",
   "execution_count": 3,
   "metadata": {
    "collapsed": true
   },
   "outputs": [],
   "source": [
    "team_dict = {'Carolina': \"CAR\", 'Houston': \"HOU\", 'New England': \"NE\", 'Atlanta': \"ATL\",\n",
    " 'New Orleans': \"NO\", 'Green Bay': \"GB\", 'Baltimore': \"BAL\", 'Washington': \"WAS\", \n",
    " 'Jacksonville': \"JAX\", 'Tampa Bay': \"TB\", 'Kansas City': \"KC\", 'Oakland':  \"OAK\",\n",
    " 'Denver': \"DEN\", 'Tennessee': \"TEN\", 'NY Giants': \"NYG\", 'Pittsburgh': \"PIT\",\n",
    " 'Chicago': \"CHI\", 'Buffalo': \"BUF\", 'Detroit': \"DET\", 'Philadelphia': \"PHI\",\n",
    " 'Seattle': \"SEA\", 'Arizona': \"ARI\", 'lanta':\"ATL\", 'Cincinnati': \"CIN\", 'Los Angeles': \"LAR\",\n",
    " 'Minnesota':\"MIN\", 'NY Jets':\"NYJ\", 'rizona':\"ARI\", 'Indianapolis': \"IND\", \n",
    " 'Cleveland': \"CLE\",'San Diego': \"SD\",'San Francisco': \"SF\", 'Dallas': \"DAL\",\n",
    " 'LA Rams': \"LAR\",'St. Louis': \"STL\", 'Miami':\"MIA\", 'LA Chargers': \"LAC\"}"
   ]
  },
  {
   "cell_type": "code",
   "execution_count": 4,
   "metadata": {
    "collapsed": true,
    "scrolled": false
   },
   "outputs": [],
   "source": [
    "def clean_odds_data(odd_list):\n",
    "    odds_df = pd.concat(odd_list)\n",
    "    odds_df.dropna(thresh=2, inplace=True)\n",
    "    \n",
    "    odds_df['Favorite'] = odds_df['Favorite'].astype(str)\n",
    "    odds_df['Underdog'] = odds_df['Underdog'].astype(str)  #.str.replace('\\D+', '')\n",
    "\n",
    "    odds_df['Favorite'] = odds_df['Favorite'].map(lambda x: x.lstrip('At\\s'))\n",
    "    odds_df['Underdog'] = odds_df['Underdog'].map(lambda x: x.lstrip('At\\s'))\n",
    "    odds_df['Favorite'] = odds_df['Favorite'].str.strip()\n",
    "    odds_df['Underdog'] = odds_df['Underdog'].str.strip()\n",
    "    \n",
    "    odds_df['favourite'] = odds_df['Favorite'].map(team_dict)\n",
    "    odds_df['underdog'] = odds_df['Underdog'].map(team_dict)\n",
    "\n",
    "    odds_df = odds_df[ odds_df['Date & Time'] != 'Date & Time']\n",
    "\n",
    "    odds_df['Date'] = odds_df['Date & Time'].str[0:5].str.strip()\n",
    "    \n",
    "    df_odds = odds_df['Date'].str.split('/').apply(pd.Series)\n",
    "    for col in df_odds.columns:\n",
    "        df_odds[col] =  df_odds[col].astype(str).apply(lambda x: x.zfill(2))\n",
    "    \n",
    "    odds_df['Date'] = df_odds[0] + '/' + df_odds[1]\n",
    "    \n",
    "    odds_df.drop(['Favorite', 'Underdog', 'Date & Time'], axis=1, inplace=True)\n",
    "        \n",
    "    odds_df = odds_df[~odds_df['Line'].str.contains(\"[a-zA-Z]\").fillna(False)]\n",
    "    odds_df['Line'] = pd.to_numeric(odds_df['Line'])\n",
    "    odds_df['Total'] = pd.to_numeric(odds_df['Total'])\n",
    "    \n",
    "    # add relative line\n",
    "    odds_df['fav_line'] = odds_df['Line']\n",
    "    odds_df['underdog_line'] = odds_df['Line']*(-1)\n",
    "    \n",
    "    missing_values_count = odds_df.isnull().sum()\n",
    "    \n",
    "    fav_df = odds_df[['Season', 'Week', 'Date', 'favourite', 'underdog', 'fav_line', 'Total']]\n",
    "    underdog_df = odds_df[['Season', 'Week', 'Date', 'underdog', 'favourite', 'underdog_line', 'Total']]\n",
    "\n",
    "    fav_df.columns = ['Season', 'Week', 'Date', 'OffenseTeam', 'DefenseTeam', 'Relative_Line', 'Total']\n",
    "    underdog_df.columns = ['Season', 'Week', 'Date', 'OffenseTeam', 'DefenseTeam', 'Relative_Line', 'Total']\n",
    "\n",
    "    odds_data = pd.concat([fav_df, underdog_df])\n",
    "    odds_data['Total'] = pd.to_numeric( odds_data['Total'] )\n",
    "    odds_data['Exp_Pts'] = odds_data['Relative_Line'] + odds_data['Total']\n",
    "    \n",
    "    odds_data['Season'] = odds_data['Season'].fillna(0)\n",
    "    odds_data['Season'] = odds_data['Season'].astype('int64')\n",
    "    odds_data['Season'] = odds_data['Season'].astype(str)\n",
    "    odds_data['Date'] = odds_data['Date'].astype(str)\n",
    "    odds_data['OffenseTeam'] = odds_data['OffenseTeam'].astype(str)\n",
    "\n",
    "    odds_data['mergeCode'] = odds_data['Season'] + '-' + odds_data['Date'] + '-'+ odds_data['OffenseTeam']\n",
    "    odds_data['mergeCode2'] = odds_data['Season']+'-'+ odds_data['Week'].astype(str)+'-' + odds_data['OffenseTeam']\n",
    "\n",
    "    odds_data.fillna(0, inplace=True)\n",
    "    \n",
    "    return odds_data"
   ]
  },
  {
   "cell_type": "markdown",
   "metadata": {},
   "source": [
    "## Start"
   ]
  },
  {
   "cell_type": "code",
   "execution_count": 810,
   "metadata": {
    "collapsed": true,
    "scrolled": false
   },
   "outputs": [],
   "source": [
    "odds_data = clean_odds_data(odd_list)"
   ]
  },
  {
   "cell_type": "code",
   "execution_count": 11,
   "metadata": {
    "collapsed": true
   },
   "outputs": [],
   "source": [
    "#odds_data.to_csv('vegas_odds09to17.csv') # weeks 6-16\n",
    "odds_data = pd.read_csv('vegas_odds09to17.csv')\n",
    "'''    data.drop([ 'Drive', 'DEF_Drive', 'DEF_Week', 'DEF_gameid', \n",
    "           'CompletePass_rolling5', 'ExPointBad_rolling5', 'TwoPointGood_rolling5', \n",
    "           'DEF_TwoPointConv_rolling5', 'DEF_CompletePass_rolling5', 'DEF_ExPointBad_rolling5', \n",
    "           'DEF_TwoPointGood_rolling5','DEF_FieldGoalBad_rolling5', 'DEF_Kicker_Pts'], \n",
    "          axis=1, inplace=True)'''"
   ]
  },
  {
   "cell_type": "code",
   "execution_count": 19,
   "metadata": {},
   "outputs": [],
   "source": [
    "train_list = []\n",
    "y_list = []\n",
    "\n",
    "def get_kicker_data():\n",
    "    data = pd.read_csv('kicker_data_09_17_good.csv')\n",
    "\n",
    "    data = data[ data['Week'] <= 13 ]\n",
    "    X = data.drop('Kicker_Pts', axis=1)\n",
    "    y = data['Kicker_Pts']\n",
    "    train_list.append(X)\n",
    "    y_list.append(y)\n",
    "    \n",
    "    X = pd.concat(train_list)\n",
    "    y = pd.concat(y_list)\n",
    "    \n",
    "    return [X,y]"
   ]
  },
  {
   "cell_type": "code",
   "execution_count": 20,
   "metadata": {},
   "outputs": [],
   "source": [
    "# for now\n",
    "X = pd.concat(get_kicker_data(), axis=1)"
   ]
  },
  {
   "cell_type": "code",
   "execution_count": 31,
   "metadata": {},
   "outputs": [],
   "source": [
    "X['gameid'] = X['gameid'].astype(str)\n",
    "X['date'] = (X['gameid'].str[4:6] + '/' + X['gameid'].str[6:8]).str.lstrip('0')\n",
    "X['offenseTeam']= X['offenseTeam'].str[0:4].str.strip('-')\n",
    "X['offenseTeam']= X['offenseTeam'].str.rstrip('-2')\n",
    "X['Season'] = X['Season'].astype(str)\n",
    "X['mergeCode'] = X['Season'] + '-' + X['date'] +'-'+ X['offenseTeam']\n",
    "\n",
    "all_data = pd.merge(odds_data.reset_index(drop=True), X.reset_index(drop=True), \n",
    "                    on='mergeCode2', how='inner')"
   ]
  },
  {
   "cell_type": "code",
   "execution_count": 32,
   "metadata": {},
   "outputs": [
    {
     "name": "stdout",
     "output_type": "stream",
     "text": [
      "(1695, 75) - (2878, 11) - (1962, 65)\n"
     ]
    }
   ],
   "source": [
    "print(all_data.shape, '-', odds_data.shape, '-', X.shape)"
   ]
  },
  {
   "cell_type": "code",
   "execution_count": 771,
   "metadata": {
    "collapsed": true
   },
   "outputs": [],
   "source": [
    "#all_data.to_csv('weeks6to16_vegas_and_stats.csv')"
   ]
  },
  {
   "cell_type": "code",
   "execution_count": null,
   "metadata": {},
   "outputs": [],
   "source": []
  },
  {
   "cell_type": "code",
   "execution_count": 40,
   "metadata": {
    "collapsed": true
   },
   "outputs": [],
   "source": [
    "from sklearn.model_selection import train_test_split\n",
    "X = all_data.fillna(0).select_dtypes(include=['int64', 'float64'])\n",
    "Xtrain, Xtest, ytrain, ytest = train_test_split(X.drop('Kicker_Pts', axis=1), X['Kicker_Pts'])"
   ]
  },
  {
   "cell_type": "code",
   "execution_count": 41,
   "metadata": {},
   "outputs": [],
   "source": [
    "from sklearn.ensemble import RandomForestRegressor\n",
    "rf = RandomForestRegressor(n_estimators = 1000, random_state = 2018)\n",
    "rf.fit(Xtrain, ytrain);"
   ]
  },
  {
   "cell_type": "code",
   "execution_count": 42,
   "metadata": {},
   "outputs": [
    {
     "name": "stdout",
     "output_type": "stream",
     "text": [
      "Mean Absolute Error: 3.85\n"
     ]
    }
   ],
   "source": [
    "predictions = rf.predict(Xtest)\n",
    "errors = abs(predictions - ytest)\n",
    "print('Mean Absolute Error:', round(np.mean(errors), 2))"
   ]
  },
  {
   "cell_type": "code",
   "execution_count": 44,
   "metadata": {},
   "outputs": [],
   "source": [
    "temp = all_data[['Relative_Line', 'Exp_Pts', 'Kicker_Pts_rolling5', 'DEF_Kicker_Pts_rolling5', 'Kicker_Pts']]"
   ]
  },
  {
   "cell_type": "code",
   "execution_count": 45,
   "metadata": {},
   "outputs": [
    {
     "data": {
      "text/plain": [
       "<matplotlib.axes._subplots.AxesSubplot at 0x10f72f390>"
      ]
     },
     "execution_count": 45,
     "metadata": {},
     "output_type": "execute_result"
    },
    {
     "data": {
      "image/png": "[encoded data removed]",
      "text/plain": [
       "<Figure size 432x288 with 2 Axes>"
      ]
     },
     "metadata": {},
     "output_type": "display_data"
    }
   ],
   "source": [
    "sns.heatmap(temp.corr(), annot=True)"
   ]
  },
  {
   "cell_type": "code",
   "execution_count": null,
   "metadata": {
    "collapsed": true
   },
   "outputs": [],
   "source": []
  }
 ],
 "metadata": {
  "kernelspec": {
   "display_name": "Python 3",
   "language": "python",
   "name": "python3"
  },
  "language_info": {
   "codemirror_mode": {
    "name": "ipython",
    "version": 3
   },
   "file_extension": ".py",
   "mimetype": "text/x-python",
   "name": "python",
   "nbconvert_exporter": "python",
   "pygments_lexer": "ipython3",
   "version": "3.6.3"
  }
 },
 "nbformat": 4,
 "nbformat_minor": 2
}
