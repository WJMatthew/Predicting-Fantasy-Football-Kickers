{
 "cells": [
  {
   "cell_type": "markdown",
   "metadata": {},
   "source": [
    "## Weather Data on NFL games for seasons 2009-2013\n",
    "#### Matthew Johnson, August 9, 2018 (Last updated: August 13, 2018)\n",
    "\n",
    "1. NFL data\n",
    "2. Vegas odds\n",
    "3. **Weather data**\n",
    "<br><br>\n",
    "\n",
    "Weather data is from http://nflsavant.com/about.php and originally contained weather for games between 1960-2013."
   ]
  },
  {
   "cell_type": "code",
   "execution_count": 365,
   "metadata": {
    "collapsed": true
   },
   "outputs": [],
   "source": [
    "%matplotlib inline\n",
    "import pandas as pd\n",
    "import numpy as np\n",
    "import matplotlib.pyplot as plt\n",
    "import seaborn as sns\n",
    "import warnings\n",
    "warnings.filterwarnings('ignore')\n",
    "\n",
    "weather = pd.read_csv('/Users/mattjohnson/Desktop/Python2018/NFL/weather_20131231.csv')"
   ]
  },
  {
   "cell_type": "markdown",
   "metadata": {},
   "source": [
    "We have weather for 1,119 games between 2009-2013:"
   ]
  },
  {
   "cell_type": "code",
   "execution_count": 421,
   "metadata": {},
   "outputs": [
    {
     "data": {
      "text/plain": [
       "(1119, 12)"
      ]
     },
     "execution_count": 421,
     "metadata": {},
     "output_type": "execute_result"
    }
   ],
   "source": [
    "weather[ weather['Season']>= 2009].shape"
   ]
  },
  {
   "cell_type": "code",
   "execution_count": 366,
   "metadata": {
    "collapsed": true
   },
   "outputs": [],
   "source": [
    "abbrev_dict = {\"Arizona Cardinals\": \"ARI\", \"San Diego Chargers\": \"SD\", \"Minnesota Vikings\": \"MIN\",\n",
    " \"Miami Dolphins\": \"MIA\", \"Tennessee Titans\": \"TEN\", \"Carolina Panthers\": \"CAR\",\n",
    " \"New York Giants\": \"NYG\", \"Pittsburgh Steelers\": \"PIT\", \"Houston Texans\": \"HOU\",\n",
    " \"Seattle Seahawks\": \"SEA\", \"Cleveland Browns\": \"CLE\", \"Atlanta Falcons\": \"ATL\",\n",
    " \"Baltimore Ravens\": \"BAL\", \"Green Bay Packers\": \"GB\", \"Indianapolis Colts\": \"IND\",\n",
    " \"New Orleans Saints\": \"NO\", \"Cincinnati Bengals\": \"CIN\", \"Tampa Bay Buccaneers\": \"TB\",\n",
    " \"Oakland Raiders\": \"OAK\", \"New England Patriots\": \"NE\", \"Dallas Cowboys\": \"DAL\",\n",
    " \"Chicago Bears\": \"CHI\", \"Kansas City Chiefs\": \"KC\", \"Washington Redskins\": \"WAS\",\n",
    " \"San Francisco 49ers\": \"SF\", \"Buffalo Bills\": \"BUF\", \"New York Jets\": \"NYJ\",\n",
    " \"Philadelphia Eagles\": \"PHI\", \"Denver Broncos\": \"DEN\", \"Jacksonville Jaguars\": \"JAX\",\n",
    " \"Detroit Lions\": \"DET\", \"St. Louis Rams\": \"STL\"}"
   ]
  },
  {
   "cell_type": "code",
   "execution_count": 477,
   "metadata": {
    "collapsed": true
   },
   "outputs": [],
   "source": [
    "home_columns = ['home_team', 'away_team','home_score', 'away_score', 'temperature',\n",
    "       'wind_chill', 'humidity', 'wind_mph', 'date', 'Season', 'home_team']\n",
    "away_columns = ['away_team', 'home_team', 'away_score', 'home_score', 'temperature',\n",
    "       'wind_chill', 'humidity', 'wind_mph', 'date', 'Season', 'home_team']\n",
    "all_columns = ['offenseTeam', 'defenseTeam','off_score', 'def_score', 'temperature',\n",
    "       'wind_chill', 'humidity', 'wind_mph', 'date', 'Season', 'home_team']\n",
    "    \n",
    "def clean_weather_data(df):\n",
    "    df['Season'] = pd.to_numeric(df['date'].str[-4:])\n",
    "    df = df[ df['Season'] >= 2009]\n",
    "    df['date'] = df['date'].str[:-5]\n",
    "    df['wind_chill'] = df['wind_chill'].fillna(df['temperature'])\n",
    "    df['humidity'] = pd.to_numeric(df['humidity'].str[:-1])\n",
    "    df['humidity'] = df['humidity'].fillna(df['humidity'].mean())\n",
    "    df['humidity'] = df['humidity'].round(0)\n",
    "    df['wind_mph'] = pd.to_numeric(df['wind_mph']).fillna(0.0)\n",
    "    df.drop(['id','weather'], axis=1, inplace=True)\n",
    "    df['home_team'] = df['home_team'].map(abbrev_dict)\n",
    "    df['away_team'] = df['away_team'].map(abbrev_dict)\n",
    "    df.reset_index(drop=True, inplace=True)\n",
    "    \n",
    "    homedf, awaydf = df[home_columns], df[away_columns]\n",
    "    df_list = [homedf, awaydf]\n",
    "    for df in df_list:\n",
    "        df.columns = all_columns \n",
    "        \n",
    "    all_data = pd.concat([homedf.reset_index(drop=True), awaydf.reset_index(drop=True)])\n",
    "            \n",
    "    df = add_features(all_data)\n",
    "\n",
    "    return df\n",
    "\n",
    "def add_features(all_data):\n",
    "\n",
    "    tempdf = all_data['date'].str.split('/').apply(pd.Series)\n",
    "    \n",
    "    for col in tempdf.columns:\n",
    "        tempdf[col] =  tempdf[col].astype(str).apply(lambda x: x.zfill(2))\n",
    "    \n",
    "    all_data['date'] = tempdf[0] + '/' + tempdf[1]\n",
    "    \n",
    "    all_data['Year'] = np.where(tempdf[0].astype('int64') < 4, all_data['Season']+1, all_data['Season'])\n",
    "\n",
    "    all_data['Season'] = all_data['Season'].astype(str)\n",
    "    all_data['Year'] = all_data['Year'].astype(str)\n",
    "\n",
    "    all_data['Date'] = all_data['date'] + '/'+ all_data['Year']\n",
    "\n",
    "    all_data['mergeCode'] = all_data['Season'] + '-' + all_data['date'] + '-' + all_data['offenseTeam']\n",
    "    \n",
    "    all_data = sort_by_week(all_data)\n",
    "    \n",
    "    all_data['mergeCode2'] = all_data['Season']+'-'+ all_data['Week'].astype(str)+'-' + all_data['offenseTeam']\n",
    "    \n",
    "    return all_data\n",
    "\n",
    "def create_mask(df, start_date, end_date):\n",
    "    if end_date == 0:\n",
    "        end_date = start_date + pd.to_timedelta(7,unit='d')\n",
    "    mask = (df['Date'] > start_date) & (df['Date'] <= end_date)\n",
    "    return df.loc[mask]\n",
    "\n",
    "def sort_by_week(data):\n",
    "    \n",
    "    week_list = []\n",
    "    data['Week'] = 0\n",
    "\n",
    "    for year in range(2009,2014):\n",
    "        year_df = data[ data['Season']==str(year)]\n",
    "        # sort by week\n",
    "        year_df['Date'] = pd.to_datetime(year_df['Date'])\n",
    "        mondays = list(year_df.resample('W-Mon', on='Date').sum().reset_index().sort_values(by='Date')['Date'].values)\n",
    "        mondays.append(0)\n",
    "\n",
    "        for i in range(0,min(17,len(mondays)-1)):\n",
    "            \n",
    "            current_week = create_mask(year_df, mondays[i], mondays[i+1])\n",
    "            current_week['Week'] = (i+1) \n",
    "            week_list.append(current_week)\n",
    "    week_data = pd.concat(week_list)\n",
    "    \n",
    "    return week_data"
   ]
  },
  {
   "cell_type": "markdown",
   "metadata": {},
   "source": [
    "## Start Here"
   ]
  },
  {
   "cell_type": "code",
   "execution_count": 488,
   "metadata": {},
   "outputs": [
    {
     "name": "stdout",
     "output_type": "stream",
     "text": [
      "home: 1119 away: 1119\n",
      "all: 2238\n",
      "all_data mid add_feats: 2238\n",
      "all_data after add_feats: 2058\n"
     ]
    }
   ],
   "source": [
    "all_data = clean_weather_data(weather)"
   ]
  },
  {
   "cell_type": "code",
   "execution_count": 644,
   "metadata": {
    "collapsed": true
   },
   "outputs": [],
   "source": [
    "# all_data.to_csv('weather_data09to13.csv')"
   ]
  },
  {
   "cell_type": "markdown",
   "metadata": {},
   "source": [
    "There are 1428/2 = 714 games that are within the weeks 6 through 17:"
   ]
  },
  {
   "cell_type": "code",
   "execution_count": 653,
   "metadata": {},
   "outputs": [
    {
     "data": {
      "text/plain": [
       "(1428, 16)"
      ]
     },
     "execution_count": 653,
     "metadata": {},
     "output_type": "execute_result"
    }
   ],
   "source": [
    "weather_weeks6to17 = all_data[ (6 <= all_data['Week']) &  (all_data['Week']<= 17)]\n",
    "weather_weeks6to17.shape"
   ]
  },
  {
   "cell_type": "code",
   "execution_count": 592,
   "metadata": {
    "collapsed": true
   },
   "outputs": [],
   "source": []
  }
 ],
 "metadata": {
  "kernelspec": {
   "display_name": "Python 3",
   "language": "python",
   "name": "python3"
  },
  "language_info": {
   "codemirror_mode": {
    "name": "ipython",
    "version": 3
   },
   "file_extension": ".py",
   "mimetype": "text/x-python",
   "name": "python",
   "nbconvert_exporter": "python",
   "pygments_lexer": "ipython3",
   "version": "3.6.3"
  }
 },
 "nbformat": 4,
 "nbformat_minor": 2
}
