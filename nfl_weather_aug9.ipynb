{
 "cells": [
  {
   "cell_type": "markdown",
   "metadata": {},
   "source": [
    "## Weather Data on NFL games for seasons 2009-2013\n",
    "##### Matthew Johnson, August 9, 2018"
   ]
  },
  {
   "cell_type": "code",
   "execution_count": 71,
   "metadata": {
    "collapsed": true
   },
   "outputs": [],
   "source": [
    "%matplotlib inline\n",
    "import pandas as pd\n",
    "import numpy as np\n",
    "import matplotlib.pyplot as plt\n",
    "import seaborn as sns\n",
    "import warnings\n",
    "warnings.filterwarnings('ignore')\n",
    "\n",
    "weather = pd.read_csv('/Users/mattjohnson/Desktop/Python2018/NFL/weather_20131231.csv')"
   ]
  },
  {
   "cell_type": "code",
   "execution_count": 72,
   "metadata": {},
   "outputs": [],
   "source": [
    "abbrev_dict = {\"Arizona Cardinals\": \"ARI\", \"San Diego Chargers\": \"SD\", \"Minnesota Vikings\": \"MIN\",\n",
    " \"Miami Dolphins\": \"MIA\", \"Tennessee Titans\": \"TEN\", \"Carolina Panthers\": \"CAR\",\n",
    " \"New York Giants\": \"NYG\", \"Pittsburgh Steelers\": \"PIT\", \"Houston Texans\": \"HOU\",\n",
    " \"Seattle Seahawks\": \"SEA\", \"Cleveland Browns\": \"CLE\", \"Atlanta Falcons\": \"ATL\",\n",
    " \"Baltimore Ravens\": \"BAL\", \"Green Bay Packers\": \"GB\", \"Indianapolis Colts\": \"IND\",\n",
    " \"New Orleans Saints\": \"NO\", \"Cincinnati Bengals\": \"CIN\", \"Tampa Bay Buccaneers\": \"TB\",\n",
    " \"Oakland Raiders\": \"OAK\", \"New England Patriots\": \"NE\", \"Dallas Cowboys\": \"DAL\",\n",
    " \"Chicago Bears\": \"CHI\", \"Kansas City Chiefs\": \"KC\", \"Washington Redskins\": \"WAS\",\n",
    " \"San Francisco 49ers\": \"SF\", \"Buffalo Bills\": \"BUF\", \"New York Jets\": \"NYJ\",\n",
    " \"Philadelphia Eagles\": \"PHI\", \"Denver Broncos\": \"DEN\", \"Jacksonville Jaguars\": \"JAX\",\n",
    " \"Detroit Lions\": \"DET\", \"St. Louis Rams\": \"STL\"}"
   ]
  },
  {
   "cell_type": "code",
   "execution_count": 117,
   "metadata": {},
   "outputs": [],
   "source": [
    "\n",
    "def clean_weather_data(df):\n",
    "    df['Season'] = pd.to_numeric(df['date'].str[-4:])\n",
    "    df = df[ df['Season'] >= 2009]\n",
    "    df['date'] = df['date'].str[:-5]\n",
    "    df['wind_chill'] = df['wind_chill'].fillna(0)\n",
    "    df['humidity'] = pd.to_numeric(df['humidity'].str[:-1])\n",
    "    df['humidity'] = df['humidity'].fillna(df['humidity'].mean())\n",
    "    df['humidity'] = df['humidity'].round(0)\n",
    "    df['wind_mph'] = pd.to_numeric(df['wind_mph']).fillna(0.0)\n",
    "    df.drop(['id','weather'], axis=1, inplace=True)\n",
    "    df['home_team'] = df['home_team'].map(abbrev_dict)\n",
    "    df['away_team'] = df['away_team'].map(abbrev_dict)\n",
    "    df.reset_index(drop=True, inplace=True)\n",
    "\n",
    "    return df"
   ]
  },
  {
   "cell_type": "code",
   "execution_count": 17,
   "metadata": {},
   "outputs": [],
   "source": []
  },
  {
   "cell_type": "code",
   "execution_count": 118,
   "metadata": {},
   "outputs": [],
   "source": [
    "data = clean_weather_data(weather)"
   ]
  },
  {
   "cell_type": "code",
   "execution_count": 139,
   "metadata": {},
   "outputs": [],
   "source": [
    "homedf = data[['home_team', 'away_team','home_score', 'away_score', 'temperature',\n",
    "       'wind_chill', 'humidity', 'wind_mph', 'date', 'Season', 'home_team']]\n",
    "awaydf = data[['away_team', 'home_team', 'away_score', 'home_score', 'temperature',\n",
    "       'wind_chill', 'humidity', 'wind_mph', 'date', 'Season', 'home_team']]\n",
    "df_list = [homedf, awaydf]\n",
    "for df in df_list:\n",
    "    df.columns = ['offenseTeam', 'defenseTeam','off_score', 'def_score', 'temperature',\n",
    "       'wind_chill', 'humidity', 'wind_mph', 'date', 'Season', 'home_team']\n",
    "    \n",
    "all_data = pd.concat([homedf, awaydf])\n",
    "\n",
    "tempdf = all_data['date'].str.split('/').apply(pd.Series)\n",
    "for col in tempdf.columns:\n",
    "    tempdf[col] =  tempdf[col].astype(str).apply(lambda x: x.zfill(2))\n",
    "    \n",
    "all_data['date'] = tempdf[0] + '/' + tempdf[1]\n",
    "    \n",
    "all_data['Season'] = all_data['Season'].astype(str)\n",
    "\n",
    "all_data['mergeCode'] = all_data['Season'] + '-' + all_data['date'] + '-' + all_data['offenseTeam']"
   ]
  },
  {
   "cell_type": "code",
   "execution_count": 146,
   "metadata": {},
   "outputs": [
    {
     "data": {
      "text/plain": [
       "(2238, 12)"
      ]
     },
     "execution_count": 146,
     "metadata": {},
     "output_type": "execute_result"
    }
   ],
   "source": [
    "all_data.shape"
   ]
  },
  {
   "cell_type": "code",
   "execution_count": 157,
   "metadata": {},
   "outputs": [
    {
     "data": {
      "text/plain": [
       "(2018, 58)"
      ]
     },
     "execution_count": 157,
     "metadata": {},
     "output_type": "execute_result"
    }
   ],
   "source": [
    "vegas_stats = pd.read_csv('/Users/mattjohnson/Desktop/Python2018/NFL/weeks6to16_vegas_and_stats.csv')\n",
    "\n",
    "vegas_stats.shape"
   ]
  },
  {
   "cell_type": "code",
   "execution_count": 158,
   "metadata": {},
   "outputs": [],
   "source": [
    "merged_data = pd.merge(all_data.reset_index(drop=True), vegas_stats.reset_index(drop=True), \n",
    "                    on='mergeCode', how='outer')"
   ]
  },
  {
   "cell_type": "code",
   "execution_count": 159,
   "metadata": {},
   "outputs": [
    {
     "data": {
      "text/plain": [
       "(3323, 69)"
      ]
     },
     "execution_count": 159,
     "metadata": {},
     "output_type": "execute_result"
    }
   ],
   "source": [
    "merged_data.shape"
   ]
  },
  {
   "cell_type": "code",
   "execution_count": 160,
   "metadata": {},
   "outputs": [
    {
     "data": {
      "text/plain": [
       "(934, 69)"
      ]
     },
     "execution_count": 160,
     "metadata": {},
     "output_type": "execute_result"
    }
   ],
   "source": [
    "drop_na_df = merged_data.dropna()\n",
    "drop_na_df.shape"
   ]
  },
  {
   "cell_type": "code",
   "execution_count": 196,
   "metadata": {},
   "outputs": [],
   "source": [
    "#X = drop_na_df\n",
    "drop_na_df = merged_data.dropna()\n",
    "drops = ['Unnamed: 0', 'off_score', 'def_score', 'gameid', 'QB Kneel_rolling5', 'date_y', \n",
    "         'Date', 'Season_x','mergeCode', 'offenseTeam_y', 'Week_y', 'Week_rolling5', 'date_x', \n",
    "         'gameid_rolling5', 'Season_y', 'defenseTeam_y', 'offenseTeam_x', 'defenseTeam_x',\n",
    "        'DEF_QB Kneel_rolling5', 'DEF_gameid_rolling5', 'Week_x']\n",
    "drop_na_df.drop(drops, axis=1, inplace=True)\n",
    "#drop_na_df.columns\n",
    "\n"
   ]
  },
  {
   "cell_type": "code",
   "execution_count": null,
   "metadata": {
    "collapsed": true
   },
   "outputs": [],
   "source": []
  },
  {
   "cell_type": "code",
   "execution_count": 197,
   "metadata": {},
   "outputs": [
    {
     "name": "stdout",
     "output_type": "stream",
     "text": [
      "\n",
      "Skew in numerical features: \n",
      "\n"
     ]
    },
    {
     "data": {
      "text/html": [
       "<div>\n",
       "<style>\n",
       "    .dataframe thead tr:only-child th {\n",
       "        text-align: right;\n",
       "    }\n",
       "\n",
       "    .dataframe thead th {\n",
       "        text-align: left;\n",
       "    }\n",
       "\n",
       "    .dataframe tbody tr th {\n",
       "        vertical-align: top;\n",
       "    }\n",
       "</style>\n",
       "<table border=\"1\" class=\"dataframe\">\n",
       "  <thead>\n",
       "    <tr style=\"text-align: right;\">\n",
       "      <th></th>\n",
       "      <th>Skew</th>\n",
       "    </tr>\n",
       "  </thead>\n",
       "  <tbody>\n",
       "    <tr>\n",
       "      <th>TwoPointConv_rolling5</th>\n",
       "      <td>21.540709</td>\n",
       "    </tr>\n",
       "    <tr>\n",
       "      <th>DEF_FG_50_rolling5</th>\n",
       "      <td>10.039298</td>\n",
       "    </tr>\n",
       "    <tr>\n",
       "      <th>FG_50_rolling5</th>\n",
       "      <td>9.051023</td>\n",
       "    </tr>\n",
       "    <tr>\n",
       "      <th>FieldGoalBad_rolling5</th>\n",
       "      <td>6.441987</td>\n",
       "    </tr>\n",
       "    <tr>\n",
       "      <th>TwoPointConv</th>\n",
       "      <td>5.593929</td>\n",
       "    </tr>\n",
       "    <tr>\n",
       "      <th>wind_chill</th>\n",
       "      <td>4.005797</td>\n",
       "    </tr>\n",
       "    <tr>\n",
       "      <th>DEF_FG_40_rolling5</th>\n",
       "      <td>1.467105</td>\n",
       "    </tr>\n",
       "    <tr>\n",
       "      <th>FG_40_rolling5</th>\n",
       "      <td>1.447323</td>\n",
       "    </tr>\n",
       "    <tr>\n",
       "      <th>wind_mph</th>\n",
       "      <td>1.302951</td>\n",
       "    </tr>\n",
       "    <tr>\n",
       "      <th>Kicker_Pts</th>\n",
       "      <td>0.478864</td>\n",
       "    </tr>\n",
       "    <tr>\n",
       "      <th>Total</th>\n",
       "      <td>0.334823</td>\n",
       "    </tr>\n",
       "    <tr>\n",
       "      <th>ExPointGood_rolling5</th>\n",
       "      <td>0.304941</td>\n",
       "    </tr>\n",
       "    <tr>\n",
       "      <th>Touchdown_rolling5</th>\n",
       "      <td>0.283552</td>\n",
       "    </tr>\n",
       "    <tr>\n",
       "      <th>FieldGoalGood_rolling5</th>\n",
       "      <td>0.283456</td>\n",
       "    </tr>\n",
       "    <tr>\n",
       "      <th>Drive_rolling5</th>\n",
       "      <td>0.255519</td>\n",
       "    </tr>\n",
       "    <tr>\n",
       "      <th>DEF_Drive_rolling5</th>\n",
       "      <td>0.237030</td>\n",
       "    </tr>\n",
       "    <tr>\n",
       "      <th>DEF_ExPointGood_rolling5</th>\n",
       "      <td>0.224112</td>\n",
       "    </tr>\n",
       "    <tr>\n",
       "      <th>DEF_Punt_rolling5</th>\n",
       "      <td>0.219925</td>\n",
       "    </tr>\n",
       "    <tr>\n",
       "      <th>DEF_Kicker_Pts_rolling5</th>\n",
       "      <td>0.207200</td>\n",
       "    </tr>\n",
       "    <tr>\n",
       "      <th>DEF_IncompletePass_rolling5</th>\n",
       "      <td>0.188967</td>\n",
       "    </tr>\n",
       "  </tbody>\n",
       "</table>\n",
       "</div>"
      ],
      "text/plain": [
       "                                  Skew\n",
       "TwoPointConv_rolling5        21.540709\n",
       "DEF_FG_50_rolling5           10.039298\n",
       "FG_50_rolling5                9.051023\n",
       "FieldGoalBad_rolling5         6.441987\n",
       "TwoPointConv                  5.593929\n",
       "wind_chill                    4.005797\n",
       "DEF_FG_40_rolling5            1.467105\n",
       "FG_40_rolling5                1.447323\n",
       "wind_mph                      1.302951\n",
       "Kicker_Pts                    0.478864\n",
       "Total                         0.334823\n",
       "ExPointGood_rolling5          0.304941\n",
       "Touchdown_rolling5            0.283552\n",
       "FieldGoalGood_rolling5        0.283456\n",
       "Drive_rolling5                0.255519\n",
       "DEF_Drive_rolling5            0.237030\n",
       "DEF_ExPointGood_rolling5      0.224112\n",
       "DEF_Punt_rolling5             0.219925\n",
       "DEF_Kicker_Pts_rolling5       0.207200\n",
       "DEF_IncompletePass_rolling5   0.188967"
      ]
     },
     "execution_count": 197,
     "metadata": {},
     "output_type": "execute_result"
    }
   ],
   "source": [
    "from scipy.stats import norm, skew\n",
    "\n",
    "numeric_feats = drop_na_df.dtypes[drop_na_df.dtypes != \"object\"].index\n",
    "\n",
    "# Check the skew of all numerical features\n",
    "skewed_feats = drop_na_df[numeric_feats].apply(lambda x: skew(x.dropna())).sort_values(ascending=False)\n",
    "print(\"\\nSkew in numerical features: \\n\")\n",
    "skewness = pd.DataFrame({'Skew' :skewed_feats})\n",
    "skewness.head(20)"
   ]
  },
  {
   "cell_type": "code",
   "execution_count": 198,
   "metadata": {},
   "outputs": [
    {
     "name": "stdout",
     "output_type": "stream",
     "text": [
      "There are 43 skewed numerical features to Box Cox transform\n"
     ]
    }
   ],
   "source": [
    "skewness = skewness[abs(skewness) > 0.75]\n",
    "\n",
    "from scipy.special import boxcox1p\n",
    "skewed_features = skewness.index\n",
    "skewed_features = skewed_features.drop('Kicker_Pts')\n",
    "\n",
    "print(\"There are {} skewed numerical features to Box Cox transform\".format(len(skewed_features)))\n",
    "\n",
    "lam = 0.15\n",
    "for feat in skewed_features:\n",
    "    drop_na_df[feat] = boxcox1p(drop_na_df[feat], lam)\n",
    "    "
   ]
  },
  {
   "cell_type": "code",
   "execution_count": null,
   "metadata": {},
   "outputs": [],
   "source": []
  },
  {
   "cell_type": "code",
   "execution_count": null,
   "metadata": {
    "collapsed": true
   },
   "outputs": [],
   "source": []
  },
  {
   "cell_type": "code",
   "execution_count": null,
   "metadata": {
    "collapsed": true
   },
   "outputs": [],
   "source": []
  },
  {
   "cell_type": "code",
   "execution_count": 199,
   "metadata": {
    "collapsed": true
   },
   "outputs": [],
   "source": [
    "from sklearn.model_selection import train_test_split\n",
    "X = drop_na_df.select_dtypes(include=['int64', 'float64']).fillna(0)\n",
    "Xtrain, Xtest, ytrain, ytest = train_test_split(X.drop('Kicker_Pts', axis=1), X['Kicker_Pts'])"
   ]
  },
  {
   "cell_type": "code",
   "execution_count": 200,
   "metadata": {},
   "outputs": [],
   "source": [
    "from sklearn.ensemble import RandomForestRegressor\n",
    "rf = RandomForestRegressor(n_estimators = 1000, random_state = 2018)\n",
    "rf.fit(Xtrain, ytrain);"
   ]
  },
  {
   "cell_type": "code",
   "execution_count": 201,
   "metadata": {},
   "outputs": [
    {
     "name": "stdout",
     "output_type": "stream",
     "text": [
      "Mean Absolute Error: 3.02\n"
     ]
    }
   ],
   "source": [
    "predictions = rf.predict(Xtest)\n",
    "errors = abs(predictions - ytest)\n",
    "print('Mean Absolute Error:', round(np.mean(errors), 2))"
   ]
  },
  {
   "cell_type": "code",
   "execution_count": null,
   "metadata": {
    "collapsed": true
   },
   "outputs": [],
   "source": []
  },
  {
   "cell_type": "code",
   "execution_count": 202,
   "metadata": {},
   "outputs": [
    {
     "data": {
      "text/plain": [
       "<matplotlib.axes._subplots.AxesSubplot at 0x10cde22b0>"
      ]
     },
     "execution_count": 202,
     "metadata": {},
     "output_type": "execute_result"
    },
    {
     "data": {
      "image/png": "[encoded data removed]",
      "text/plain": [
       "<Figure size 432x288 with 1 Axes>"
      ]
     },
     "metadata": {},
     "output_type": "display_data"
    }
   ],
   "source": [
    "sns.scatterplot(x=ytest, y=predictions)"
   ]
  },
  {
   "cell_type": "code",
   "execution_count": 183,
   "metadata": {},
   "outputs": [
    {
     "data": {
      "text/html": [
       "<div>\n",
       "<style>\n",
       "    .dataframe thead tr:only-child th {\n",
       "        text-align: right;\n",
       "    }\n",
       "\n",
       "    .dataframe thead th {\n",
       "        text-align: left;\n",
       "    }\n",
       "\n",
       "    .dataframe tbody tr th {\n",
       "        vertical-align: top;\n",
       "    }\n",
       "</style>\n",
       "<table border=\"1\" class=\"dataframe\">\n",
       "  <thead>\n",
       "    <tr style=\"text-align: right;\">\n",
       "      <th></th>\n",
       "      <th>Kicker_Pts</th>\n",
       "    </tr>\n",
       "  </thead>\n",
       "  <tbody>\n",
       "    <tr>\n",
       "      <th>Kicker_Pts_rolling5</th>\n",
       "      <td>0.445654</td>\n",
       "    </tr>\n",
       "    <tr>\n",
       "      <th>DEF_Kicker_Pts_rolling5</th>\n",
       "      <td>0.445184</td>\n",
       "    </tr>\n",
       "    <tr>\n",
       "      <th>DEF_FieldGoalGood_rolling5</th>\n",
       "      <td>0.331577</td>\n",
       "    </tr>\n",
       "    <tr>\n",
       "      <th>FieldGoalGood_rolling5</th>\n",
       "      <td>0.289653</td>\n",
       "    </tr>\n",
       "    <tr>\n",
       "      <th>DEF_PointsScored_rolling5</th>\n",
       "      <td>0.242648</td>\n",
       "    </tr>\n",
       "    <tr>\n",
       "      <th>DEF_FG_40_rolling5</th>\n",
       "      <td>0.220711</td>\n",
       "    </tr>\n",
       "    <tr>\n",
       "      <th>PointsScored_rolling5</th>\n",
       "      <td>0.213869</td>\n",
       "    </tr>\n",
       "    <tr>\n",
       "      <th>FG_30_rolling5</th>\n",
       "      <td>0.196601</td>\n",
       "    </tr>\n",
       "    <tr>\n",
       "      <th>FG_40_rolling5</th>\n",
       "      <td>0.193731</td>\n",
       "    </tr>\n",
       "    <tr>\n",
       "      <th>DEF_FG_30_rolling5</th>\n",
       "      <td>0.171794</td>\n",
       "    </tr>\n",
       "    <tr>\n",
       "      <th>DEF_ExPointGood_rolling5</th>\n",
       "      <td>0.132538</td>\n",
       "    </tr>\n",
       "  </tbody>\n",
       "</table>\n",
       "</div>"
      ],
      "text/plain": [
       "                            Kicker_Pts\n",
       "Kicker_Pts_rolling5           0.445654\n",
       "DEF_Kicker_Pts_rolling5       0.445184\n",
       "DEF_FieldGoalGood_rolling5    0.331577\n",
       "FieldGoalGood_rolling5        0.289653\n",
       "DEF_PointsScored_rolling5     0.242648\n",
       "DEF_FG_40_rolling5            0.220711\n",
       "PointsScored_rolling5         0.213869\n",
       "FG_30_rolling5                0.196601\n",
       "FG_40_rolling5                0.193731\n",
       "DEF_FG_30_rolling5            0.171794\n",
       "DEF_ExPointGood_rolling5      0.132538"
      ]
     },
     "execution_count": 183,
     "metadata": {},
     "output_type": "execute_result"
    }
   ],
   "source": [
    "corrmat = pd.DataFrame(X.corr()['Kicker_Pts'])\n",
    "corrmat.sort_values('Kicker_Pts', ascending=False)[1:12]"
   ]
  },
  {
   "cell_type": "code",
   "execution_count": null,
   "metadata": {
    "collapsed": true
   },
   "outputs": [],
   "source": []
  },
  {
   "cell_type": "code",
   "execution_count": 156,
   "metadata": {},
   "outputs": [
    {
     "name": "stdout",
     "output_type": "stream",
     "text": [
      "Mean Absolute Error: 3.12\n"
     ]
    }
   ],
   "source": [
    "predictions = rf.predict(Xtest)\n",
    "errors = abs(predictions - ytest)\n",
    "print('Mean Absolute Error:', round(np.mean(errors), 2))"
   ]
  },
  {
   "cell_type": "code",
   "execution_count": null,
   "metadata": {
    "collapsed": true
   },
   "outputs": [],
   "source": []
  },
  {
   "cell_type": "code",
   "execution_count": null,
   "metadata": {
    "collapsed": true
   },
   "outputs": [],
   "source": []
  }
 ],
 "metadata": {
  "kernelspec": {
   "display_name": "Python 3",
   "language": "python",
   "name": "python3"
  },
  "language_info": {
   "codemirror_mode": {
    "name": "ipython",
    "version": 3
   },
   "file_extension": ".py",
   "mimetype": "text/x-python",
   "name": "python",
   "nbconvert_exporter": "python",
   "pygments_lexer": "ipython3",
   "version": "3.6.3"
  }
 },
 "nbformat": 4,
 "nbformat_minor": 2
}
