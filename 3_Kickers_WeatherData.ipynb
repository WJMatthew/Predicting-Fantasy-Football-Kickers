{
 "cells": [
  {
   "cell_type": "markdown",
   "metadata": {},
   "source": [
    "## Weather Data on NFL games for seasons 2009-2013\n",
    "#### Matthew Johnson, August 9, 2018 (Last updated: August 13, 2018)\n",
    "\n",
    "1. NFL data\n",
    "2. Vegas odds\n",
    "3. **Weather data**\n",
    "<br><br>\n",
    "\n",
    "Weather data is from http://nflsavant.com/about.php and originally contained weather for games between 1960-2013."
   ]
  },
  {
   "cell_type": "code",
   "execution_count": 365,
   "metadata": {
    "collapsed": true
   },
   "outputs": [],
   "source": [
    "%matplotlib inline\n",
    "import pandas as pd\n",
    "import numpy as np\n",
    "import matplotlib.pyplot as plt\n",
    "import seaborn as sns\n",
    "import warnings\n",
    "warnings.filterwarnings('ignore')\n",
    "\n",
    "weather = pd.read_csv('/Users/mattjohnson/Desktop/Python2018/NFL/weather_20131231.csv')"
   ]
  },
  {
   "cell_type": "markdown",
   "metadata": {},
   "source": [
    "We have weather for 1,119 games between 2009-2013:"
   ]
  },
  {
   "cell_type": "code",
   "execution_count": 421,
   "metadata": {},
   "outputs": [
    {
     "data": {
      "text/plain": [
       "(1119, 12)"
      ]
     },
     "execution_count": 421,
     "metadata": {},
     "output_type": "execute_result"
    }
   ],
   "source": [
    "weather[ weather['Season']>= 2009].shape"
   ]
  },
  {
   "cell_type": "code",
   "execution_count": 366,
   "metadata": {},
   "outputs": [],
   "source": [
    "abbrev_dict = {\"Arizona Cardinals\": \"ARI\", \"San Diego Chargers\": \"SD\", \"Minnesota Vikings\": \"MIN\",\n",
    " \"Miami Dolphins\": \"MIA\", \"Tennessee Titans\": \"TEN\", \"Carolina Panthers\": \"CAR\",\n",
    " \"New York Giants\": \"NYG\", \"Pittsburgh Steelers\": \"PIT\", \"Houston Texans\": \"HOU\",\n",
    " \"Seattle Seahawks\": \"SEA\", \"Cleveland Browns\": \"CLE\", \"Atlanta Falcons\": \"ATL\",\n",
    " \"Baltimore Ravens\": \"BAL\", \"Green Bay Packers\": \"GB\", \"Indianapolis Colts\": \"IND\",\n",
    " \"New Orleans Saints\": \"NO\", \"Cincinnati Bengals\": \"CIN\", \"Tampa Bay Buccaneers\": \"TB\",\n",
    " \"Oakland Raiders\": \"OAK\", \"New England Patriots\": \"NE\", \"Dallas Cowboys\": \"DAL\",\n",
    " \"Chicago Bears\": \"CHI\", \"Kansas City Chiefs\": \"KC\", \"Washington Redskins\": \"WAS\",\n",
    " \"San Francisco 49ers\": \"SF\", \"Buffalo Bills\": \"BUF\", \"New York Jets\": \"NYJ\",\n",
    " \"Philadelphia Eagles\": \"PHI\", \"Denver Broncos\": \"DEN\", \"Jacksonville Jaguars\": \"JAX\",\n",
    " \"Detroit Lions\": \"DET\", \"St. Louis Rams\": \"STL\"}"
   ]
  },
  {
   "cell_type": "code",
   "execution_count": 477,
   "metadata": {},
   "outputs": [],
   "source": [
    "home_columns = ['home_team', 'away_team','home_score', 'away_score', 'temperature',\n",
    "       'wind_chill', 'humidity', 'wind_mph', 'date', 'Season', 'home_team']\n",
    "away_columns = ['away_team', 'home_team', 'away_score', 'home_score', 'temperature',\n",
    "       'wind_chill', 'humidity', 'wind_mph', 'date', 'Season', 'home_team']\n",
    "all_columns = ['offenseTeam', 'defenseTeam','off_score', 'def_score', 'temperature',\n",
    "       'wind_chill', 'humidity', 'wind_mph', 'date', 'Season', 'home_team']\n",
    "    \n",
    "def clean_weather_data(df):\n",
    "    df['Season'] = pd.to_numeric(df['date'].str[-4:])\n",
    "    df = df[ df['Season'] >= 2009]\n",
    "    df['date'] = df['date'].str[:-5]\n",
    "    df['wind_chill'] = df['wind_chill'].fillna(df['temperature'])\n",
    "    df['humidity'] = pd.to_numeric(df['humidity'].str[:-1])\n",
    "    df['humidity'] = df['humidity'].fillna(df['humidity'].mean())\n",
    "    df['humidity'] = df['humidity'].round(0)\n",
    "    df['wind_mph'] = pd.to_numeric(df['wind_mph']).fillna(0.0)\n",
    "    df.drop(['id','weather'], axis=1, inplace=True)\n",
    "    df['home_team'] = df['home_team'].map(abbrev_dict)\n",
    "    df['away_team'] = df['away_team'].map(abbrev_dict)\n",
    "    df.reset_index(drop=True, inplace=True)\n",
    "    \n",
    "    homedf, awaydf = df[home_columns], df[away_columns]\n",
    "    df_list = [homedf, awaydf]\n",
    "    for df in df_list:\n",
    "        df.columns = all_columns \n",
    "        \n",
    "    all_data = pd.concat([homedf.reset_index(drop=True), awaydf.reset_index(drop=True)])\n",
    "            \n",
    "    df = add_features(all_data)\n",
    "\n",
    "    return df\n",
    "\n",
    "def add_features(all_data):\n",
    "\n",
    "    tempdf = all_data['date'].str.split('/').apply(pd.Series)\n",
    "    \n",
    "    for col in tempdf.columns:\n",
    "        tempdf[col] =  tempdf[col].astype(str).apply(lambda x: x.zfill(2))\n",
    "    \n",
    "    all_data['date'] = tempdf[0] + '/' + tempdf[1]\n",
    "    \n",
    "    all_data['Year'] = np.where(tempdf[0].astype('int64') < 4, all_data['Season']+1, all_data['Season'])\n",
    "\n",
    "    all_data['Season'] = all_data['Season'].astype(str)\n",
    "    all_data['Year'] = all_data['Year'].astype(str)\n",
    "\n",
    "    all_data['Date'] = all_data['date'] + '/'+ all_data['Year']\n",
    "\n",
    "    all_data['mergeCode'] = all_data['Season'] + '-' + all_data['date'] + '-' + all_data['offenseTeam']\n",
    "    \n",
    "    all_data = sort_by_week(all_data)\n",
    "    \n",
    "    all_data['mergeCode2'] = all_data['Season']+'-'+ all_data['Week'].astype(str)+'-' + all_data['offenseTeam']\n",
    "    \n",
    "    return all_data\n",
    "\n",
    "def create_mask(df, start_date, end_date):\n",
    "    if end_date == 0:\n",
    "        end_date = start_date + pd.to_timedelta(7,unit='d')\n",
    "    mask = (df['Date'] > start_date) & (df['Date'] <= end_date)\n",
    "    return df.loc[mask]\n",
    "\n",
    "def sort_by_week(data):\n",
    "    \n",
    "    week_list = []\n",
    "    data['Week'] = 0\n",
    "\n",
    "    for year in range(2009,2014):\n",
    "        year_df = data[ data['Season']==str(year)]\n",
    "        # sort by week\n",
    "        year_df['Date'] = pd.to_datetime(year_df['Date'])\n",
    "        mondays = list(year_df.resample('W-Mon', on='Date').sum().reset_index().sort_values(by='Date')['Date'].values)\n",
    "        mondays.append(0)\n",
    "\n",
    "        for i in range(0,min(17,len(mondays)-1)):\n",
    "            \n",
    "            current_week = create_mask(year_df, mondays[i], mondays[i+1])\n",
    "            current_week['Week'] = (i+1) \n",
    "            week_list.append(current_week)\n",
    "    week_data = pd.concat(week_list)\n",
    "    \n",
    "    return week_data"
   ]
  },
  {
   "cell_type": "markdown",
   "metadata": {},
   "source": [
    "## Start Here"
   ]
  },
  {
   "cell_type": "code",
   "execution_count": 488,
   "metadata": {},
   "outputs": [
    {
     "name": "stdout",
     "output_type": "stream",
     "text": [
      "home: 1119 away: 1119\n",
      "all: 2238\n",
      "all_data mid add_feats: 2238\n",
      "all_data after add_feats: 2058\n"
     ]
    }
   ],
   "source": [
    "all_data = clean_weather_data(weather)"
   ]
  },
  {
   "cell_type": "code",
   "execution_count": 644,
   "metadata": {},
   "outputs": [],
   "source": [
    "# all_data.to_csv('weather_data09to13.csv')"
   ]
  },
  {
   "cell_type": "markdown",
   "metadata": {},
   "source": [
    "There are 1428/2 = 714 games that are within the weeks 6 through 17:"
   ]
  },
  {
   "cell_type": "code",
   "execution_count": 653,
   "metadata": {},
   "outputs": [
    {
     "data": {
      "text/plain": [
       "(1428, 16)"
      ]
     },
     "execution_count": 653,
     "metadata": {},
     "output_type": "execute_result"
    }
   ],
   "source": [
    "weather_weeks6to17 = all_data[ (6 <= all_data['Week']) &  (all_data['Week']<= 17)]\n",
    "weather_weeks6to17.shape"
   ]
  },
  {
   "cell_type": "code",
   "execution_count": 484,
   "metadata": {},
   "outputs": [
    {
     "data": {
      "text/plain": [
       "(2018, 58)"
      ]
     },
     "execution_count": 484,
     "metadata": {},
     "output_type": "execute_result"
    }
   ],
   "source": [
    "vegas_stats = pd.read_csv('/Users/mattjohnson/Desktop/Python2018/NFL/weeks6to16_vegas_and_stats.csv')\n",
    "vegas_stats.shape"
   ]
  },
  {
   "cell_type": "code",
   "execution_count": 523,
   "metadata": {},
   "outputs": [],
   "source": [
    "vegas_stats['mergeCode2'] = vegas_stats['Season_x'].astype(str) +'-'+ vegas_stats['Week_x'].astype('int64').astype(str)+'-' + vegas_stats['OffenseTeam']"
   ]
  },
  {
   "cell_type": "code",
   "execution_count": null,
   "metadata": {},
   "outputs": [],
   "source": []
  },
  {
   "cell_type": "code",
   "execution_count": 617,
   "metadata": {},
   "outputs": [],
   "source": [
    "merged_data = pd.merge(all_data.reset_index(drop=True), vegas_stats.reset_index(drop=True), \n",
    "                    on='mergeCode', how='inner')\n",
    "merged_data2 = pd.merge(all_data.reset_index(drop=True), vegas_stats.reset_index(drop=True), \n",
    "                    on='mergeCode2', how='inner')\n"
   ]
  },
  {
   "cell_type": "code",
   "execution_count": 543,
   "metadata": {},
   "outputs": [
    {
     "name": "stdout",
     "output_type": "stream",
     "text": [
      "symmetric diff: 112\n",
      "intersection: 455\n"
     ]
    }
   ],
   "source": [
    "a = set(merged_data['gameid'].unique())\n",
    "b = set(merged_data2['gameid'].unique())\n",
    "\n",
    "sd = a.symmetric_difference(b)\n",
    "intersect = a.intersection(b)\n",
    "\n",
    "print('symmetric diff:', len(sd))\n",
    "print('intersection:', len(intersect))"
   ]
  },
  {
   "cell_type": "code",
   "execution_count": 618,
   "metadata": {},
   "outputs": [
    {
     "data": {
      "text/plain": [
       "<matplotlib.axes._subplots.AxesSubplot at 0x115ce3d30>"
      ]
     },
     "execution_count": 618,
     "metadata": {},
     "output_type": "execute_result"
    },
    {
     "data": {
      "image/png": "[encoded data removed]",
      "text/plain": [
       "<Figure size 432x288 with 1 Axes>"
      ]
     },
     "metadata": {},
     "output_type": "display_data"
    }
   ],
   "source": [
    "sns.regplot(x='wind_mph', y='Kicker_Pts', data=merged_data.dropna())"
   ]
  },
  {
   "cell_type": "code",
   "execution_count": 619,
   "metadata": {},
   "outputs": [],
   "source": [
    "denver = merged_data[ merged_data['home_team'] == 'DEN']\n",
    "notDenver = merged_data[ merged_data['home_team'] != 'DEN']\n"
   ]
  },
  {
   "cell_type": "code",
   "execution_count": 636,
   "metadata": {},
   "outputs": [
    {
     "data": {
      "text/plain": [
       "<matplotlib.axes._subplots.AxesSubplot at 0x118ee6518>"
      ]
     },
     "execution_count": 636,
     "metadata": {},
     "output_type": "execute_result"
    },
    {
     "data": {
      "image/png": "[encoded data removed]",
      "text/plain": [
       "<Figure size 432x288 with 1 Axes>"
      ]
     },
     "metadata": {},
     "output_type": "display_data"
    }
   ],
   "source": [
    "#denver['Kicker_Pts']\n",
    "sns.distplot(denver['Kicker_Pts'], bins=6)"
   ]
  },
  {
   "cell_type": "code",
   "execution_count": 637,
   "metadata": {},
   "outputs": [
    {
     "data": {
      "text/plain": [
       "<matplotlib.axes._subplots.AxesSubplot at 0x11908d908>"
      ]
     },
     "execution_count": 637,
     "metadata": {},
     "output_type": "execute_result"
    },
    {
     "data": {
      "image/png": "[encoded data removed]",
      "text/plain": [
       "<Figure size 432x288 with 1 Axes>"
      ]
     },
     "metadata": {},
     "output_type": "display_data"
    }
   ],
   "source": [
    "sns.distplot(notDenver['Kicker_Pts'], bins=15)"
   ]
  },
  {
   "cell_type": "code",
   "execution_count": 559,
   "metadata": {},
   "outputs": [
    {
     "name": "stdout",
     "output_type": "stream",
     "text": [
      "(1084, 74) ,  (1125, 74)\n"
     ]
    }
   ],
   "source": [
    "merged_data.isnull().sum().index\n",
    "\n",
    "# seperate merged data with nans by where their nans lay and try to merge again on mergecode2\n",
    "nan_data = merged_data[merged_data.isnull().any(axis=1)]\n",
    "nan_data.isnull().sum()\n",
    "nan_data1 = merged_data[merged_data['off_score'].isnull()]\n",
    "nan_data2 = merged_data[merged_data['Season_x'].isnull()]\n",
    "\n",
    "print(nan_data1.shape, ', ', nan_data2.shape)"
   ]
  },
  {
   "cell_type": "code",
   "execution_count": 564,
   "metadata": {},
   "outputs": [
    {
     "data": {
      "text/plain": [
       "(934, 74)"
      ]
     },
     "execution_count": 564,
     "metadata": {},
     "output_type": "execute_result"
    }
   ],
   "source": [
    "drop_na_df = merged_data.dropna()\n",
    "drop_na_df.shape"
   ]
  },
  {
   "cell_type": "code",
   "execution_count": 568,
   "metadata": {},
   "outputs": [],
   "source": [
    "#X = drop_na_df 'Date', \n",
    "drop_na_df = merged_data.dropna()\n",
    "drops = ['Unnamed: 0', 'off_score', 'def_score', 'gameid', 'QB Kneel_rolling5', 'date_y', \n",
    "         'Season_x','mergeCode', 'offenseTeam_y', 'Week_y', 'Week_rolling5', 'date_x', \n",
    "         'gameid_rolling5', 'Season_y', 'defenseTeam_y', 'offenseTeam_x', 'defenseTeam_x',\n",
    "        'DEF_QB Kneel_rolling5', 'DEF_gameid_rolling5', 'Week_x']\n",
    "drop_na_df.drop(drops, axis=1, inplace=True)\n",
    "#drop_na_df.columns"
   ]
  },
  {
   "cell_type": "code",
   "execution_count": 641,
   "metadata": {},
   "outputs": [
    {
     "data": {
      "text/plain": [
       "(934, 55)"
      ]
     },
     "execution_count": 641,
     "metadata": {},
     "output_type": "execute_result"
    }
   ],
   "source": [
    "drop_na_df.shape"
   ]
  },
  {
   "cell_type": "code",
   "execution_count": 569,
   "metadata": {
    "collapsed": true
   },
   "outputs": [],
   "source": [
    "drop_na_df['Kicker_Pts_rolling5b'] = drop_na_df['Kicker_Pts_rolling5'].copy()"
   ]
  },
  {
   "cell_type": "code",
   "execution_count": 571,
   "metadata": {},
   "outputs": [
    {
     "name": "stdout",
     "output_type": "stream",
     "text": [
      "\n",
      "Skew in numerical features: \n",
      "\n"
     ]
    },
    {
     "data": {
      "text/html": [
       "<div>\n",
       "<style>\n",
       "    .dataframe thead tr:only-child th {\n",
       "        text-align: right;\n",
       "    }\n",
       "\n",
       "    .dataframe thead th {\n",
       "        text-align: left;\n",
       "    }\n",
       "\n",
       "    .dataframe tbody tr th {\n",
       "        vertical-align: top;\n",
       "    }\n",
       "</style>\n",
       "<table border=\"1\" class=\"dataframe\">\n",
       "  <thead>\n",
       "    <tr style=\"text-align: right;\">\n",
       "      <th></th>\n",
       "      <th>Skew</th>\n",
       "    </tr>\n",
       "  </thead>\n",
       "  <tbody>\n",
       "    <tr>\n",
       "      <th>TwoPointConv_rolling5</th>\n",
       "      <td>21.541</td>\n",
       "    </tr>\n",
       "    <tr>\n",
       "      <th>DEF_FG_50_rolling5</th>\n",
       "      <td>10.039</td>\n",
       "    </tr>\n",
       "    <tr>\n",
       "      <th>FG_50_rolling5</th>\n",
       "      <td>9.051</td>\n",
       "    </tr>\n",
       "    <tr>\n",
       "      <th>FieldGoalBad_rolling5</th>\n",
       "      <td>6.442</td>\n",
       "    </tr>\n",
       "    <tr>\n",
       "      <th>TwoPointConv</th>\n",
       "      <td>5.594</td>\n",
       "    </tr>\n",
       "    <tr>\n",
       "      <th>DEF_FG_40_rolling5</th>\n",
       "      <td>1.467</td>\n",
       "    </tr>\n",
       "    <tr>\n",
       "      <th>FG_40_rolling5</th>\n",
       "      <td>1.447</td>\n",
       "    </tr>\n",
       "    <tr>\n",
       "      <th>wind_mph</th>\n",
       "      <td>1.303</td>\n",
       "    </tr>\n",
       "    <tr>\n",
       "      <th>Kicker_Pts</th>\n",
       "      <td>0.479</td>\n",
       "    </tr>\n",
       "    <tr>\n",
       "      <th>Total</th>\n",
       "      <td>0.335</td>\n",
       "    </tr>\n",
       "    <tr>\n",
       "      <th>ExPointGood_rolling5</th>\n",
       "      <td>0.305</td>\n",
       "    </tr>\n",
       "    <tr>\n",
       "      <th>Touchdown_rolling5</th>\n",
       "      <td>0.284</td>\n",
       "    </tr>\n",
       "    <tr>\n",
       "      <th>FieldGoalGood_rolling5</th>\n",
       "      <td>0.283</td>\n",
       "    </tr>\n",
       "    <tr>\n",
       "      <th>Drive_rolling5</th>\n",
       "      <td>0.256</td>\n",
       "    </tr>\n",
       "    <tr>\n",
       "      <th>DEF_Drive_rolling5</th>\n",
       "      <td>0.237</td>\n",
       "    </tr>\n",
       "    <tr>\n",
       "      <th>DEF_ExPointGood_rolling5</th>\n",
       "      <td>0.224</td>\n",
       "    </tr>\n",
       "    <tr>\n",
       "      <th>DEF_Punt_rolling5</th>\n",
       "      <td>0.220</td>\n",
       "    </tr>\n",
       "    <tr>\n",
       "      <th>DEF_Kicker_Pts_rolling5</th>\n",
       "      <td>0.207</td>\n",
       "    </tr>\n",
       "    <tr>\n",
       "      <th>DEF_IncompletePass_rolling5</th>\n",
       "      <td>0.189</td>\n",
       "    </tr>\n",
       "    <tr>\n",
       "      <th>DEF_FieldGoalGood_rolling5</th>\n",
       "      <td>0.185</td>\n",
       "    </tr>\n",
       "  </tbody>\n",
       "</table>\n",
       "</div>"
      ],
      "text/plain": [
       "                              Skew\n",
       "TwoPointConv_rolling5       21.541\n",
       "DEF_FG_50_rolling5          10.039\n",
       "FG_50_rolling5               9.051\n",
       "FieldGoalBad_rolling5        6.442\n",
       "TwoPointConv                 5.594\n",
       "DEF_FG_40_rolling5           1.467\n",
       "FG_40_rolling5               1.447\n",
       "wind_mph                     1.303\n",
       "Kicker_Pts                   0.479\n",
       "Total                        0.335\n",
       "ExPointGood_rolling5         0.305\n",
       "Touchdown_rolling5           0.284\n",
       "FieldGoalGood_rolling5       0.283\n",
       "Drive_rolling5               0.256\n",
       "DEF_Drive_rolling5           0.237\n",
       "DEF_ExPointGood_rolling5     0.224\n",
       "DEF_Punt_rolling5            0.220\n",
       "DEF_Kicker_Pts_rolling5      0.207\n",
       "DEF_IncompletePass_rolling5  0.189\n",
       "DEF_FieldGoalGood_rolling5   0.185"
      ]
     },
     "execution_count": 571,
     "metadata": {},
     "output_type": "execute_result"
    }
   ],
   "source": [
    "from scipy.stats import norm, skew\n",
    "\n",
    "numeric_feats = drop_na_df.drop('Date_x', axis=1).dtypes[drop_na_df.dtypes != \"object\"].index\n",
    "\n",
    "# Check the skew of all numerical features\n",
    "skewed_feats = drop_na_df[numeric_feats].apply(lambda x: skew(x.dropna())).sort_values(ascending=False)\n",
    "print(\"\\nSkew in numerical features: \\n\")\n",
    "skewness = pd.DataFrame({'Skew' :skewed_feats})\n",
    "skewness.head(20)"
   ]
  },
  {
   "cell_type": "code",
   "execution_count": 572,
   "metadata": {},
   "outputs": [
    {
     "name": "stdout",
     "output_type": "stream",
     "text": [
      "There are 44 skewed numerical features to Box Cox transform\n"
     ]
    }
   ],
   "source": [
    "skewness = skewness[abs(skewness) > 0.75]\n",
    "\n",
    "from scipy.special import boxcox1p\n",
    "skewed_features = skewness.index\n",
    "skewed_features = skewed_features.drop(['Kicker_Pts', 'Kicker_Pts_rolling5b'])\n",
    "\n",
    "print(\"There are {} skewed numerical features to Box Cox transform\".format(len(skewed_features)))\n",
    "\n",
    "lam = 0.15\n",
    "for feat in skewed_features:\n",
    "    drop_na_df[feat] = boxcox1p(drop_na_df[feat], lam)\n",
    "    "
   ]
  },
  {
   "cell_type": "code",
   "execution_count": 313,
   "metadata": {},
   "outputs": [],
   "source": [
    "# / len(merged_data)\n"
   ]
  },
  {
   "cell_type": "code",
   "execution_count": 273,
   "metadata": {},
   "outputs": [],
   "source": [
    "# print( (merged_data.isnull().sum()).sort_values(ascending=False))"
   ]
  },
  {
   "cell_type": "code",
   "execution_count": 321,
   "metadata": {},
   "outputs": [],
   "source": [
    "#drop_na_df.isnull().sum()\n",
    "#drop_na_df = drop_na_df.dropna()"
   ]
  },
  {
   "cell_type": "code",
   "execution_count": 577,
   "metadata": {},
   "outputs": [],
   "source": [
    "from sklearn.model_selection import train_test_split\n",
    "X = drop_na_df.select_dtypes(include=['int64', 'float64']).fillna(0)\n",
    "Xtrain, Xtest, ytrain, ytest = train_test_split(X.drop('Kicker_Pts', axis=1), X['Kicker_Pts'])"
   ]
  },
  {
   "cell_type": "code",
   "execution_count": 578,
   "metadata": {},
   "outputs": [],
   "source": [
    "Xtrain.drop('Kicker_Pts_rolling5b', axis=1, inplace=True)\n",
    "rolling_kicks = Xtest['Kicker_Pts_rolling5b'].copy()\n",
    "Xtest.drop('Kicker_Pts_rolling5b', axis=1, inplace=True)"
   ]
  },
  {
   "cell_type": "code",
   "execution_count": 579,
   "metadata": {},
   "outputs": [],
   "source": [
    "from sklearn.ensemble import RandomForestRegressor\n",
    "rf = RandomForestRegressor(n_estimators = 1000, random_state = 2018)\n",
    "rf.fit(Xtrain, ytrain);"
   ]
  },
  {
   "cell_type": "code",
   "execution_count": 580,
   "metadata": {},
   "outputs": [
    {
     "name": "stdout",
     "output_type": "stream",
     "text": [
      "Mean Absolute Error: 3.09\n"
     ]
    }
   ],
   "source": [
    "predictions = rf.predict(Xtest)\n",
    "errors = abs(predictions - ytest)\n",
    "print('Mean Absolute Error:', round(np.mean(errors), 2))"
   ]
  },
  {
   "cell_type": "code",
   "execution_count": 586,
   "metadata": {},
   "outputs": [],
   "source": [
    "dataframe = pd.DataFrame({'actual': ytest, 'pred': predictions, 'rolling5': rolling_kicks})\n",
    "dataframe['residual'] = dataframe['actual'] - dataframe['pred']\n",
    "dataframe['residual2'] = dataframe['actual'] - dataframe['rolling5']"
   ]
  },
  {
   "cell_type": "code",
   "execution_count": 592,
   "metadata": {
    "collapsed": true
   },
   "outputs": [],
   "source": [
    "dataframe['abs_res'] = abs(dataframe['residual'])"
   ]
  },
  {
   "cell_type": "code",
   "execution_count": 597,
   "metadata": {
    "collapsed": true
   },
   "outputs": [],
   "source": [
    "dataframe['abs_res2'] = abs(dataframe['residual2'])"
   ]
  },
  {
   "cell_type": "code",
   "execution_count": null,
   "metadata": {
    "collapsed": true
   },
   "outputs": [],
   "source": []
  },
  {
   "cell_type": "code",
   "execution_count": 598,
   "metadata": {},
   "outputs": [
    {
     "data": {
      "text/html": [
       "<div>\n",
       "<style>\n",
       "    .dataframe thead tr:only-child th {\n",
       "        text-align: right;\n",
       "    }\n",
       "\n",
       "    .dataframe thead th {\n",
       "        text-align: left;\n",
       "    }\n",
       "\n",
       "    .dataframe tbody tr th {\n",
       "        vertical-align: top;\n",
       "    }\n",
       "</style>\n",
       "<table border=\"1\" class=\"dataframe\">\n",
       "  <thead>\n",
       "    <tr style=\"text-align: right;\">\n",
       "      <th></th>\n",
       "      <th>actual</th>\n",
       "      <th>pred</th>\n",
       "      <th>rolling5</th>\n",
       "      <th>residual</th>\n",
       "      <th>residual2</th>\n",
       "      <th>abs_res</th>\n",
       "      <th>abs_res2</th>\n",
       "    </tr>\n",
       "  </thead>\n",
       "  <tbody>\n",
       "    <tr>\n",
       "      <th>count</th>\n",
       "      <td>234.000</td>\n",
       "      <td>234.000</td>\n",
       "      <td>234.000</td>\n",
       "      <td>234.000</td>\n",
       "      <td>234.000</td>\n",
       "      <td>234.000</td>\n",
       "      <td>234.000</td>\n",
       "    </tr>\n",
       "    <tr>\n",
       "      <th>mean</th>\n",
       "      <td>9.137</td>\n",
       "      <td>9.495</td>\n",
       "      <td>9.038</td>\n",
       "      <td>-0.358</td>\n",
       "      <td>0.098</td>\n",
       "      <td>3.090</td>\n",
       "      <td>3.363</td>\n",
       "    </tr>\n",
       "    <tr>\n",
       "      <th>std</th>\n",
       "      <td>4.653</td>\n",
       "      <td>2.702</td>\n",
       "      <td>2.197</td>\n",
       "      <td>3.909</td>\n",
       "      <td>4.264</td>\n",
       "      <td>2.412</td>\n",
       "      <td>2.614</td>\n",
       "    </tr>\n",
       "    <tr>\n",
       "      <th>min</th>\n",
       "      <td>0.000</td>\n",
       "      <td>2.876</td>\n",
       "      <td>2.000</td>\n",
       "      <td>-9.863</td>\n",
       "      <td>-11.000</td>\n",
       "      <td>0.003</td>\n",
       "      <td>0.000</td>\n",
       "    </tr>\n",
       "    <tr>\n",
       "      <th>25%</th>\n",
       "      <td>6.000</td>\n",
       "      <td>7.468</td>\n",
       "      <td>8.000</td>\n",
       "      <td>-2.848</td>\n",
       "      <td>-3.000</td>\n",
       "      <td>1.203</td>\n",
       "      <td>1.000</td>\n",
       "    </tr>\n",
       "    <tr>\n",
       "      <th>50%</th>\n",
       "      <td>9.000</td>\n",
       "      <td>9.152</td>\n",
       "      <td>9.000</td>\n",
       "      <td>-0.457</td>\n",
       "      <td>0.000</td>\n",
       "      <td>2.482</td>\n",
       "      <td>3.000</td>\n",
       "    </tr>\n",
       "    <tr>\n",
       "      <th>75%</th>\n",
       "      <td>12.000</td>\n",
       "      <td>11.549</td>\n",
       "      <td>10.000</td>\n",
       "      <td>2.275</td>\n",
       "      <td>3.000</td>\n",
       "      <td>4.318</td>\n",
       "      <td>5.000</td>\n",
       "    </tr>\n",
       "    <tr>\n",
       "      <th>max</th>\n",
       "      <td>25.000</td>\n",
       "      <td>15.992</td>\n",
       "      <td>15.000</td>\n",
       "      <td>11.031</td>\n",
       "      <td>14.000</td>\n",
       "      <td>11.031</td>\n",
       "      <td>14.000</td>\n",
       "    </tr>\n",
       "  </tbody>\n",
       "</table>\n",
       "</div>"
      ],
      "text/plain": [
       "       actual    pred  rolling5  residual  residual2  abs_res  abs_res2\n",
       "count 234.000 234.000   234.000   234.000    234.000  234.000   234.000\n",
       "mean    9.137   9.495     9.038    -0.358      0.098    3.090     3.363\n",
       "std     4.653   2.702     2.197     3.909      4.264    2.412     2.614\n",
       "min     0.000   2.876     2.000    -9.863    -11.000    0.003     0.000\n",
       "25%     6.000   7.468     8.000    -2.848     -3.000    1.203     1.000\n",
       "50%     9.000   9.152     9.000    -0.457      0.000    2.482     3.000\n",
       "75%    12.000  11.549    10.000     2.275      3.000    4.318     5.000\n",
       "max    25.000  15.992    15.000    11.031     14.000   11.031    14.000"
      ]
     },
     "execution_count": 598,
     "metadata": {},
     "output_type": "execute_result"
    }
   ],
   "source": [
    "dataframe.sort_values(['abs_res']).describe()"
   ]
  },
  {
   "cell_type": "code",
   "execution_count": 639,
   "metadata": {},
   "outputs": [],
   "source": [
    "def averagingModels(X, train, labels, models=[]):\n",
    "    for model in models:\n",
    "        model.fit(train, labels)\n",
    "    predictions = np.column_stack([\n",
    "        model.predict(X) for model in models\n",
    "    ])\n",
    "    return np.mean(predictions, axis=1)\n"
   ]
  },
  {
   "cell_type": "code",
   "execution_count": null,
   "metadata": {
    "collapsed": true
   },
   "outputs": [],
   "source": [
    "test_y = averagingModels(ytest, Xtrain, ytrain, [GBoost, lasso, ENet])"
   ]
  },
  {
   "cell_type": "code",
   "execution_count": 202,
   "metadata": {},
   "outputs": [
    {
     "data": {
      "text/plain": [
       "<matplotlib.axes._subplots.AxesSubplot at 0x10cde22b0>"
      ]
     },
     "execution_count": 202,
     "metadata": {},
     "output_type": "execute_result"
    },
    {
     "data": {
      "image/png": "[encoded data removed]",
      "text/plain": [
       "<Figure size 432x288 with 1 Axes>"
      ]
     },
     "metadata": {},
     "output_type": "display_data"
    }
   ],
   "source": [
    "sns.scatterplot(x=ytest, y=predictions)"
   ]
  },
  {
   "cell_type": "code",
   "execution_count": 183,
   "metadata": {},
   "outputs": [
    {
     "data": {
      "text/html": [
       "<div>\n",
       "<style>\n",
       "    .dataframe thead tr:only-child th {\n",
       "        text-align: right;\n",
       "    }\n",
       "\n",
       "    .dataframe thead th {\n",
       "        text-align: left;\n",
       "    }\n",
       "\n",
       "    .dataframe tbody tr th {\n",
       "        vertical-align: top;\n",
       "    }\n",
       "</style>\n",
       "<table border=\"1\" class=\"dataframe\">\n",
       "  <thead>\n",
       "    <tr style=\"text-align: right;\">\n",
       "      <th></th>\n",
       "      <th>Kicker_Pts</th>\n",
       "    </tr>\n",
       "  </thead>\n",
       "  <tbody>\n",
       "    <tr>\n",
       "      <th>Kicker_Pts_rolling5</th>\n",
       "      <td>0.445654</td>\n",
       "    </tr>\n",
       "    <tr>\n",
       "      <th>DEF_Kicker_Pts_rolling5</th>\n",
       "      <td>0.445184</td>\n",
       "    </tr>\n",
       "    <tr>\n",
       "      <th>DEF_FieldGoalGood_rolling5</th>\n",
       "      <td>0.331577</td>\n",
       "    </tr>\n",
       "    <tr>\n",
       "      <th>FieldGoalGood_rolling5</th>\n",
       "      <td>0.289653</td>\n",
       "    </tr>\n",
       "    <tr>\n",
       "      <th>DEF_PointsScored_rolling5</th>\n",
       "      <td>0.242648</td>\n",
       "    </tr>\n",
       "    <tr>\n",
       "      <th>DEF_FG_40_rolling5</th>\n",
       "      <td>0.220711</td>\n",
       "    </tr>\n",
       "    <tr>\n",
       "      <th>PointsScored_rolling5</th>\n",
       "      <td>0.213869</td>\n",
       "    </tr>\n",
       "    <tr>\n",
       "      <th>FG_30_rolling5</th>\n",
       "      <td>0.196601</td>\n",
       "    </tr>\n",
       "    <tr>\n",
       "      <th>FG_40_rolling5</th>\n",
       "      <td>0.193731</td>\n",
       "    </tr>\n",
       "    <tr>\n",
       "      <th>DEF_FG_30_rolling5</th>\n",
       "      <td>0.171794</td>\n",
       "    </tr>\n",
       "    <tr>\n",
       "      <th>DEF_ExPointGood_rolling5</th>\n",
       "      <td>0.132538</td>\n",
       "    </tr>\n",
       "  </tbody>\n",
       "</table>\n",
       "</div>"
      ],
      "text/plain": [
       "                            Kicker_Pts\n",
       "Kicker_Pts_rolling5           0.445654\n",
       "DEF_Kicker_Pts_rolling5       0.445184\n",
       "DEF_FieldGoalGood_rolling5    0.331577\n",
       "FieldGoalGood_rolling5        0.289653\n",
       "DEF_PointsScored_rolling5     0.242648\n",
       "DEF_FG_40_rolling5            0.220711\n",
       "PointsScored_rolling5         0.213869\n",
       "FG_30_rolling5                0.196601\n",
       "FG_40_rolling5                0.193731\n",
       "DEF_FG_30_rolling5            0.171794\n",
       "DEF_ExPointGood_rolling5      0.132538"
      ]
     },
     "execution_count": 183,
     "metadata": {},
     "output_type": "execute_result"
    }
   ],
   "source": [
    "corrmat = pd.DataFrame(X.corr()['Kicker_Pts'])\n",
    "corrmat.sort_values('Kicker_Pts', ascending=False)[1:12]"
   ]
  },
  {
   "cell_type": "code",
   "execution_count": 156,
   "metadata": {},
   "outputs": [
    {
     "name": "stdout",
     "output_type": "stream",
     "text": [
      "Mean Absolute Error: 3.12\n"
     ]
    }
   ],
   "source": [
    "predictions = rf.predict(Xtest)\n",
    "errors = abs(predictions - ytest)\n",
    "print('Mean Absolute Error:', round(np.mean(errors), 2))"
   ]
  },
  {
   "cell_type": "code",
   "execution_count": 316,
   "metadata": {
    "collapsed": true
   },
   "outputs": [],
   "source": [
    "dataframe = pd.DataFrame({'actual': ytest, 'pred': predictions, 'rolling5': rolling_kicks})\n",
    "dataframe['residual'] = dataframe['actual'] - dataframe['pred']\n",
    "dataframe['residual2'] = dataframe['actual'] - dataframe['rolling5']"
   ]
  },
  {
   "cell_type": "code",
   "execution_count": 319,
   "metadata": {},
   "outputs": [
    {
     "name": "stdout",
     "output_type": "stream",
     "text": [
      "3.2403504273504304\n",
      "3.452991452991453\n"
     ]
    }
   ],
   "source": [
    "print( abs(dataframe['residual']).mean() )\n",
    "print( abs(dataframe['residual2']).mean() )"
   ]
  },
  {
   "cell_type": "code",
   "execution_count": 595,
   "metadata": {},
   "outputs": [
    {
     "data": {
      "image/png": "[encoded data removed]",
      "text/plain": [
       "<Figure size 1152x432 with 2 Axes>"
      ]
     },
     "metadata": {},
     "output_type": "display_data"
    }
   ],
   "source": [
    "corr = X.corr()['Kicker_Pts']\n",
    "\n",
    "corr_rank = corr.sort_values(ascending=False)\n",
    "\n",
    "corr_rank_high = corr_rank[1:25]\n",
    "corr_rank_low = corr_rank[-25:]\n",
    "\n",
    "plt.subplots(figsize=(16,6))\n",
    "\n",
    "plt.subplot(1, 2, 1)\n",
    "highCorrs = corr_rank_high.sort_values(ascending=True)\n",
    "highCorrs.plot(kind='barh')\n",
    "plt.title('Top 25 correlated predictor variables with target')\n",
    "\n",
    "plt.subplot(1, 2, 2)\n",
    "inverseCorrs = corr_rank_low.sort_values(ascending=False)\n",
    "inverseCorrs.plot(kind='barh')\n",
    "plt.title('Bottom 25 correlated predictor variables with target');"
   ]
  },
  {
   "cell_type": "code",
   "execution_count": 343,
   "metadata": {},
   "outputs": [
    {
     "data": {
      "text/plain": [
       "484"
      ]
     },
     "execution_count": 343,
     "metadata": {},
     "output_type": "execute_result"
    }
   ],
   "source": [
    "len(X)\n",
    "# 'Def_Kicker_Pts_rolling5', 'Kicker_Pts_rolling5', 'DEF_PointsScored_rolling5',\n",
    "'PointsScored_rolling5', 'Yards.Gained_rolling5', 'DEF_Yards.Gained_rolling5', \n",
    "'DEF_Touchdown_rolling5', 'Touchdown_rolling5', 'DEF_FieldGoalGood_rolling5', \n",
    "'FieldGoalGood_rolling5', 'Total', 'Relative_Line', 'wind_mph', 'humidity', 'Exp_Pts'\n",
    "'RZ_per_drive', 'DEF_RZ_per_drive', ''"
   ]
  },
  {
   "cell_type": "code",
   "execution_count": 294,
   "metadata": {
    "collapsed": true
   },
   "outputs": [],
   "source": [
    "test_list = []\n",
    "pred_list = []\n",
    "rank_list = []\n",
    "\n",
    "for i in range(0,9):\n",
    "    test_list.append(ytest[26*i:26*(1+i)])\n",
    "    pred_list.append(predictions[26*i:26*(1+i)])\n",
    "    \n",
    "    test_rank = pd.DataFrame(test_list[i]).rank()\n",
    "    pred_rank = pd.DataFrame(pred_list[i]).rank()\n",
    "\n",
    "    ranks = pd.concat([test_rank.reset_index(drop=True), pred_rank.reset_index(drop=True)], axis=1)\n",
    "    ranks.columns = ['test_rank', 'pred_rank']\n",
    "    ranks['pred_rank']=ranks['pred_rank'].astype('int64')\n",
    "    ranks['residual'] = ranks['test_rank']-ranks['pred_rank']\n",
    "    rank_list.append(ranks)\n",
    "    \n",
    "rank_df = pd.concat(rank_list)"
   ]
  },
  {
   "cell_type": "code",
   "execution_count": 295,
   "metadata": {},
   "outputs": [],
   "source": [
    "rank_resids = []\n",
    "\n",
    "for _ in rank_list:\n",
    "    abs_res = abs(_['residual']).mean()\n",
    "    rank_resids.append(abs_res)\n",
    "    "
   ]
  },
  {
   "cell_type": "code",
   "execution_count": 254,
   "metadata": {},
   "outputs": [
    {
     "data": {
      "text/plain": [
       "2018"
      ]
     },
     "execution_count": 254,
     "metadata": {},
     "output_type": "execute_result"
    }
   ],
   "source": [
    "len(all_data['mergeCode'])\n",
    "len(vegas_stats['mergeCode'])"
   ]
  },
  {
   "cell_type": "code",
   "execution_count": 257,
   "metadata": {},
   "outputs": [
    {
     "name": "stdout",
     "output_type": "stream",
     "text": [
      "weather: 2238 vegas: 2015\n",
      "symmetric diff: 2387\n",
      "intersection: 933\n"
     ]
    }
   ],
   "source": [
    "'''mergecodes = pd.DataFrame({'weather':all_data['mergeCode'], \n",
    "                           'vegas/fantasy':vegas_stats['mergeCode']})'''\n",
    "\n",
    "\n",
    "weather = set(all_data['mergeCode'].values)\n",
    "vegas = set(vegas_stats['mergeCode'].values)\n",
    "\n",
    "print('weather:', len(weather), 'vegas:', len(vegas))\n",
    "\n",
    "sd = weather.symmetric_difference(vegas)\n",
    "intersect = weather.intersection(vegas)\n",
    "\n",
    "print('symmetric diff:', len(sd))\n",
    "print('intersection:', len(intersect))\n"
   ]
  },
  {
   "cell_type": "code",
   "execution_count": 267,
   "metadata": {},
   "outputs": [],
   "source": [
    "mergecodes = pd.DataFrame(list(sd))\n",
    "mergecodes['team'] = mergecodes[0].str[-3:].str.lstrip('-')"
   ]
  },
  {
   "cell_type": "code",
   "execution_count": 338,
   "metadata": {},
   "outputs": [
    {
     "data": {
      "text/html": [
       "<div>\n",
       "<style>\n",
       "    .dataframe thead tr:only-child th {\n",
       "        text-align: right;\n",
       "    }\n",
       "\n",
       "    .dataframe thead th {\n",
       "        text-align: left;\n",
       "    }\n",
       "\n",
       "    .dataframe tbody tr th {\n",
       "        vertical-align: top;\n",
       "    }\n",
       "</style>\n",
       "<table border=\"1\" class=\"dataframe\">\n",
       "  <thead>\n",
       "    <tr style=\"text-align: right;\">\n",
       "      <th></th>\n",
       "      <th>offenseTeam</th>\n",
       "      <th>defenseTeam</th>\n",
       "      <th>off_score</th>\n",
       "      <th>def_score</th>\n",
       "      <th>temperature</th>\n",
       "      <th>wind_chill</th>\n",
       "      <th>humidity</th>\n",
       "      <th>wind_mph</th>\n",
       "      <th>date</th>\n",
       "      <th>Season</th>\n",
       "      <th>home_team</th>\n",
       "      <th>mergeCode</th>\n",
       "    </tr>\n",
       "  </thead>\n",
       "  <tbody>\n",
       "    <tr>\n",
       "      <th>0</th>\n",
       "      <td>ARI</td>\n",
       "      <td>ATL</td>\n",
       "      <td>30</td>\n",
       "      <td>24</td>\n",
       "      <td>72</td>\n",
       "      <td>0.0</td>\n",
       "      <td>60.0</td>\n",
       "      <td>0.0</td>\n",
       "      <td>01/03</td>\n",
       "      <td>2009</td>\n",
       "      <td>ARI</td>\n",
       "      <td>2009-01/03-ARI</td>\n",
       "    </tr>\n",
       "    <tr>\n",
       "      <th>1</th>\n",
       "      <td>SD</td>\n",
       "      <td>IND</td>\n",
       "      <td>23</td>\n",
       "      <td>17</td>\n",
       "      <td>54</td>\n",
       "      <td>0.0</td>\n",
       "      <td>78.0</td>\n",
       "      <td>7.0</td>\n",
       "      <td>01/03</td>\n",
       "      <td>2009</td>\n",
       "      <td>SD</td>\n",
       "      <td>2009-01/03-SD</td>\n",
       "    </tr>\n",
       "    <tr>\n",
       "      <th>2</th>\n",
       "      <td>MIN</td>\n",
       "      <td>PHI</td>\n",
       "      <td>14</td>\n",
       "      <td>26</td>\n",
       "      <td>72</td>\n",
       "      <td>0.0</td>\n",
       "      <td>60.0</td>\n",
       "      <td>0.0</td>\n",
       "      <td>01/04</td>\n",
       "      <td>2009</td>\n",
       "      <td>MIN</td>\n",
       "      <td>2009-01/04-MIN</td>\n",
       "    </tr>\n",
       "    <tr>\n",
       "      <th>3</th>\n",
       "      <td>MIA</td>\n",
       "      <td>BAL</td>\n",
       "      <td>9</td>\n",
       "      <td>27</td>\n",
       "      <td>74</td>\n",
       "      <td>0.0</td>\n",
       "      <td>72.0</td>\n",
       "      <td>10.0</td>\n",
       "      <td>01/04</td>\n",
       "      <td>2009</td>\n",
       "      <td>MIA</td>\n",
       "      <td>2009-01/04-MIA</td>\n",
       "    </tr>\n",
       "    <tr>\n",
       "      <th>4</th>\n",
       "      <td>TEN</td>\n",
       "      <td>BAL</td>\n",
       "      <td>10</td>\n",
       "      <td>13</td>\n",
       "      <td>53</td>\n",
       "      <td>0.0</td>\n",
       "      <td>68.0</td>\n",
       "      <td>12.0</td>\n",
       "      <td>01/10</td>\n",
       "      <td>2009</td>\n",
       "      <td>TEN</td>\n",
       "      <td>2009-01/10-TEN</td>\n",
       "    </tr>\n",
       "  </tbody>\n",
       "</table>\n",
       "</div>"
      ],
      "text/plain": [
       "  offenseTeam defenseTeam  off_score  def_score  temperature  wind_chill  \\\n",
       "0         ARI         ATL         30         24           72         0.0   \n",
       "1          SD         IND         23         17           54         0.0   \n",
       "2         MIN         PHI         14         26           72         0.0   \n",
       "3         MIA         BAL          9         27           74         0.0   \n",
       "4         TEN         BAL         10         13           53         0.0   \n",
       "\n",
       "   humidity  wind_mph   date Season home_team       mergeCode  \n",
       "0      60.0       0.0  01/03   2009       ARI  2009-01/03-ARI  \n",
       "1      78.0       7.0  01/03   2009        SD   2009-01/03-SD  \n",
       "2      60.0       0.0  01/04   2009       MIN  2009-01/04-MIN  \n",
       "3      72.0      10.0  01/04   2009       MIA  2009-01/04-MIA  \n",
       "4      68.0      12.0  01/10   2009       TEN  2009-01/10-TEN  "
      ]
     },
     "execution_count": 338,
     "metadata": {},
     "output_type": "execute_result"
    }
   ],
   "source": [
    "all_data.head()"
   ]
  },
  {
   "cell_type": "code",
   "execution_count": 344,
   "metadata": {},
   "outputs": [
    {
     "data": {
      "text/plain": [
       "LinearRegression(copy_X=True, fit_intercept=True, n_jobs=1, normalize=False)"
      ]
     },
     "execution_count": 344,
     "metadata": {},
     "output_type": "execute_result"
    }
   ],
   "source": [
    "from sklearn.linear_model import LinearRegression\n",
    "\n",
    "lin_reg = LinearRegression()\n",
    "lin_reg.fit(Xtrain, ytrain)"
   ]
  },
  {
   "cell_type": "code",
   "execution_count": 345,
   "metadata": {
    "collapsed": true
   },
   "outputs": [],
   "source": [
    "preds_LR = lin_reg.predict(Xtest)"
   ]
  },
  {
   "cell_type": "code",
   "execution_count": 346,
   "metadata": {},
   "outputs": [
    {
     "name": "stdout",
     "output_type": "stream",
     "text": [
      "15.071123244701317 ,  3.8821544591503976\n"
     ]
    }
   ],
   "source": [
    "from sklearn.metrics import mean_squared_error\n",
    "\n",
    "lin_mse = mean_squared_error(ytest, preds_LR)\n",
    "lin_rmse = np.sqrt(lin_mse)\n",
    "print(lin_mse, ', ', lin_rmse)"
   ]
  },
  {
   "cell_type": "code",
   "execution_count": 350,
   "metadata": {},
   "outputs": [
    {
     "data": {
      "text/plain": [
       "3.159798893336429"
      ]
     },
     "execution_count": 350,
     "metadata": {},
     "output_type": "execute_result"
    }
   ],
   "source": [
    "abs(ytest-predictions).mean()\n",
    "abs(ytest-preds_LR).mean()"
   ]
  },
  {
   "cell_type": "code",
   "execution_count": null,
   "metadata": {
    "collapsed": true
   },
   "outputs": [],
   "source": []
  }
 ],
 "metadata": {
  "kernelspec": {
   "display_name": "Python 3",
   "language": "python",
   "name": "python3"
  },
  "language_info": {
   "codemirror_mode": {
    "name": "ipython",
    "version": 3
   },
   "file_extension": ".py",
   "mimetype": "text/x-python",
   "name": "python",
   "nbconvert_exporter": "python",
   "pygments_lexer": "ipython3",
   "version": "3.6.3"
  }
 },
 "nbformat": 4,
 "nbformat_minor": 2
}
